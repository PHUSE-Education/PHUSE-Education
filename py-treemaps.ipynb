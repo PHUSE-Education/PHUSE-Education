{
 "cells": [
  {
   "cell_type": "markdown",
   "metadata": {},
   "source": [
    "# Data Visualization: Implementation of treemaps in R and Python\n",
    "#### Author: Alexander Ullmann"
   ]
  },
  {
   "cell_type": "markdown",
   "metadata": {},
   "source": [
    "## Outline\n",
    "1. Introduction to treemaps\n",
    "2. Quality of Life Categorical Data\n",
    "3. Implementation in R\n",
    "4. (Implementation in SAS)\n",
    "5. Implementation in Python\n",
    "6. Comparison of different implementation methods\n",
    "7. Exercises"
   ]
  },
  {
   "cell_type": "markdown",
   "metadata": {},
   "source": [
    "## 1. Introduction to treemaps\n",
    "In information visualization and computing, treemapping is a method for displaying hierarchical data using nested figures, usually rectangles. The rectangles represent areas proportional to specified dimensions of the data. Often the leaf nodes are colored to show a separate dimension of the data. [source: wikipedia/Treemapping](https://en.wikipedia.org/wiki/Treemapping). \n",
    "<br>\n",
    "<br>\n",
    "In this tutorial we want to show you how to build treemaps in `R` and `Python`. We will be using data from a questionnaire regarding the satisfaction with quality of life. Similar kind of data is often found in clinical research where focus on life quality and satisfaction after a medical procedure or medication regime is of interest.\n",
    "<br>\n",
    "***\n",
    "The basic idea of our approach is to give an efficient visual overview of the data. The aim is to provide a first comprehensive look at the distribution of an outcome variable in this case a pseudo-continuous (on Likert-Scale) over different subgroup variables which are categorical in nature. From there a more sophisticated analysis could be made for example with regression models and alike.\n",
    "***"
   ]
  },
  {
   "cell_type": "markdown",
   "metadata": {},
   "source": [
    "## 2. Quality of Life Categorical Data\n",
    "\n",
    "The data which we will use is provided by GESIS - Leibniz-Institut für Sozialwissenschaften (2016): German General Social Survey - ALLBUS 2014. GESIS Datenarchiv, Köln. ZA5242 Datenfile Version 1.0.0, http://dx.doi.org/10.4232/1.12437. This data set was put online by the PSI Organisation within the [Wonderful Wednesdays Workshops](https://www.psiweb.org/sigs-special-interest-groups/visualisation/welcome-to-wonderful-wednesdays). This data is publicly available and made free for usage in their [github repository](https://github.com/VIS-SIG/Wonderful-Wednesdays/tree/master/data/2020/2020-05-13) under the CC0 1.0 Universal license. \n",
    "<br>\n",
    "<br>\n",
    "\n",
    "The primary end point was overall satisfaction with life.\n",
    "<br>\n",
    "<br>\n",
    "\n",
    "### Question to participants was:\n",
    "* How would you rate your satisfaction with your life overall on a scale from 0-10? (10=completely satisfied)\n",
    "<br>\n",
    "<br>\n",
    "\n",
    "### Categorical variables that were also collected:\n",
    "* Age\n",
    "* BMI\n",
    "* Working hours\n",
    "* Doctor visits per year\n",
    "* Net income\n",
    "* Smoker\n",
    "* Gender\n",
    "* Employment status\n",
    "* Graduation\n",
    "* Graduation of father\n",
    "* Graduation of mother\n",
    "* Highest educational grade (f=father/m=mother)\n",
    "<br>\n",
    "<br>\n",
    "\n",
    "### Aim: What are the most relevant factors for quality of life/satisfaction in life? \n",
    "We want to provide a first graphical overview for the data that might facilitate a further analysis to answer this question. A deep dive into statistical modeling of the data is not intended to be part of this tutorial. "
   ]
  },
  {
   "cell_type": "markdown",
   "metadata": {},
   "source": [
    "## 3. (Implementation in SAS)\n",
    "When it comes to SAS and treemaps there is no easy to use solution in SAS® Base. But there is the possibility to work with [SAS Visual Analytics](https://documentation.sas.com/?docsetId=vaobj&docsetTarget=p0cvtwmyn64desn1w721b6u8tzur.htm&docsetVersion=8.1&locale=en) and create treemaps with that. Note that this software comes with a price and may therefore be not easily accessible throughout the departments at your company and in your private work environment.\n"
   ]
  },
  {
   "cell_type": "markdown",
   "metadata": {},
   "source": [
    "## 4. Implementation in Python\n",
    "For the following code to work you should switch your Jupyter Kernel from `R` to `Python`. We are using `Python 3`."
   ]
  },
  {
   "cell_type": "markdown",
   "metadata": {},
   "source": [
    "You can use Anaconda Navigator to install packages for your environment. Make sure that your kernel/python environment has the packages installed. Alternatively use the anaconda prompt to install packages like this: \n",
    "* activate the environment (for example if your environment for the Python Kernel is named \"my_python_env\"): conda activate my_python_env.\n",
    "* pip install pandas\n",
    "* pip install matplotlib\n",
    "* pip install plotly\n",
    "\n",
    "### Load the packages"
   ]
  },
  {
   "cell_type": "code",
   "execution_count": 2,
   "metadata": {
    "scrolled": true
   },
   "outputs": [
    {
     "ename": "ModuleNotFoundError",
     "evalue": "No module named 'plotly'",
     "output_type": "error",
     "traceback": [
      "\u001b[0;31m---------------------------------------------------------------------------\u001b[0m",
      "\u001b[0;31mModuleNotFoundError\u001b[0m                       Traceback (most recent call last)",
      "\u001b[0;32m<ipython-input-2-195c684c3696>\u001b[0m in \u001b[0;36m<module>\u001b[0;34m\u001b[0m\n\u001b[1;32m      4\u001b[0m \u001b[0;32mimport\u001b[0m \u001b[0mmatplotlib\u001b[0m\u001b[0;34m.\u001b[0m\u001b[0mpyplot\u001b[0m \u001b[0;32mas\u001b[0m \u001b[0mplt\u001b[0m\u001b[0;34m\u001b[0m\u001b[0;34m\u001b[0m\u001b[0m\n\u001b[1;32m      5\u001b[0m \u001b[0;32mimport\u001b[0m \u001b[0mpandas\u001b[0m \u001b[0;32mas\u001b[0m \u001b[0mpd\u001b[0m\u001b[0;34m\u001b[0m\u001b[0;34m\u001b[0m\u001b[0m\n\u001b[0;32m----> 6\u001b[0;31m \u001b[0;32mimport\u001b[0m \u001b[0mplotly\u001b[0m \u001b[0;32mas\u001b[0m \u001b[0mpl\u001b[0m\u001b[0;34m\u001b[0m\u001b[0;34m\u001b[0m\u001b[0m\n\u001b[0m\u001b[1;32m      7\u001b[0m \u001b[0;32mimport\u001b[0m \u001b[0mplotly\u001b[0m\u001b[0;34m.\u001b[0m\u001b[0mexpress\u001b[0m \u001b[0;32mas\u001b[0m \u001b[0mpx\u001b[0m\u001b[0;34m\u001b[0m\u001b[0;34m\u001b[0m\u001b[0m\n\u001b[1;32m      8\u001b[0m \u001b[0mget_ipython\u001b[0m\u001b[0;34m(\u001b[0m\u001b[0;34m)\u001b[0m\u001b[0;34m.\u001b[0m\u001b[0mrun_line_magic\u001b[0m\u001b[0;34m(\u001b[0m\u001b[0;34m'matplotlib'\u001b[0m\u001b[0;34m,\u001b[0m \u001b[0;34m'inline'\u001b[0m\u001b[0;34m)\u001b[0m\u001b[0;34m\u001b[0m\u001b[0;34m\u001b[0m\u001b[0m\n",
      "\u001b[0;31mModuleNotFoundError\u001b[0m: No module named 'plotly'"
     ]
    }
   ],
   "source": [
    "# load the packages\n",
    "from IPython.display import Image\n",
    "import matplotlib\n",
    "import matplotlib.pyplot as plt\n",
    "import pandas as pd\n",
    "import plotly.express as px\n",
    "%matplotlib inline"
   ]
  },
  {
   "cell_type": "markdown",
   "metadata": {},
   "source": [
    "#### Make more space for your plots, so you don't have a box with a scroll bar."
   ]
  },
  {
   "cell_type": "code",
   "execution_count": 2,
   "metadata": {},
   "outputs": [
    {
     "data": {
      "application/javascript": [
       "IPython.OutputArea.prototype._should_scroll = function(lines){\n",
       "    return false;\n",
       "}\n"
      ],
      "text/plain": [
       "<IPython.core.display.Javascript object>"
      ]
     },
     "metadata": {},
     "output_type": "display_data"
    }
   ],
   "source": [
    "%%javascript\n",
    "IPython.OutputArea.prototype._should_scroll = function(lines){\n",
    "    return false;\n",
    "}"
   ]
  },
  {
   "cell_type": "markdown",
   "metadata": {},
   "source": [
    "### Read the data + Data wrangling"
   ]
  },
  {
   "cell_type": "code",
   "execution_count": 4,
   "metadata": {},
   "outputs": [
    {
     "data": {
      "text/html": [
       "<div>\n",
       "<style scoped>\n",
       "    .dataframe tbody tr th:only-of-type {\n",
       "        vertical-align: middle;\n",
       "    }\n",
       "\n",
       "    .dataframe tbody tr th {\n",
       "        vertical-align: top;\n",
       "    }\n",
       "\n",
       "    .dataframe thead th {\n",
       "        text-align: right;\n",
       "    }\n",
       "</style>\n",
       "<table border=\"1\" class=\"dataframe\">\n",
       "  <thead>\n",
       "    <tr style=\"text-align: right;\">\n",
       "      <th></th>\n",
       "      <th>Unnamed: 0</th>\n",
       "      <th>ID</th>\n",
       "      <th>age</th>\n",
       "      <th>bmi</th>\n",
       "      <th>w_hours</th>\n",
       "      <th>todoctor</th>\n",
       "      <th>income</th>\n",
       "      <th>smoker</th>\n",
       "      <th>gender</th>\n",
       "      <th>employed</th>\n",
       "      <th>graduat</th>\n",
       "      <th>graduat_f</th>\n",
       "      <th>graduat_m</th>\n",
       "      <th>high_grad</th>\n",
       "      <th>high_grad_f</th>\n",
       "      <th>high_grad_m</th>\n",
       "      <th>satisfaction</th>\n",
       "    </tr>\n",
       "  </thead>\n",
       "  <tbody>\n",
       "    <tr>\n",
       "      <th>0</th>\n",
       "      <td>1</td>\n",
       "      <td>1359</td>\n",
       "      <td>&gt;40</td>\n",
       "      <td>&gt;30</td>\n",
       "      <td>missing</td>\n",
       "      <td>&lt;6 visits</td>\n",
       "      <td>&lt;1000</td>\n",
       "      <td>Y</td>\n",
       "      <td>female</td>\n",
       "      <td>non-working</td>\n",
       "      <td>secondary school</td>\n",
       "      <td>secondary school</td>\n",
       "      <td>university entrance</td>\n",
       "      <td>apprenticeship</td>\n",
       "      <td>industrial/agric. teaching</td>\n",
       "      <td>master craftman</td>\n",
       "      <td>10</td>\n",
       "    </tr>\n",
       "    <tr>\n",
       "      <th>1</th>\n",
       "      <td>2</td>\n",
       "      <td>2455</td>\n",
       "      <td>&gt;40</td>\n",
       "      <td>&lt;=30</td>\n",
       "      <td>&lt;35h</td>\n",
       "      <td>&lt;6 visits</td>\n",
       "      <td>&lt;1000</td>\n",
       "      <td>N</td>\n",
       "      <td>female</td>\n",
       "      <td>regular half-time</td>\n",
       "      <td>secondary school</td>\n",
       "      <td>elementary school</td>\n",
       "      <td>elementary school</td>\n",
       "      <td>apprenticeship</td>\n",
       "      <td>master craftman</td>\n",
       "      <td>commercial teaching</td>\n",
       "      <td>9</td>\n",
       "    </tr>\n",
       "    <tr>\n",
       "      <th>2</th>\n",
       "      <td>3</td>\n",
       "      <td>200</td>\n",
       "      <td>30-40</td>\n",
       "      <td>&gt;30</td>\n",
       "      <td>missing</td>\n",
       "      <td>&lt;6 visits</td>\n",
       "      <td>missing</td>\n",
       "      <td>N</td>\n",
       "      <td>male</td>\n",
       "      <td>non-working</td>\n",
       "      <td>university entrance</td>\n",
       "      <td>university entrance</td>\n",
       "      <td>university entrance</td>\n",
       "      <td>university degree</td>\n",
       "      <td>university degree</td>\n",
       "      <td>university degree</td>\n",
       "      <td>8</td>\n",
       "    </tr>\n",
       "    <tr>\n",
       "      <th>3</th>\n",
       "      <td>4</td>\n",
       "      <td>1280</td>\n",
       "      <td>&gt;40</td>\n",
       "      <td>&lt;=30</td>\n",
       "      <td>&gt;45h</td>\n",
       "      <td>&lt;6 visits</td>\n",
       "      <td>missing</td>\n",
       "      <td>N</td>\n",
       "      <td>male</td>\n",
       "      <td>regular full-time</td>\n",
       "      <td>tech.college entrance qual.</td>\n",
       "      <td>secondary school</td>\n",
       "      <td>secondary school</td>\n",
       "      <td>tech.college degree</td>\n",
       "      <td>commercial teaching</td>\n",
       "      <td>commercial teaching</td>\n",
       "      <td>8</td>\n",
       "    </tr>\n",
       "    <tr>\n",
       "      <th>4</th>\n",
       "      <td>5</td>\n",
       "      <td>2384</td>\n",
       "      <td>&lt;30</td>\n",
       "      <td>&lt;=30</td>\n",
       "      <td>missing</td>\n",
       "      <td>&lt;6 visits</td>\n",
       "      <td>missing</td>\n",
       "      <td>N</td>\n",
       "      <td>female</td>\n",
       "      <td>non-working</td>\n",
       "      <td>missing</td>\n",
       "      <td>secondary school</td>\n",
       "      <td>elementary school</td>\n",
       "      <td>missing</td>\n",
       "      <td>industrial/agric. teaching</td>\n",
       "      <td>industrial/agric. teaching</td>\n",
       "      <td>7</td>\n",
       "    </tr>\n",
       "  </tbody>\n",
       "</table>\n",
       "</div>"
      ],
      "text/plain": [
       "   Unnamed: 0    ID    age   bmi  w_hours   todoctor   income smoker  gender  \\\n",
       "0           1  1359    >40   >30  missing  <6 visits    <1000      Y  female   \n",
       "1           2  2455    >40  <=30     <35h  <6 visits    <1000      N  female   \n",
       "2           3   200  30-40   >30  missing  <6 visits  missing      N    male   \n",
       "3           4  1280    >40  <=30     >45h  <6 visits  missing      N    male   \n",
       "4           5  2384    <30  <=30  missing  <6 visits  missing      N  female   \n",
       "\n",
       "            employed                      graduat            graduat_f  \\\n",
       "0        non-working             secondary school     secondary school   \n",
       "1  regular half-time             secondary school    elementary school   \n",
       "2        non-working          university entrance  university entrance   \n",
       "3  regular full-time  tech.college entrance qual.     secondary school   \n",
       "4        non-working                      missing     secondary school   \n",
       "\n",
       "             graduat_m            high_grad                 high_grad_f  \\\n",
       "0  university entrance       apprenticeship  industrial/agric. teaching   \n",
       "1    elementary school       apprenticeship             master craftman   \n",
       "2  university entrance    university degree           university degree   \n",
       "3     secondary school  tech.college degree         commercial teaching   \n",
       "4    elementary school              missing  industrial/agric. teaching   \n",
       "\n",
       "                  high_grad_m  satisfaction  \n",
       "0             master craftman            10  \n",
       "1         commercial teaching             9  \n",
       "2           university degree             8  \n",
       "3         commercial teaching             8  \n",
       "4  industrial/agric. teaching             7  "
      ]
     },
     "execution_count": 4,
     "metadata": {},
     "output_type": "execute_result"
    }
   ],
   "source": [
    "# read the data\n",
    "my_data = pd.read_csv(\"https://raw.githubusercontent.com/VIS-SIG/Wonderful-Wednesdays/master/data/2020/2020-05-13/Satisfaction_wW2005.csv\")\n",
    "\n",
    "# handle missings\n",
    "my_data = my_data.fillna(\"missing\")\n",
    "my_data = my_data.replace(to_replace = \".\", value = \"missing\")\n",
    "my_data.head()"
   ]
  },
  {
   "cell_type": "markdown",
   "metadata": {},
   "source": [
    "We want to use a simple and basic approach to manipulate the data\n",
    "as close to the R - code above as possible.  \n",
    "The interested reader is encouraged to implement a more elegant way.\n",
    "\n",
    "Define a function to calculate the `n`, `percent` and `mean` of satisfaction for a subgroup."
   ]
  },
  {
   "cell_type": "code",
   "execution_count": 5,
   "metadata": {},
   "outputs": [],
   "source": [
    "def summarizing(data, variables, labels, response, stat = \"mean\"):\n",
    "    df_results = pd.DataFrame() # empty dataframe to store end results\n",
    "    \n",
    "    for i in range(len(variables)):\n",
    "        df_var = data.groupby([variables[i]]).size() # get counts\n",
    "        df_percent = df_var/df_var.sum() # calc percentages\n",
    "        group_values = df_percent.axes[0].tolist() # capture the group levels\n",
    "        df_mean = data.groupby([variables[i]]).agg({response: stat}) # calculate mean  \n",
    "        df_temp = pd.concat([df_var, df_percent, df_mean], axis = 1).reset_index(drop=True) # column bind the data and remove the header column\n",
    "        df_temp[\"labels\"] = labels[i] # assign labels \n",
    "        df_temp[\"group\"] = group_values # assign group levels\n",
    "        df_results = pd.concat([df_temp, df_results]) # row bind the data to get end results\n",
    "        \n",
    "    return df_results"
   ]
  },
  {
   "cell_type": "code",
   "execution_count": 6,
   "metadata": {},
   "outputs": [
    {
     "data": {
      "text/html": [
       "<div>\n",
       "<style scoped>\n",
       "    .dataframe tbody tr th:only-of-type {\n",
       "        vertical-align: middle;\n",
       "    }\n",
       "\n",
       "    .dataframe tbody tr th {\n",
       "        vertical-align: top;\n",
       "    }\n",
       "\n",
       "    .dataframe thead th {\n",
       "        text-align: right;\n",
       "    }\n",
       "</style>\n",
       "<table border=\"1\" class=\"dataframe\">\n",
       "  <thead>\n",
       "    <tr style=\"text-align: right;\">\n",
       "      <th></th>\n",
       "      <th>N</th>\n",
       "      <th>Percentage</th>\n",
       "      <th>Mean of satisfaction</th>\n",
       "      <th>Labels</th>\n",
       "      <th>Group</th>\n",
       "    </tr>\n",
       "  </thead>\n",
       "  <tbody>\n",
       "    <tr>\n",
       "      <th>0</th>\n",
       "      <td>2784</td>\n",
       "      <td>0.803231</td>\n",
       "      <td>7.562141</td>\n",
       "      <td>BMI</td>\n",
       "      <td>&lt;=30</td>\n",
       "    </tr>\n",
       "    <tr>\n",
       "      <th>1</th>\n",
       "      <td>635</td>\n",
       "      <td>0.183208</td>\n",
       "      <td>7.538583</td>\n",
       "      <td>BMI</td>\n",
       "      <td>&gt;30</td>\n",
       "    </tr>\n",
       "    <tr>\n",
       "      <th>2</th>\n",
       "      <td>47</td>\n",
       "      <td>0.013560</td>\n",
       "      <td>7.404255</td>\n",
       "      <td>BMI</td>\n",
       "      <td>missing</td>\n",
       "    </tr>\n",
       "    <tr>\n",
       "      <th>0</th>\n",
       "      <td>604</td>\n",
       "      <td>0.174264</td>\n",
       "      <td>7.698675</td>\n",
       "      <td>Age</td>\n",
       "      <td>30-40</td>\n",
       "    </tr>\n",
       "    <tr>\n",
       "      <th>1</th>\n",
       "      <td>401</td>\n",
       "      <td>0.115695</td>\n",
       "      <td>7.613466</td>\n",
       "      <td>Age</td>\n",
       "      <td>&lt;30</td>\n",
       "    </tr>\n",
       "  </tbody>\n",
       "</table>\n",
       "</div>"
      ],
      "text/plain": [
       "      N  Percentage  Mean of satisfaction Labels    Group\n",
       "0  2784    0.803231              7.562141    BMI     <=30\n",
       "1   635    0.183208              7.538583    BMI      >30\n",
       "2    47    0.013560              7.404255    BMI  missing\n",
       "0   604    0.174264              7.698675    Age    30-40\n",
       "1   401    0.115695              7.613466    Age      <30"
      ]
     },
     "execution_count": 6,
     "metadata": {},
     "output_type": "execute_result"
    }
   ],
   "source": [
    "#apply the function to one subgroup to test it\n",
    "d_test = summarizing(data=my_data, \n",
    "                 variables=[\"age\", \"bmi\"],\n",
    "                 labels=[\"Age\", \"BMI\"],\n",
    "                 response=\"satisfaction\",\n",
    "                 stat=\"mean\")\n",
    "\n",
    "# rename columns\n",
    "d_test.columns = [\"N\", \"Percentage\", \"Mean of satisfaction\", \"Labels\", \"Group\"] \n",
    "d_test.head()"
   ]
  },
  {
   "cell_type": "code",
   "execution_count": 7,
   "metadata": {
    "scrolled": false
   },
   "outputs": [
    {
     "data": {
      "text/html": [
       "<div>\n",
       "<style scoped>\n",
       "    .dataframe tbody tr th:only-of-type {\n",
       "        vertical-align: middle;\n",
       "    }\n",
       "\n",
       "    .dataframe tbody tr th {\n",
       "        vertical-align: top;\n",
       "    }\n",
       "\n",
       "    .dataframe thead th {\n",
       "        text-align: right;\n",
       "    }\n",
       "</style>\n",
       "<table border=\"1\" class=\"dataframe\">\n",
       "  <thead>\n",
       "    <tr style=\"text-align: right;\">\n",
       "      <th></th>\n",
       "      <th>N</th>\n",
       "      <th>Percentage</th>\n",
       "      <th>Mean of satisfaction</th>\n",
       "      <th>Labels</th>\n",
       "      <th>Group</th>\n",
       "    </tr>\n",
       "  </thead>\n",
       "  <tbody>\n",
       "    <tr>\n",
       "      <th>0</th>\n",
       "      <td>760</td>\n",
       "      <td>0.219</td>\n",
       "      <td>7.655</td>\n",
       "      <td>Highest educational grade (mother)</td>\n",
       "      <td>commercial teaching</td>\n",
       "    </tr>\n",
       "    <tr>\n",
       "      <th>1</th>\n",
       "      <td>832</td>\n",
       "      <td>0.240</td>\n",
       "      <td>7.540</td>\n",
       "      <td>Highest educational grade (mother)</td>\n",
       "      <td>industrial/agric. teaching</td>\n",
       "    </tr>\n",
       "    <tr>\n",
       "      <th>2</th>\n",
       "      <td>148</td>\n",
       "      <td>0.043</td>\n",
       "      <td>7.703</td>\n",
       "      <td>Highest educational grade (mother)</td>\n",
       "      <td>master craftman</td>\n",
       "    </tr>\n",
       "    <tr>\n",
       "      <th>3</th>\n",
       "      <td>264</td>\n",
       "      <td>0.076</td>\n",
       "      <td>7.583</td>\n",
       "      <td>Highest educational grade (mother)</td>\n",
       "      <td>missing</td>\n",
       "    </tr>\n",
       "    <tr>\n",
       "      <th>4</th>\n",
       "      <td>1109</td>\n",
       "      <td>0.320</td>\n",
       "      <td>7.429</td>\n",
       "      <td>Highest educational grade (mother)</td>\n",
       "      <td>no degree</td>\n",
       "    </tr>\n",
       "    <tr>\n",
       "      <th>5</th>\n",
       "      <td>86</td>\n",
       "      <td>0.025</td>\n",
       "      <td>7.535</td>\n",
       "      <td>Highest educational grade (mother)</td>\n",
       "      <td>other degree</td>\n",
       "    </tr>\n",
       "    <tr>\n",
       "      <th>6</th>\n",
       "      <td>106</td>\n",
       "      <td>0.031</td>\n",
       "      <td>7.425</td>\n",
       "      <td>Highest educational grade (mother)</td>\n",
       "      <td>tech.college degree</td>\n",
       "    </tr>\n",
       "    <tr>\n",
       "      <th>7</th>\n",
       "      <td>161</td>\n",
       "      <td>0.046</td>\n",
       "      <td>7.957</td>\n",
       "      <td>Highest educational grade (mother)</td>\n",
       "      <td>university degree</td>\n",
       "    </tr>\n",
       "    <tr>\n",
       "      <th>0</th>\n",
       "      <td>231</td>\n",
       "      <td>0.067</td>\n",
       "      <td>7.593</td>\n",
       "      <td>Highest edu. grade (father)</td>\n",
       "      <td>commercial teaching</td>\n",
       "    </tr>\n",
       "    <tr>\n",
       "      <th>1</th>\n",
       "      <td>1491</td>\n",
       "      <td>0.430</td>\n",
       "      <td>7.436</td>\n",
       "      <td>Highest edu. grade (father)</td>\n",
       "      <td>industrial/agric. teaching</td>\n",
       "    </tr>\n",
       "  </tbody>\n",
       "</table>\n",
       "</div>"
      ],
      "text/plain": [
       "      N  Percentage  Mean of satisfaction                              Labels  \\\n",
       "0   760       0.219                 7.655  Highest educational grade (mother)   \n",
       "1   832       0.240                 7.540  Highest educational grade (mother)   \n",
       "2   148       0.043                 7.703  Highest educational grade (mother)   \n",
       "3   264       0.076                 7.583  Highest educational grade (mother)   \n",
       "4  1109       0.320                 7.429  Highest educational grade (mother)   \n",
       "5    86       0.025                 7.535  Highest educational grade (mother)   \n",
       "6   106       0.031                 7.425  Highest educational grade (mother)   \n",
       "7   161       0.046                 7.957  Highest educational grade (mother)   \n",
       "0   231       0.067                 7.593         Highest edu. grade (father)   \n",
       "1  1491       0.430                 7.436         Highest edu. grade (father)   \n",
       "\n",
       "                        Group  \n",
       "0         commercial teaching  \n",
       "1  industrial/agric. teaching  \n",
       "2             master craftman  \n",
       "3                     missing  \n",
       "4                   no degree  \n",
       "5                other degree  \n",
       "6         tech.college degree  \n",
       "7           university degree  \n",
       "0         commercial teaching  \n",
       "1  industrial/agric. teaching  "
      ]
     },
     "execution_count": 7,
     "metadata": {},
     "output_type": "execute_result"
    }
   ],
   "source": [
    "# create the data that we need to plotting, use all the variables that we have.\n",
    "d1 = summarizing(data=my_data, \n",
    "                 variables=[\"age\", \"bmi\", \"w_hours\", \"todoctor\", \"income\", \"smoker\", \"gender\", \"employed\",\n",
    "                           \"graduat\", \"graduat_f\", \"graduat_m\", \"high_grad\", \"high_grad_f\",\n",
    "                            \"high_grad_m\"],\n",
    "                 labels=[\"Age\", \"BMI\", \"Working hours\", \"Doctor visits per year\",\"Net income\", \"Smoker\", \"Gender\", \"Employment status\",\n",
    "                        \"Graduation\", \"Graduation of father\", \"Graduation of mother\", \"Highest edu. grade\", \"Highest edu. grade (father)\",\n",
    "                         \"Highest educational grade (mother)\"],\n",
    "                 response=\"satisfaction\",\n",
    "                 stat=\"mean\")\n",
    "\n",
    "# assign proper labels\n",
    "d1.columns = [\"N\", \"Percentage\", \"Mean of satisfaction\", \"Labels\", \"Group\"]\n",
    "# round numbers\n",
    "d1 = d1.round(3) \n",
    "d1.head(10)"
   ]
  },
  {
   "cell_type": "markdown",
   "metadata": {},
   "source": [
    "### Making the plot\n",
    "We will use the plotly module in python to create an interactive plot."
   ]
  },
  {
   "cell_type": "code",
   "execution_count": 20,
   "metadata": {},
   "outputs": [
    {
     "data": {
      "application/vnd.plotly.v1+json": {
       "config": {
        "plotlyServerURL": "https://plot.ly"
       },
       "data": [
        {
         "branchvalues": "total",
         "customdata": [
          [
           7.558
          ],
          [
           7.788
          ],
          [
           7.699000000000001
          ],
          [
           7.712
          ],
          [
           7.208000000000001
          ],
          [
           7.41
          ],
          [
           7.613
          ],
          [
           7.703
          ],
          [
           7.594
          ],
          [
           7.562000000000001
          ],
          [
           6.588000000000001
          ],
          [
           7.539000000000001
          ],
          [
           7.5120000000000005
          ],
          [
           7.583
          ],
          [
           7.791000000000001
          ],
          [
           7.748
          ],
          [
           7.096
          ],
          [
           7.411
          ],
          [
           7.593
          ],
          [
           7.655
          ],
          [
           7.372000000000001
          ],
          [
           7.411
          ],
          [
           7.475
          ],
          [
           7.48
          ],
          [
           7.436
          ],
          [
           7.54
          ],
          [
           7.626
          ],
          [
           7.574
          ],
          [
           7.59
          ],
          [
           7.703
          ],
          [
           7
          ],
          [
           7.404
          ],
          [
           8
          ],
          [
           9
          ],
          [
           7.395
          ],
          [
           7.618999999999999
          ],
          [
           7.529
          ],
          [
           7.5
          ],
          [
           7.609
          ],
          [
           7.583000000000001
          ],
          [
           7.5
          ],
          [
           6.333
          ],
          [
           7.397
          ],
          [
           7.466
          ],
          [
           7.425
          ],
          [
           7.22
          ],
          [
           7.545
          ],
          [
           7.465
          ],
          [
           7.429000000000001
          ],
          [
           7.399
          ],
          [
           7.6129999999999995
          ],
          [
           8.019
          ],
          [
           7.535
          ],
          [
           7.324
          ],
          [
           7.684000000000001
          ],
          [
           7.699
          ],
          [
           7.406
          ],
          [
           7.641
          ],
          [
           7.738
          ],
          [
           7.773000000000001
          ],
          [
           7.834
          ],
          [
           7.425
          ],
          [
           7.874
          ],
          [
           7.882000000000001
          ],
          [
           7.622
          ],
          [
           7.844
          ],
          [
           7.860000000000001
          ],
          [
           7.957000000000001
          ],
          [
           7.843
          ],
          [
           7.936
          ],
          [
           7.7589999999999995
          ],
          [
           7.555742
          ],
          [
           7.555579000000001
          ],
          [
           7.554986
          ],
          [
           7.556076000000001
          ],
          [
           7.555774
          ],
          [
           7.556318000000001
          ],
          [
           7.555667000000001
          ],
          [
           7.55541941941942
          ],
          [
           7.555743
          ],
          [
           7.555587
          ],
          [
           7.555434000000001
          ],
          [
           7.555700299700301
          ],
          [
           7.555549
          ],
          [
           7.555508491508491
          ]
         ],
         "domain": {
          "x": [
           0,
           1
          ],
          "y": [
           0,
           1
          ]
         },
         "hovertemplate": "labels=%{label}<br>Percentage=%{value}<br>parent=%{parent}<br>id=%{id}<br>Mean of satisfaction=%{color}<extra></extra>",
         "ids": [
          "Net income/1000- <2000",
          "Net income/2000- <3000",
          "Age/30-40",
          "Working hours/35-45h",
          "Doctor visits per year/7-10 visits",
          "Net income/<1000",
          "Age/<30",
          "Working hours/<35h",
          "Doctor visits per year/<6 visits",
          "BMI/<=30",
          "Doctor visits per year/>10 visits",
          "BMI/>30",
          "Age/>40",
          "Working hours/>45h",
          "Net income/>=3000",
          "Smoker/N",
          "Smoker/Y",
          "Highest edu. grade/apprenticeship",
          "Highest edu. grade (father)/commercial teaching",
          "Highest educational grade (mother)/commercial teaching",
          "Graduation/elementary school",
          "Graduation of father/elementary school",
          "Graduation of mother/elementary school",
          "Gender/female",
          "Highest edu. grade (father)/industrial/agric. teaching",
          "Highest educational grade (mother)/industrial/agric. teaching",
          "Gender/male",
          "Highest edu. grade/master craftman",
          "Highest edu. grade (father)/master craftman",
          "Highest educational grade (mother)/master craftman",
          "Age/missing",
          "BMI/missing",
          "Doctor visits per year/missing",
          "Employment status/missing",
          "Graduation/missing",
          "Graduation of father/missing",
          "Graduation of mother/missing",
          "Highest edu. grade/missing",
          "Highest edu. grade (father)/missing",
          "Highest educational grade (mother)/missing",
          "Net income/missing",
          "Smoker/missing",
          "Working hours/missing",
          "Graduation/no degree",
          "Graduation of father/no degree",
          "Graduation of mother/no degree",
          "Highest edu. grade/no degree",
          "Highest edu. grade (father)/no degree",
          "Highest educational grade (mother)/no degree",
          "Employment status/non-working",
          "Highest edu. grade/other degree",
          "Highest edu. grade (father)/other degree",
          "Highest educational grade (mother)/other degree",
          "Employment status/part-time job",
          "Employment status/regular full-time",
          "Employment status/regular half-time",
          "Graduation/secondary school",
          "Graduation of father/secondary school",
          "Graduation of mother/secondary school",
          "Highest edu. grade/tech.college degree",
          "Highest edu. grade (father)/tech.college degree",
          "Highest educational grade (mother)/tech.college degree",
          "Graduation/tech.college entrance qual.",
          "Graduation of father/tech.college entrance qual.",
          "Graduation of mother/tech.college entrance qual.",
          "Highest edu. grade/university degree",
          "Highest edu. grade (father)/university degree",
          "Highest educational grade (mother)/university degree",
          "Graduation/university entrance",
          "Graduation of father/university entrance",
          "Graduation of mother/university entrance",
          "Age",
          "BMI",
          "Doctor visits per year",
          "Employment status",
          "Gender",
          "Graduation",
          "Graduation of father",
          "Graduation of mother",
          "Highest edu. grade",
          "Highest edu. grade (father)",
          "Highest educational grade (mother)",
          "Net income",
          "Smoker",
          "Working hours"
         ],
         "labels": [
          "1000- <2000",
          "2000- <3000",
          "30-40",
          "35-45h",
          "7-10 visits",
          "<1000",
          "<30",
          "<35h",
          "<6 visits",
          "<=30",
          ">10 visits",
          ">30",
          ">40",
          ">45h",
          ">=3000",
          "N",
          "Y",
          "apprenticeship",
          "commercial teaching",
          "commercial teaching",
          "elementary school",
          "elementary school",
          "elementary school",
          "female",
          "industrial/agric. teaching",
          "industrial/agric. teaching",
          "male",
          "master craftman",
          "master craftman",
          "master craftman",
          "missing",
          "missing",
          "missing",
          "missing",
          "missing",
          "missing",
          "missing",
          "missing",
          "missing",
          "missing",
          "missing",
          "missing",
          "missing",
          "no degree",
          "no degree",
          "no degree",
          "no degree",
          "no degree",
          "no degree",
          "non-working",
          "other degree",
          "other degree",
          "other degree",
          "part-time job",
          "regular full-time",
          "regular half-time",
          "secondary school",
          "secondary school",
          "secondary school",
          "tech.college degree",
          "tech.college degree",
          "tech.college degree",
          "tech.college entrance qual.",
          "tech.college entrance qual.",
          "tech.college entrance qual.",
          "university degree",
          "university degree",
          "university degree",
          "university entrance",
          "university entrance",
          "university entrance",
          "Age",
          "BMI",
          "Doctor visits per year",
          "Employment status",
          "Gender",
          "Graduation",
          "Graduation of father",
          "Graduation of mother",
          "Highest edu. grade",
          "Highest edu. grade (father)",
          "Highest educational grade (mother)",
          "Net income",
          "Smoker",
          "Working hours"
         ],
         "marker": {
          "coloraxis": "coloraxis",
          "colors": [
           7.558,
           7.788,
           7.699000000000001,
           7.712,
           7.208000000000001,
           7.41,
           7.613,
           7.703,
           7.594,
           7.562000000000001,
           6.588000000000001,
           7.539000000000001,
           7.5120000000000005,
           7.583,
           7.791000000000001,
           7.748,
           7.096,
           7.411,
           7.593,
           7.655,
           7.372000000000001,
           7.411,
           7.475,
           7.48,
           7.436,
           7.54,
           7.626,
           7.574,
           7.59,
           7.703,
           7,
           7.404,
           8,
           9,
           7.395,
           7.618999999999999,
           7.529,
           7.5,
           7.609,
           7.583000000000001,
           7.5,
           6.333,
           7.397,
           7.466,
           7.425,
           7.22,
           7.545,
           7.465,
           7.429000000000001,
           7.399,
           7.6129999999999995,
           8.019,
           7.535,
           7.324,
           7.684000000000001,
           7.699,
           7.406,
           7.641,
           7.738,
           7.773000000000001,
           7.834,
           7.425,
           7.874,
           7.882000000000001,
           7.622,
           7.844,
           7.860000000000001,
           7.957000000000001,
           7.843,
           7.936,
           7.7589999999999995,
           7.555742,
           7.555579000000001,
           7.554986,
           7.556076000000001,
           7.555774,
           7.556318000000001,
           7.555667000000001,
           7.55541941941942,
           7.555743,
           7.555587,
           7.555434000000001,
           7.555700299700301,
           7.555549,
           7.555508491508491
          ]
         },
         "name": "",
         "parents": [
          "Net income",
          "Net income",
          "Age",
          "Working hours",
          "Doctor visits per year",
          "Net income",
          "Age",
          "Working hours",
          "Doctor visits per year",
          "BMI",
          "Doctor visits per year",
          "BMI",
          "Age",
          "Working hours",
          "Net income",
          "Smoker",
          "Smoker",
          "Highest edu. grade",
          "Highest edu. grade (father)",
          "Highest educational grade (mother)",
          "Graduation",
          "Graduation of father",
          "Graduation of mother",
          "Gender",
          "Highest edu. grade (father)",
          "Highest educational grade (mother)",
          "Gender",
          "Highest edu. grade",
          "Highest edu. grade (father)",
          "Highest educational grade (mother)",
          "Age",
          "BMI",
          "Doctor visits per year",
          "Employment status",
          "Graduation",
          "Graduation of father",
          "Graduation of mother",
          "Highest edu. grade",
          "Highest edu. grade (father)",
          "Highest educational grade (mother)",
          "Net income",
          "Smoker",
          "Working hours",
          "Graduation",
          "Graduation of father",
          "Graduation of mother",
          "Highest edu. grade",
          "Highest edu. grade (father)",
          "Highest educational grade (mother)",
          "Employment status",
          "Highest edu. grade",
          "Highest edu. grade (father)",
          "Highest educational grade (mother)",
          "Employment status",
          "Employment status",
          "Employment status",
          "Graduation",
          "Graduation of father",
          "Graduation of mother",
          "Highest edu. grade",
          "Highest edu. grade (father)",
          "Highest educational grade (mother)",
          "Graduation",
          "Graduation of father",
          "Graduation of mother",
          "Highest edu. grade",
          "Highest edu. grade (father)",
          "Highest educational grade (mother)",
          "Graduation",
          "Graduation of father",
          "Graduation of mother",
          "",
          "",
          "",
          "",
          "",
          "",
          "",
          "",
          "",
          "",
          "",
          "",
          "",
          ""
         ],
         "type": "treemap",
         "values": [
          0.31,
          0.142,
          0.174,
          0.327,
          0.05,
          0.261,
          0.116,
          0.112,
          0.929,
          0.803,
          0.02,
          0.183,
          0.709,
          0.115,
          0.07,
          0.706,
          0.293,
          0.448,
          0.067,
          0.219,
          0.272,
          0.53,
          0.564,
          0.481,
          0.43,
          0.24,
          0.519,
          0.11,
          0.114,
          0.043,
          0.001,
          0.014,
          0.001,
          0.001,
          0.011,
          0.111,
          0.065,
          0.006,
          0.095,
          0.076,
          0.218,
          0.001,
          0.447,
          0.021,
          0.035,
          0.037,
          0.132,
          0.128,
          0.32,
          0.379,
          0.077,
          0.015,
          0.025,
          0.063,
          0.46,
          0.097,
          0.339,
          0.159,
          0.226,
          0.074,
          0.054,
          0.031,
          0.078,
          0.039,
          0.026,
          0.153,
          0.097,
          0.046,
          0.279,
          0.126,
          0.081,
          0.9999999999999999,
          1,
          1,
          1,
          1,
          1,
          1,
          0.999,
          1,
          1,
          1,
          1.001,
          0.9999999999999999,
          1.0010000000000001
         ]
        }
       ],
       "layout": {
        "coloraxis": {
         "colorbar": {
          "title": {
           "text": "Mean of satisfaction"
          }
         },
         "colorscale": [
          [
           0,
           "rgb(165,0,38)"
          ],
          [
           0.1,
           "rgb(215,48,39)"
          ],
          [
           0.2,
           "rgb(244,109,67)"
          ],
          [
           0.3,
           "rgb(253,174,97)"
          ],
          [
           0.4,
           "rgb(254,224,144)"
          ],
          [
           0.5,
           "rgb(255,255,191)"
          ],
          [
           0.6,
           "rgb(224,243,248)"
          ],
          [
           0.7,
           "rgb(171,217,233)"
          ],
          [
           0.8,
           "rgb(116,173,209)"
          ],
          [
           0.9,
           "rgb(69,117,180)"
          ],
          [
           1,
           "rgb(49,54,149)"
          ]
         ]
        },
        "height": 800,
        "legend": {
         "tracegroupgap": 0
        },
        "margin": {
         "t": 60
        },
        "template": {
         "data": {
          "bar": [
           {
            "error_x": {
             "color": "#2a3f5f"
            },
            "error_y": {
             "color": "#2a3f5f"
            },
            "marker": {
             "line": {
              "color": "#E5ECF6",
              "width": 0.5
             }
            },
            "type": "bar"
           }
          ],
          "barpolar": [
           {
            "marker": {
             "line": {
              "color": "#E5ECF6",
              "width": 0.5
             }
            },
            "type": "barpolar"
           }
          ],
          "carpet": [
           {
            "aaxis": {
             "endlinecolor": "#2a3f5f",
             "gridcolor": "white",
             "linecolor": "white",
             "minorgridcolor": "white",
             "startlinecolor": "#2a3f5f"
            },
            "baxis": {
             "endlinecolor": "#2a3f5f",
             "gridcolor": "white",
             "linecolor": "white",
             "minorgridcolor": "white",
             "startlinecolor": "#2a3f5f"
            },
            "type": "carpet"
           }
          ],
          "choropleth": [
           {
            "colorbar": {
             "outlinewidth": 0,
             "ticks": ""
            },
            "type": "choropleth"
           }
          ],
          "contour": [
           {
            "colorbar": {
             "outlinewidth": 0,
             "ticks": ""
            },
            "colorscale": [
             [
              0,
              "#0d0887"
             ],
             [
              0.1111111111111111,
              "#46039f"
             ],
             [
              0.2222222222222222,
              "#7201a8"
             ],
             [
              0.3333333333333333,
              "#9c179e"
             ],
             [
              0.4444444444444444,
              "#bd3786"
             ],
             [
              0.5555555555555556,
              "#d8576b"
             ],
             [
              0.6666666666666666,
              "#ed7953"
             ],
             [
              0.7777777777777778,
              "#fb9f3a"
             ],
             [
              0.8888888888888888,
              "#fdca26"
             ],
             [
              1,
              "#f0f921"
             ]
            ],
            "type": "contour"
           }
          ],
          "contourcarpet": [
           {
            "colorbar": {
             "outlinewidth": 0,
             "ticks": ""
            },
            "type": "contourcarpet"
           }
          ],
          "heatmap": [
           {
            "colorbar": {
             "outlinewidth": 0,
             "ticks": ""
            },
            "colorscale": [
             [
              0,
              "#0d0887"
             ],
             [
              0.1111111111111111,
              "#46039f"
             ],
             [
              0.2222222222222222,
              "#7201a8"
             ],
             [
              0.3333333333333333,
              "#9c179e"
             ],
             [
              0.4444444444444444,
              "#bd3786"
             ],
             [
              0.5555555555555556,
              "#d8576b"
             ],
             [
              0.6666666666666666,
              "#ed7953"
             ],
             [
              0.7777777777777778,
              "#fb9f3a"
             ],
             [
              0.8888888888888888,
              "#fdca26"
             ],
             [
              1,
              "#f0f921"
             ]
            ],
            "type": "heatmap"
           }
          ],
          "heatmapgl": [
           {
            "colorbar": {
             "outlinewidth": 0,
             "ticks": ""
            },
            "colorscale": [
             [
              0,
              "#0d0887"
             ],
             [
              0.1111111111111111,
              "#46039f"
             ],
             [
              0.2222222222222222,
              "#7201a8"
             ],
             [
              0.3333333333333333,
              "#9c179e"
             ],
             [
              0.4444444444444444,
              "#bd3786"
             ],
             [
              0.5555555555555556,
              "#d8576b"
             ],
             [
              0.6666666666666666,
              "#ed7953"
             ],
             [
              0.7777777777777778,
              "#fb9f3a"
             ],
             [
              0.8888888888888888,
              "#fdca26"
             ],
             [
              1,
              "#f0f921"
             ]
            ],
            "type": "heatmapgl"
           }
          ],
          "histogram": [
           {
            "marker": {
             "colorbar": {
              "outlinewidth": 0,
              "ticks": ""
             }
            },
            "type": "histogram"
           }
          ],
          "histogram2d": [
           {
            "colorbar": {
             "outlinewidth": 0,
             "ticks": ""
            },
            "colorscale": [
             [
              0,
              "#0d0887"
             ],
             [
              0.1111111111111111,
              "#46039f"
             ],
             [
              0.2222222222222222,
              "#7201a8"
             ],
             [
              0.3333333333333333,
              "#9c179e"
             ],
             [
              0.4444444444444444,
              "#bd3786"
             ],
             [
              0.5555555555555556,
              "#d8576b"
             ],
             [
              0.6666666666666666,
              "#ed7953"
             ],
             [
              0.7777777777777778,
              "#fb9f3a"
             ],
             [
              0.8888888888888888,
              "#fdca26"
             ],
             [
              1,
              "#f0f921"
             ]
            ],
            "type": "histogram2d"
           }
          ],
          "histogram2dcontour": [
           {
            "colorbar": {
             "outlinewidth": 0,
             "ticks": ""
            },
            "colorscale": [
             [
              0,
              "#0d0887"
             ],
             [
              0.1111111111111111,
              "#46039f"
             ],
             [
              0.2222222222222222,
              "#7201a8"
             ],
             [
              0.3333333333333333,
              "#9c179e"
             ],
             [
              0.4444444444444444,
              "#bd3786"
             ],
             [
              0.5555555555555556,
              "#d8576b"
             ],
             [
              0.6666666666666666,
              "#ed7953"
             ],
             [
              0.7777777777777778,
              "#fb9f3a"
             ],
             [
              0.8888888888888888,
              "#fdca26"
             ],
             [
              1,
              "#f0f921"
             ]
            ],
            "type": "histogram2dcontour"
           }
          ],
          "mesh3d": [
           {
            "colorbar": {
             "outlinewidth": 0,
             "ticks": ""
            },
            "type": "mesh3d"
           }
          ],
          "parcoords": [
           {
            "line": {
             "colorbar": {
              "outlinewidth": 0,
              "ticks": ""
             }
            },
            "type": "parcoords"
           }
          ],
          "pie": [
           {
            "automargin": true,
            "type": "pie"
           }
          ],
          "scatter": [
           {
            "marker": {
             "colorbar": {
              "outlinewidth": 0,
              "ticks": ""
             }
            },
            "type": "scatter"
           }
          ],
          "scatter3d": [
           {
            "line": {
             "colorbar": {
              "outlinewidth": 0,
              "ticks": ""
             }
            },
            "marker": {
             "colorbar": {
              "outlinewidth": 0,
              "ticks": ""
             }
            },
            "type": "scatter3d"
           }
          ],
          "scattercarpet": [
           {
            "marker": {
             "colorbar": {
              "outlinewidth": 0,
              "ticks": ""
             }
            },
            "type": "scattercarpet"
           }
          ],
          "scattergeo": [
           {
            "marker": {
             "colorbar": {
              "outlinewidth": 0,
              "ticks": ""
             }
            },
            "type": "scattergeo"
           }
          ],
          "scattergl": [
           {
            "marker": {
             "colorbar": {
              "outlinewidth": 0,
              "ticks": ""
             }
            },
            "type": "scattergl"
           }
          ],
          "scattermapbox": [
           {
            "marker": {
             "colorbar": {
              "outlinewidth": 0,
              "ticks": ""
             }
            },
            "type": "scattermapbox"
           }
          ],
          "scatterpolar": [
           {
            "marker": {
             "colorbar": {
              "outlinewidth": 0,
              "ticks": ""
             }
            },
            "type": "scatterpolar"
           }
          ],
          "scatterpolargl": [
           {
            "marker": {
             "colorbar": {
              "outlinewidth": 0,
              "ticks": ""
             }
            },
            "type": "scatterpolargl"
           }
          ],
          "scatterternary": [
           {
            "marker": {
             "colorbar": {
              "outlinewidth": 0,
              "ticks": ""
             }
            },
            "type": "scatterternary"
           }
          ],
          "surface": [
           {
            "colorbar": {
             "outlinewidth": 0,
             "ticks": ""
            },
            "colorscale": [
             [
              0,
              "#0d0887"
             ],
             [
              0.1111111111111111,
              "#46039f"
             ],
             [
              0.2222222222222222,
              "#7201a8"
             ],
             [
              0.3333333333333333,
              "#9c179e"
             ],
             [
              0.4444444444444444,
              "#bd3786"
             ],
             [
              0.5555555555555556,
              "#d8576b"
             ],
             [
              0.6666666666666666,
              "#ed7953"
             ],
             [
              0.7777777777777778,
              "#fb9f3a"
             ],
             [
              0.8888888888888888,
              "#fdca26"
             ],
             [
              1,
              "#f0f921"
             ]
            ],
            "type": "surface"
           }
          ],
          "table": [
           {
            "cells": {
             "fill": {
              "color": "#EBF0F8"
             },
             "line": {
              "color": "white"
             }
            },
            "header": {
             "fill": {
              "color": "#C8D4E3"
             },
             "line": {
              "color": "white"
             }
            },
            "type": "table"
           }
          ]
         },
         "layout": {
          "annotationdefaults": {
           "arrowcolor": "#2a3f5f",
           "arrowhead": 0,
           "arrowwidth": 1
          },
          "coloraxis": {
           "colorbar": {
            "outlinewidth": 0,
            "ticks": ""
           }
          },
          "colorscale": {
           "diverging": [
            [
             0,
             "#8e0152"
            ],
            [
             0.1,
             "#c51b7d"
            ],
            [
             0.2,
             "#de77ae"
            ],
            [
             0.3,
             "#f1b6da"
            ],
            [
             0.4,
             "#fde0ef"
            ],
            [
             0.5,
             "#f7f7f7"
            ],
            [
             0.6,
             "#e6f5d0"
            ],
            [
             0.7,
             "#b8e186"
            ],
            [
             0.8,
             "#7fbc41"
            ],
            [
             0.9,
             "#4d9221"
            ],
            [
             1,
             "#276419"
            ]
           ],
           "sequential": [
            [
             0,
             "#0d0887"
            ],
            [
             0.1111111111111111,
             "#46039f"
            ],
            [
             0.2222222222222222,
             "#7201a8"
            ],
            [
             0.3333333333333333,
             "#9c179e"
            ],
            [
             0.4444444444444444,
             "#bd3786"
            ],
            [
             0.5555555555555556,
             "#d8576b"
            ],
            [
             0.6666666666666666,
             "#ed7953"
            ],
            [
             0.7777777777777778,
             "#fb9f3a"
            ],
            [
             0.8888888888888888,
             "#fdca26"
            ],
            [
             1,
             "#f0f921"
            ]
           ],
           "sequentialminus": [
            [
             0,
             "#0d0887"
            ],
            [
             0.1111111111111111,
             "#46039f"
            ],
            [
             0.2222222222222222,
             "#7201a8"
            ],
            [
             0.3333333333333333,
             "#9c179e"
            ],
            [
             0.4444444444444444,
             "#bd3786"
            ],
            [
             0.5555555555555556,
             "#d8576b"
            ],
            [
             0.6666666666666666,
             "#ed7953"
            ],
            [
             0.7777777777777778,
             "#fb9f3a"
            ],
            [
             0.8888888888888888,
             "#fdca26"
            ],
            [
             1,
             "#f0f921"
            ]
           ]
          },
          "colorway": [
           "#636efa",
           "#EF553B",
           "#00cc96",
           "#ab63fa",
           "#FFA15A",
           "#19d3f3",
           "#FF6692",
           "#B6E880",
           "#FF97FF",
           "#FECB52"
          ],
          "font": {
           "color": "#2a3f5f"
          },
          "geo": {
           "bgcolor": "white",
           "lakecolor": "white",
           "landcolor": "#E5ECF6",
           "showlakes": true,
           "showland": true,
           "subunitcolor": "white"
          },
          "hoverlabel": {
           "align": "left"
          },
          "hovermode": "closest",
          "mapbox": {
           "style": "light"
          },
          "paper_bgcolor": "white",
          "plot_bgcolor": "#E5ECF6",
          "polar": {
           "angularaxis": {
            "gridcolor": "white",
            "linecolor": "white",
            "ticks": ""
           },
           "bgcolor": "#E5ECF6",
           "radialaxis": {
            "gridcolor": "white",
            "linecolor": "white",
            "ticks": ""
           }
          },
          "scene": {
           "xaxis": {
            "backgroundcolor": "#E5ECF6",
            "gridcolor": "white",
            "gridwidth": 2,
            "linecolor": "white",
            "showbackground": true,
            "ticks": "",
            "zerolinecolor": "white"
           },
           "yaxis": {
            "backgroundcolor": "#E5ECF6",
            "gridcolor": "white",
            "gridwidth": 2,
            "linecolor": "white",
            "showbackground": true,
            "ticks": "",
            "zerolinecolor": "white"
           },
           "zaxis": {
            "backgroundcolor": "#E5ECF6",
            "gridcolor": "white",
            "gridwidth": 2,
            "linecolor": "white",
            "showbackground": true,
            "ticks": "",
            "zerolinecolor": "white"
           }
          },
          "shapedefaults": {
           "line": {
            "color": "#2a3f5f"
           }
          },
          "ternary": {
           "aaxis": {
            "gridcolor": "white",
            "linecolor": "white",
            "ticks": ""
           },
           "baxis": {
            "gridcolor": "white",
            "linecolor": "white",
            "ticks": ""
           },
           "bgcolor": "#E5ECF6",
           "caxis": {
            "gridcolor": "white",
            "linecolor": "white",
            "ticks": ""
           }
          },
          "title": {
           "x": 0.05
          },
          "xaxis": {
           "automargin": true,
           "gridcolor": "white",
           "linecolor": "white",
           "ticks": "",
           "title": {
            "standoff": 15
           },
           "zerolinecolor": "white",
           "zerolinewidth": 2
          },
          "yaxis": {
           "automargin": true,
           "gridcolor": "white",
           "linecolor": "white",
           "ticks": "",
           "title": {
            "standoff": 15
           },
           "zerolinecolor": "white",
           "zerolinewidth": 2
          }
         }
        },
        "title": {
         "text": "How would you rate your satisfaction with your life overall on a scale from 0-10? (10=completely satisfied).<br>Descriptive analysis by subgroup: tiles are proportional to rel. frequencies of the choices within a subgroup"
        },
        "width": 1000
       }
      },
      "text/html": [
       "<div>\n",
       "        \n",
       "        \n",
       "            <div id=\"8c20fccb-7d36-42f3-9972-2c1c47c02db4\" class=\"plotly-graph-div\" style=\"height:800px; width:1000px;\"></div>\n",
       "            <script type=\"text/javascript\">\n",
       "                require([\"plotly\"], function(Plotly) {\n",
       "                    window.PLOTLYENV=window.PLOTLYENV || {};\n",
       "                    \n",
       "                if (document.getElementById(\"8c20fccb-7d36-42f3-9972-2c1c47c02db4\")) {\n",
       "                    Plotly.newPlot(\n",
       "                        '8c20fccb-7d36-42f3-9972-2c1c47c02db4',\n",
       "                        [{\"branchvalues\": \"total\", \"customdata\": [[7.558], [7.788], [7.699000000000001], [7.712], [7.208000000000001], [7.41], [7.613], [7.703], [7.594], [7.562000000000001], [6.588000000000001], [7.539000000000001], [7.5120000000000005], [7.583], [7.791000000000001], [7.748], [7.096], [7.411], [7.593], [7.655], [7.372000000000001], [7.411], [7.475], [7.48], [7.436], [7.54], [7.626], [7.574], [7.59], [7.703], [7.0], [7.404], [8.0], [9.0], [7.395], [7.618999999999999], [7.529], [7.5], [7.609], [7.583000000000001], [7.5], [6.333], [7.397], [7.466], [7.425], [7.22], [7.545], [7.465], [7.429000000000001], [7.399], [7.6129999999999995], [8.019], [7.535], [7.324], [7.684000000000001], [7.699], [7.406], [7.641], [7.738], [7.773000000000001], [7.834], [7.425], [7.874], [7.882000000000001], [7.622], [7.844], [7.860000000000001], [7.957000000000001], [7.843], [7.936], [7.7589999999999995], [7.555742], [7.555579000000001], [7.554986], [7.556076000000001], [7.555774], [7.556318000000001], [7.555667000000001], [7.55541941941942], [7.555743], [7.555587], [7.555434000000001], [7.555700299700301], [7.555549], [7.555508491508491]], \"domain\": {\"x\": [0.0, 1.0], \"y\": [0.0, 1.0]}, \"hovertemplate\": \"labels=%{label}<br>Percentage=%{value}<br>parent=%{parent}<br>id=%{id}<br>Mean of satisfaction=%{color}<extra></extra>\", \"ids\": [\"Net income/1000- <2000\", \"Net income/2000- <3000\", \"Age/30-40\", \"Working hours/35-45h\", \"Doctor visits per year/7-10 visits\", \"Net income/<1000\", \"Age/<30\", \"Working hours/<35h\", \"Doctor visits per year/<6 visits\", \"BMI/<=30\", \"Doctor visits per year/>10 visits\", \"BMI/>30\", \"Age/>40\", \"Working hours/>45h\", \"Net income/>=3000\", \"Smoker/N\", \"Smoker/Y\", \"Highest edu. grade/apprenticeship\", \"Highest edu. grade (father)/commercial teaching\", \"Highest educational grade (mother)/commercial teaching\", \"Graduation/elementary school\", \"Graduation of father/elementary school\", \"Graduation of mother/elementary school\", \"Gender/female\", \"Highest edu. grade (father)/industrial/agric. teaching\", \"Highest educational grade (mother)/industrial/agric. teaching\", \"Gender/male\", \"Highest edu. grade/master craftman\", \"Highest edu. grade (father)/master craftman\", \"Highest educational grade (mother)/master craftman\", \"Age/missing\", \"BMI/missing\", \"Doctor visits per year/missing\", \"Employment status/missing\", \"Graduation/missing\", \"Graduation of father/missing\", \"Graduation of mother/missing\", \"Highest edu. grade/missing\", \"Highest edu. grade (father)/missing\", \"Highest educational grade (mother)/missing\", \"Net income/missing\", \"Smoker/missing\", \"Working hours/missing\", \"Graduation/no degree\", \"Graduation of father/no degree\", \"Graduation of mother/no degree\", \"Highest edu. grade/no degree\", \"Highest edu. grade (father)/no degree\", \"Highest educational grade (mother)/no degree\", \"Employment status/non-working\", \"Highest edu. grade/other degree\", \"Highest edu. grade (father)/other degree\", \"Highest educational grade (mother)/other degree\", \"Employment status/part-time job\", \"Employment status/regular full-time\", \"Employment status/regular half-time\", \"Graduation/secondary school\", \"Graduation of father/secondary school\", \"Graduation of mother/secondary school\", \"Highest edu. grade/tech.college degree\", \"Highest edu. grade (father)/tech.college degree\", \"Highest educational grade (mother)/tech.college degree\", \"Graduation/tech.college entrance qual.\", \"Graduation of father/tech.college entrance qual.\", \"Graduation of mother/tech.college entrance qual.\", \"Highest edu. grade/university degree\", \"Highest edu. grade (father)/university degree\", \"Highest educational grade (mother)/university degree\", \"Graduation/university entrance\", \"Graduation of father/university entrance\", \"Graduation of mother/university entrance\", \"Age\", \"BMI\", \"Doctor visits per year\", \"Employment status\", \"Gender\", \"Graduation\", \"Graduation of father\", \"Graduation of mother\", \"Highest edu. grade\", \"Highest edu. grade (father)\", \"Highest educational grade (mother)\", \"Net income\", \"Smoker\", \"Working hours\"], \"labels\": [\"1000- <2000\", \"2000- <3000\", \"30-40\", \"35-45h\", \"7-10 visits\", \"<1000\", \"<30\", \"<35h\", \"<6 visits\", \"<=30\", \">10 visits\", \">30\", \">40\", \">45h\", \">=3000\", \"N\", \"Y\", \"apprenticeship\", \"commercial teaching\", \"commercial teaching\", \"elementary school\", \"elementary school\", \"elementary school\", \"female\", \"industrial/agric. teaching\", \"industrial/agric. teaching\", \"male\", \"master craftman\", \"master craftman\", \"master craftman\", \"missing\", \"missing\", \"missing\", \"missing\", \"missing\", \"missing\", \"missing\", \"missing\", \"missing\", \"missing\", \"missing\", \"missing\", \"missing\", \"no degree\", \"no degree\", \"no degree\", \"no degree\", \"no degree\", \"no degree\", \"non-working\", \"other degree\", \"other degree\", \"other degree\", \"part-time job\", \"regular full-time\", \"regular half-time\", \"secondary school\", \"secondary school\", \"secondary school\", \"tech.college degree\", \"tech.college degree\", \"tech.college degree\", \"tech.college entrance qual.\", \"tech.college entrance qual.\", \"tech.college entrance qual.\", \"university degree\", \"university degree\", \"university degree\", \"university entrance\", \"university entrance\", \"university entrance\", \"Age\", \"BMI\", \"Doctor visits per year\", \"Employment status\", \"Gender\", \"Graduation\", \"Graduation of father\", \"Graduation of mother\", \"Highest edu. grade\", \"Highest edu. grade (father)\", \"Highest educational grade (mother)\", \"Net income\", \"Smoker\", \"Working hours\"], \"marker\": {\"coloraxis\": \"coloraxis\", \"colors\": [7.558, 7.788, 7.699000000000001, 7.712, 7.208000000000001, 7.41, 7.613, 7.703, 7.594, 7.562000000000001, 6.588000000000001, 7.539000000000001, 7.5120000000000005, 7.583, 7.791000000000001, 7.748, 7.096, 7.411, 7.593, 7.655, 7.372000000000001, 7.411, 7.475, 7.48, 7.436, 7.54, 7.626, 7.574, 7.59, 7.703, 7.0, 7.404, 8.0, 9.0, 7.395, 7.618999999999999, 7.529, 7.5, 7.609, 7.583000000000001, 7.5, 6.333, 7.397, 7.466, 7.425, 7.22, 7.545, 7.465, 7.429000000000001, 7.399, 7.6129999999999995, 8.019, 7.535, 7.324, 7.684000000000001, 7.699, 7.406, 7.641, 7.738, 7.773000000000001, 7.834, 7.425, 7.874, 7.882000000000001, 7.622, 7.844, 7.860000000000001, 7.957000000000001, 7.843, 7.936, 7.7589999999999995, 7.555742, 7.555579000000001, 7.554986, 7.556076000000001, 7.555774, 7.556318000000001, 7.555667000000001, 7.55541941941942, 7.555743, 7.555587, 7.555434000000001, 7.555700299700301, 7.555549, 7.555508491508491]}, \"name\": \"\", \"parents\": [\"Net income\", \"Net income\", \"Age\", \"Working hours\", \"Doctor visits per year\", \"Net income\", \"Age\", \"Working hours\", \"Doctor visits per year\", \"BMI\", \"Doctor visits per year\", \"BMI\", \"Age\", \"Working hours\", \"Net income\", \"Smoker\", \"Smoker\", \"Highest edu. grade\", \"Highest edu. grade (father)\", \"Highest educational grade (mother)\", \"Graduation\", \"Graduation of father\", \"Graduation of mother\", \"Gender\", \"Highest edu. grade (father)\", \"Highest educational grade (mother)\", \"Gender\", \"Highest edu. grade\", \"Highest edu. grade (father)\", \"Highest educational grade (mother)\", \"Age\", \"BMI\", \"Doctor visits per year\", \"Employment status\", \"Graduation\", \"Graduation of father\", \"Graduation of mother\", \"Highest edu. grade\", \"Highest edu. grade (father)\", \"Highest educational grade (mother)\", \"Net income\", \"Smoker\", \"Working hours\", \"Graduation\", \"Graduation of father\", \"Graduation of mother\", \"Highest edu. grade\", \"Highest edu. grade (father)\", \"Highest educational grade (mother)\", \"Employment status\", \"Highest edu. grade\", \"Highest edu. grade (father)\", \"Highest educational grade (mother)\", \"Employment status\", \"Employment status\", \"Employment status\", \"Graduation\", \"Graduation of father\", \"Graduation of mother\", \"Highest edu. grade\", \"Highest edu. grade (father)\", \"Highest educational grade (mother)\", \"Graduation\", \"Graduation of father\", \"Graduation of mother\", \"Highest edu. grade\", \"Highest edu. grade (father)\", \"Highest educational grade (mother)\", \"Graduation\", \"Graduation of father\", \"Graduation of mother\", \"\", \"\", \"\", \"\", \"\", \"\", \"\", \"\", \"\", \"\", \"\", \"\", \"\", \"\"], \"type\": \"treemap\", \"values\": [0.31, 0.142, 0.174, 0.327, 0.05, 0.261, 0.116, 0.112, 0.929, 0.803, 0.02, 0.183, 0.709, 0.115, 0.07, 0.706, 0.293, 0.448, 0.067, 0.219, 0.272, 0.53, 0.564, 0.481, 0.43, 0.24, 0.519, 0.11, 0.114, 0.043, 0.001, 0.014, 0.001, 0.001, 0.011, 0.111, 0.065, 0.006, 0.095, 0.076, 0.218, 0.001, 0.447, 0.021, 0.035, 0.037, 0.132, 0.128, 0.32, 0.379, 0.077, 0.015, 0.025, 0.063, 0.46, 0.097, 0.339, 0.159, 0.226, 0.074, 0.054, 0.031, 0.078, 0.039, 0.026, 0.153, 0.097, 0.046, 0.279, 0.126, 0.081, 0.9999999999999999, 1.0, 1.0, 1.0, 1.0, 1.0, 1.0, 0.999, 1.0, 1.0, 1.0, 1.001, 0.9999999999999999, 1.0010000000000001]}],\n",
       "                        {\"coloraxis\": {\"colorbar\": {\"title\": {\"text\": \"Mean of satisfaction\"}}, \"colorscale\": [[0.0, \"rgb(165,0,38)\"], [0.1, \"rgb(215,48,39)\"], [0.2, \"rgb(244,109,67)\"], [0.3, \"rgb(253,174,97)\"], [0.4, \"rgb(254,224,144)\"], [0.5, \"rgb(255,255,191)\"], [0.6, \"rgb(224,243,248)\"], [0.7, \"rgb(171,217,233)\"], [0.8, \"rgb(116,173,209)\"], [0.9, \"rgb(69,117,180)\"], [1.0, \"rgb(49,54,149)\"]]}, \"height\": 800, \"legend\": {\"tracegroupgap\": 0}, \"margin\": {\"t\": 60}, \"template\": {\"data\": {\"bar\": [{\"error_x\": {\"color\": \"#2a3f5f\"}, \"error_y\": {\"color\": \"#2a3f5f\"}, \"marker\": {\"line\": {\"color\": \"#E5ECF6\", \"width\": 0.5}}, \"type\": \"bar\"}], \"barpolar\": [{\"marker\": {\"line\": {\"color\": \"#E5ECF6\", \"width\": 0.5}}, \"type\": \"barpolar\"}], \"carpet\": [{\"aaxis\": {\"endlinecolor\": \"#2a3f5f\", \"gridcolor\": \"white\", \"linecolor\": \"white\", \"minorgridcolor\": \"white\", \"startlinecolor\": \"#2a3f5f\"}, \"baxis\": {\"endlinecolor\": \"#2a3f5f\", \"gridcolor\": \"white\", \"linecolor\": \"white\", \"minorgridcolor\": \"white\", \"startlinecolor\": \"#2a3f5f\"}, \"type\": \"carpet\"}], \"choropleth\": [{\"colorbar\": {\"outlinewidth\": 0, \"ticks\": \"\"}, \"type\": \"choropleth\"}], \"contour\": [{\"colorbar\": {\"outlinewidth\": 0, \"ticks\": \"\"}, \"colorscale\": [[0.0, \"#0d0887\"], [0.1111111111111111, \"#46039f\"], [0.2222222222222222, \"#7201a8\"], [0.3333333333333333, \"#9c179e\"], [0.4444444444444444, \"#bd3786\"], [0.5555555555555556, \"#d8576b\"], [0.6666666666666666, \"#ed7953\"], [0.7777777777777778, \"#fb9f3a\"], [0.8888888888888888, \"#fdca26\"], [1.0, \"#f0f921\"]], \"type\": \"contour\"}], \"contourcarpet\": [{\"colorbar\": {\"outlinewidth\": 0, \"ticks\": \"\"}, \"type\": \"contourcarpet\"}], \"heatmap\": [{\"colorbar\": {\"outlinewidth\": 0, \"ticks\": \"\"}, \"colorscale\": [[0.0, \"#0d0887\"], [0.1111111111111111, \"#46039f\"], [0.2222222222222222, \"#7201a8\"], [0.3333333333333333, \"#9c179e\"], [0.4444444444444444, \"#bd3786\"], [0.5555555555555556, \"#d8576b\"], [0.6666666666666666, \"#ed7953\"], [0.7777777777777778, \"#fb9f3a\"], [0.8888888888888888, \"#fdca26\"], [1.0, \"#f0f921\"]], \"type\": \"heatmap\"}], \"heatmapgl\": [{\"colorbar\": {\"outlinewidth\": 0, \"ticks\": \"\"}, \"colorscale\": [[0.0, \"#0d0887\"], [0.1111111111111111, \"#46039f\"], [0.2222222222222222, \"#7201a8\"], [0.3333333333333333, \"#9c179e\"], [0.4444444444444444, \"#bd3786\"], [0.5555555555555556, \"#d8576b\"], [0.6666666666666666, \"#ed7953\"], [0.7777777777777778, \"#fb9f3a\"], [0.8888888888888888, \"#fdca26\"], [1.0, \"#f0f921\"]], \"type\": \"heatmapgl\"}], \"histogram\": [{\"marker\": {\"colorbar\": {\"outlinewidth\": 0, \"ticks\": \"\"}}, \"type\": \"histogram\"}], \"histogram2d\": [{\"colorbar\": {\"outlinewidth\": 0, \"ticks\": \"\"}, \"colorscale\": [[0.0, \"#0d0887\"], [0.1111111111111111, \"#46039f\"], [0.2222222222222222, \"#7201a8\"], [0.3333333333333333, \"#9c179e\"], [0.4444444444444444, \"#bd3786\"], [0.5555555555555556, \"#d8576b\"], [0.6666666666666666, \"#ed7953\"], [0.7777777777777778, \"#fb9f3a\"], [0.8888888888888888, \"#fdca26\"], [1.0, \"#f0f921\"]], \"type\": \"histogram2d\"}], \"histogram2dcontour\": [{\"colorbar\": {\"outlinewidth\": 0, \"ticks\": \"\"}, \"colorscale\": [[0.0, \"#0d0887\"], [0.1111111111111111, \"#46039f\"], [0.2222222222222222, \"#7201a8\"], [0.3333333333333333, \"#9c179e\"], [0.4444444444444444, \"#bd3786\"], [0.5555555555555556, \"#d8576b\"], [0.6666666666666666, \"#ed7953\"], [0.7777777777777778, \"#fb9f3a\"], [0.8888888888888888, \"#fdca26\"], [1.0, \"#f0f921\"]], \"type\": \"histogram2dcontour\"}], \"mesh3d\": [{\"colorbar\": {\"outlinewidth\": 0, \"ticks\": \"\"}, \"type\": \"mesh3d\"}], \"parcoords\": [{\"line\": {\"colorbar\": {\"outlinewidth\": 0, \"ticks\": \"\"}}, \"type\": \"parcoords\"}], \"pie\": [{\"automargin\": true, \"type\": \"pie\"}], \"scatter\": [{\"marker\": {\"colorbar\": {\"outlinewidth\": 0, \"ticks\": \"\"}}, \"type\": \"scatter\"}], \"scatter3d\": [{\"line\": {\"colorbar\": {\"outlinewidth\": 0, \"ticks\": \"\"}}, \"marker\": {\"colorbar\": {\"outlinewidth\": 0, \"ticks\": \"\"}}, \"type\": \"scatter3d\"}], \"scattercarpet\": [{\"marker\": {\"colorbar\": {\"outlinewidth\": 0, \"ticks\": \"\"}}, \"type\": \"scattercarpet\"}], \"scattergeo\": [{\"marker\": {\"colorbar\": {\"outlinewidth\": 0, \"ticks\": \"\"}}, \"type\": \"scattergeo\"}], \"scattergl\": [{\"marker\": {\"colorbar\": {\"outlinewidth\": 0, \"ticks\": \"\"}}, \"type\": \"scattergl\"}], \"scattermapbox\": [{\"marker\": {\"colorbar\": {\"outlinewidth\": 0, \"ticks\": \"\"}}, \"type\": \"scattermapbox\"}], \"scatterpolar\": [{\"marker\": {\"colorbar\": {\"outlinewidth\": 0, \"ticks\": \"\"}}, \"type\": \"scatterpolar\"}], \"scatterpolargl\": [{\"marker\": {\"colorbar\": {\"outlinewidth\": 0, \"ticks\": \"\"}}, \"type\": \"scatterpolargl\"}], \"scatterternary\": [{\"marker\": {\"colorbar\": {\"outlinewidth\": 0, \"ticks\": \"\"}}, \"type\": \"scatterternary\"}], \"surface\": [{\"colorbar\": {\"outlinewidth\": 0, \"ticks\": \"\"}, \"colorscale\": [[0.0, \"#0d0887\"], [0.1111111111111111, \"#46039f\"], [0.2222222222222222, \"#7201a8\"], [0.3333333333333333, \"#9c179e\"], [0.4444444444444444, \"#bd3786\"], [0.5555555555555556, \"#d8576b\"], [0.6666666666666666, \"#ed7953\"], [0.7777777777777778, \"#fb9f3a\"], [0.8888888888888888, \"#fdca26\"], [1.0, \"#f0f921\"]], \"type\": \"surface\"}], \"table\": [{\"cells\": {\"fill\": {\"color\": \"#EBF0F8\"}, \"line\": {\"color\": \"white\"}}, \"header\": {\"fill\": {\"color\": \"#C8D4E3\"}, \"line\": {\"color\": \"white\"}}, \"type\": \"table\"}]}, \"layout\": {\"annotationdefaults\": {\"arrowcolor\": \"#2a3f5f\", \"arrowhead\": 0, \"arrowwidth\": 1}, \"coloraxis\": {\"colorbar\": {\"outlinewidth\": 0, \"ticks\": \"\"}}, \"colorscale\": {\"diverging\": [[0, \"#8e0152\"], [0.1, \"#c51b7d\"], [0.2, \"#de77ae\"], [0.3, \"#f1b6da\"], [0.4, \"#fde0ef\"], [0.5, \"#f7f7f7\"], [0.6, \"#e6f5d0\"], [0.7, \"#b8e186\"], [0.8, \"#7fbc41\"], [0.9, \"#4d9221\"], [1, \"#276419\"]], \"sequential\": [[0.0, \"#0d0887\"], [0.1111111111111111, \"#46039f\"], [0.2222222222222222, \"#7201a8\"], [0.3333333333333333, \"#9c179e\"], [0.4444444444444444, \"#bd3786\"], [0.5555555555555556, \"#d8576b\"], [0.6666666666666666, \"#ed7953\"], [0.7777777777777778, \"#fb9f3a\"], [0.8888888888888888, \"#fdca26\"], [1.0, \"#f0f921\"]], \"sequentialminus\": [[0.0, \"#0d0887\"], [0.1111111111111111, \"#46039f\"], [0.2222222222222222, \"#7201a8\"], [0.3333333333333333, \"#9c179e\"], [0.4444444444444444, \"#bd3786\"], [0.5555555555555556, \"#d8576b\"], [0.6666666666666666, \"#ed7953\"], [0.7777777777777778, \"#fb9f3a\"], [0.8888888888888888, \"#fdca26\"], [1.0, \"#f0f921\"]]}, \"colorway\": [\"#636efa\", \"#EF553B\", \"#00cc96\", \"#ab63fa\", \"#FFA15A\", \"#19d3f3\", \"#FF6692\", \"#B6E880\", \"#FF97FF\", \"#FECB52\"], \"font\": {\"color\": \"#2a3f5f\"}, \"geo\": {\"bgcolor\": \"white\", \"lakecolor\": \"white\", \"landcolor\": \"#E5ECF6\", \"showlakes\": true, \"showland\": true, \"subunitcolor\": \"white\"}, \"hoverlabel\": {\"align\": \"left\"}, \"hovermode\": \"closest\", \"mapbox\": {\"style\": \"light\"}, \"paper_bgcolor\": \"white\", \"plot_bgcolor\": \"#E5ECF6\", \"polar\": {\"angularaxis\": {\"gridcolor\": \"white\", \"linecolor\": \"white\", \"ticks\": \"\"}, \"bgcolor\": \"#E5ECF6\", \"radialaxis\": {\"gridcolor\": \"white\", \"linecolor\": \"white\", \"ticks\": \"\"}}, \"scene\": {\"xaxis\": {\"backgroundcolor\": \"#E5ECF6\", \"gridcolor\": \"white\", \"gridwidth\": 2, \"linecolor\": \"white\", \"showbackground\": true, \"ticks\": \"\", \"zerolinecolor\": \"white\"}, \"yaxis\": {\"backgroundcolor\": \"#E5ECF6\", \"gridcolor\": \"white\", \"gridwidth\": 2, \"linecolor\": \"white\", \"showbackground\": true, \"ticks\": \"\", \"zerolinecolor\": \"white\"}, \"zaxis\": {\"backgroundcolor\": \"#E5ECF6\", \"gridcolor\": \"white\", \"gridwidth\": 2, \"linecolor\": \"white\", \"showbackground\": true, \"ticks\": \"\", \"zerolinecolor\": \"white\"}}, \"shapedefaults\": {\"line\": {\"color\": \"#2a3f5f\"}}, \"ternary\": {\"aaxis\": {\"gridcolor\": \"white\", \"linecolor\": \"white\", \"ticks\": \"\"}, \"baxis\": {\"gridcolor\": \"white\", \"linecolor\": \"white\", \"ticks\": \"\"}, \"bgcolor\": \"#E5ECF6\", \"caxis\": {\"gridcolor\": \"white\", \"linecolor\": \"white\", \"ticks\": \"\"}}, \"title\": {\"x\": 0.05}, \"xaxis\": {\"automargin\": true, \"gridcolor\": \"white\", \"linecolor\": \"white\", \"ticks\": \"\", \"title\": {\"standoff\": 15}, \"zerolinecolor\": \"white\", \"zerolinewidth\": 2}, \"yaxis\": {\"automargin\": true, \"gridcolor\": \"white\", \"linecolor\": \"white\", \"ticks\": \"\", \"title\": {\"standoff\": 15}, \"zerolinecolor\": \"white\", \"zerolinewidth\": 2}}}, \"title\": {\"text\": \"How would you rate your satisfaction with your life overall on a scale from 0-10? (10=completely satisfied).<br>Descriptive analysis by subgroup: tiles are proportional to rel. frequencies of the choices within a subgroup\"}, \"width\": 1000},\n",
       "                        {\"responsive\": true}\n",
       "                    ).then(function(){\n",
       "                            \n",
       "var gd = document.getElementById('8c20fccb-7d36-42f3-9972-2c1c47c02db4');\n",
       "var x = new MutationObserver(function (mutations, observer) {{\n",
       "        var display = window.getComputedStyle(gd).display;\n",
       "        if (!display || display === 'none') {{\n",
       "            console.log([gd, 'removed!']);\n",
       "            Plotly.purge(gd);\n",
       "            observer.disconnect();\n",
       "        }}\n",
       "}});\n",
       "\n",
       "// Listen for the removal of the full notebook cells\n",
       "var notebookContainer = gd.closest('#notebook-container');\n",
       "if (notebookContainer) {{\n",
       "    x.observe(notebookContainer, {childList: true});\n",
       "}}\n",
       "\n",
       "// Listen for the clearing of the current output cell\n",
       "var outputEl = gd.closest('.output');\n",
       "if (outputEl) {{\n",
       "    x.observe(outputEl, {childList: true});\n",
       "}}\n",
       "\n",
       "                        })\n",
       "                };\n",
       "                });\n",
       "            </script>\n",
       "        </div>"
      ]
     },
     "metadata": {},
     "output_type": "display_data"
    }
   ],
   "source": [
    "fig = px.treemap(d1,\n",
    "                 path=['Labels', 'Group'], # nesting structure: First \"Labels\" then values within the Labels group as \"Group\"\n",
    "                 color='Mean of satisfaction', # Variable for coloring the tiles\n",
    "                 values='Percentage', # this is the variable that controls the partitioning of the tiles,\n",
    "                                      # we want the tiles to be propotional to \"Percentage\"\n",
    "                 color_continuous_scale='RdYlBu' # color palette             \n",
    "                 )\n",
    "\n",
    "# save title as string variable\n",
    "my_title = (\"How would you rate your satisfaction with your life overall on a scale from 0-10? (10=completely satisfied).\" +\n",
    "            \"<br>Descriptive analysis by subgroup: tiles are proportional to rel. frequencies of the choices within a subgroup\")\n",
    "            \n",
    "# update to show the title\n",
    "fig.update_layout(title=my_title, width=1000, height=800)\n",
    "# show the figure\n",
    "fig.show()"
   ]
  },
  {
   "cell_type": "markdown",
   "metadata": {},
   "source": [
    "The above plot is interactive. We have the ability to zoom into the subgroups. The zoom ability allows us to better see the smaller text. The plot also allows for mouse over effects. Here we get the numbers on the percentages for the categorical variables and the mean of the outcome variable for every subgroup. We observe that graduation grade, non-smoker, being healthy (few doctor's visits per year) correlate positively with satisfaction. The treemap approach to the data that we have demonstrated here is only one possible suggestion of many. Feel free to further explore the data set with other statistical methods. For example one could use regression modeling to look at the variables that contribute to the outcome `satisfaction` the most or use other visual tools like boxplots to capture variability."
   ]
  },
  {
   "cell_type": "markdown",
   "metadata": {},
   "source": [
    "## 5. Comparison of different implementation methods\n",
    "In this Jupyter tutorial we showed how to create efficient overview graphics for questionnaire data about quality of life. We used the `ggplot2` approach in `R` and the `plotly` module in `python`. The advantage of using `plotly` is that it easily incorporates mouse over effects for the tiles. Additionally one can zoom into the subgroups and have therefore a better view on the proportions and text labels of the tiles. Please note that the `plotly` package is also available for the `R` Programming Language. We intentionally showed two different approaches. An interactive graphic is also achievable with `R`. But we noticed that producing an interactive plot in `R` with `plotly` is a bit more advanced if you're not familiar with the `plotly` functionality, see [documentation](https://plotly.com/r/reference/). `Python` has the same hurdle when it comes to `plotly` but we were able to produce a decent output without diving too deep into it. Note that the [d3treeR package](https://github.com/d3treeR/d3treeR/) for interactive treemaps may not be fully supported for some R-versions. We had difficulties to reproduce the same output as in `Python` with it. In `SAS®` you would have to use `SAS® Visual Analytics` for treemaps. The `R` and `Python` approaches are open-source and free to use where as `SAS®` comes with a price."
   ]
  },
  {
   "cell_type": "markdown",
   "metadata": {},
   "source": [
    "## 6. Exercises\n",
    "In this section we want to encourage you to get into the programming yourself and solve some fun exercises.\n",
    "<br>\n",
    "<br>\n",
    "***\n",
    "R-Exercises:\n",
    "\n",
    "1. The graphic that we produced with `ggplot` in Jupyter wasn't quite readable, because of the limited dimensions within\n",
    "   the notebook. One solution would be to save the graphic and look at the plot in fullscreen mode on you monitor. \n",
    "   Hint: use `ggsave()`. Get information through the help function `?ggsave` on how to use this command in `R`.\n",
    "   Make sure to try different values for \"width\", \"height\" and \"dpi\" parameters to make the plot more readable.\n",
    "       \n",
    "       \n",
    "2. Customization of colors. We used 'RdYlBu' that emphasized the middle values and the ends of the scale for the plot. \n",
    "   Change the color palette of the tiles to a sequential pattern and observe the difference.\n",
    "   Hint: ?display.brewer.all().\n",
    "***"
   ]
  },
  {
   "cell_type": "markdown",
   "metadata": {},
   "source": [
    "Python-Exercises:\n",
    "***    \n",
    "1. Please save the interactive plot that we produced in `Python` so it can be shared among others.\n",
    "   Hint: [interactive-html-export documentation](https://plotly.com/python/interactive-html-export/).\n",
    "   \n",
    "   \n",
    "2. Change the range of the color scale. In our `Python` example we didn't specify the range of the color schema. Therefore \n",
    "   the color ranges default to the range of the input data. \n",
    "   The color legend start at about 6.4 and goes up to 9. In some cases\n",
    "   you want your color schema to fill the whole range. Adjust the range of the colors and see if that makes any sense for our plot.\n",
    "   Hint: use range_color = [ , ].\n",
    "   \n",
    "   \n",
    "3. Choosing different color scales. There are plenty built-in color schema in `Python`. Use the 'Inferno' and 'Sunset' color scale to see if that fits our data    better.\n",
    "   Hint: You can get the sequential color scale patterns with \n",
    "         fg_cols= px.colors.sequential.swatches()\n",
    "         fg_cols.show()\n",
    "   See also the complete [color scale documentation](https://plotly.com/python/builtin-colorscales/)\n",
    "***"
   ]
  }
 ],
 "metadata": {
  "kernelspec": {
   "display_name": "Python 3",
   "language": "python",
   "name": "python3"
  },
  "language_info": {
   "codemirror_mode": {
    "name": "ipython",
    "version": 3
   },
   "file_extension": ".py",
   "mimetype": "text/x-python",
   "name": "python",
   "nbconvert_exporter": "python",
   "pygments_lexer": "ipython3",
   "version": "3.7.6"
  }
 },
 "nbformat": 4,
 "nbformat_minor": 2
}
