{
 "cells": [
  {
   "cell_type": "markdown",
   "metadata": {},
   "source": [
    "# Data Visualization: Implementation of treemaps in R and Python\n",
    "#### Author: Alexander Ullmann"
   ]
  },
  {
   "cell_type": "markdown",
   "metadata": {},
   "source": [
    "## Outline\n",
    "1. Introduction to treemaps\n",
    "2. Quality of Life Categorical Data\n",
    "3. Implementation in R\n",
    "4. (Implementation in SAS)\n",
    "5. Implementation in Python\n",
    "6. Comparison of different implementation methods\n",
    "7. Exercises"
   ]
  },
  {
   "cell_type": "markdown",
   "metadata": {},
   "source": [
    "## 1. Introduction to treemaps\n",
    "In information visualization and computing, treemapping is a method for displaying hierarchical data using nested figures, usually rectangles. The rectangles represent areas proportional to specified dimensions of the data. Often the leaf nodes are colored to show a separate dimension of the data. [source: wikipedia/Treemapping](https://en.wikipedia.org/wiki/Treemapping). \n",
    "<br>\n",
    "<br>\n",
    "In this tutorial we want to show you how to build treemaps in `R` and `Python`. We will be using data from a questionnaire regarding the satisfaction with quality of life. Similar kind of data is often found in clinical research where focus on life quality and satisfaction after a medical procedure or medication regime is of interest.\n",
    "<br>\n",
    "***\n",
    "The basic idea of our approach is to give an efficient visual overview of the data. The aim is to provide a first comprehensive look at the distribution of an outcome variable in this case a pseudo-continuous (on Likert-Scale) over different subgroup variables which are categorical in nature. From there a more sophisticated analysis could be made for example with regression models and alike.\n",
    "***"
   ]
  },
  {
   "cell_type": "markdown",
   "metadata": {},
   "source": [
    "## 2. Quality of Life Categorical Data\n",
    "\n",
    "The data which we will use is provided by GESIS - Leibniz-Institut für Sozialwissenschaften (2016): German General Social Survey - ALLBUS 2014. GESIS Datenarchiv, Köln. ZA5242 Datenfile Version 1.0.0, http://dx.doi.org/10.4232/1.12437. This data set was put online by the PSI Organisation within the [Wonderful Wednesdays Workshops](https://www.psiweb.org/sigs-special-interest-groups/visualisation/welcome-to-wonderful-wednesdays). This data is publicly available and made free for usage in their [github repository](https://github.com/VIS-SIG/Wonderful-Wednesdays/tree/master/data/2020/2020-05-13) under the CC0 1.0 Universal license. \n",
    "<br>\n",
    "<br>\n",
    "\n",
    "The primary end point was overall satisfaction with life.\n",
    "<br>\n",
    "<br>\n",
    "\n",
    "### Question to participants was:\n",
    "* How would you rate your satisfaction with your life overall on a scale from 0-10? (10=completely satisfied)\n",
    "<br>\n",
    "<br>\n",
    "\n",
    "### Categorical variables that were also collected:\n",
    "* Age\n",
    "* BMI\n",
    "* Working hours\n",
    "* Doctor visits per year\n",
    "* Net income\n",
    "* Smoker\n",
    "* Gender\n",
    "* Employment status\n",
    "* Graduation\n",
    "* Graduation of father\n",
    "* Graduation of mother\n",
    "* Highest educational grade (f=father/m=mother)\n",
    "<br>\n",
    "<br>\n",
    "\n",
    "### Aim: What are the most relevant factors for quality of life/satisfaction in life? \n",
    "We want to provide a first graphical overview for the data that might facilitate a further analysis to answer this question. A deep dive into statistical modeling of the data is not intended to be part of this tutorial. "
   ]
  },
  {
   "cell_type": "markdown",
   "metadata": {},
   "source": [
    "## 3. Implementation in R\n",
    "There are several possibilities to make treemap-plots in R. Here is a list of packages that might allow you to easily implement these plots (not necessarily a complete list of all the packages):\n",
    "\n",
    "* library(treemap)\n",
    "* library(d3treeR) -> adds mouse over effects/interactivity\n",
    "* library(plotly) -> interactive treemaps\n",
    "* library(highcharter)\n",
    "* *library(ggplot2)*\n",
    "* *library(treemapify)*\n",
    "* base R (basicly your own implementation from scratch)\n",
    "<br>\n",
    "<br>\n",
    "\n",
    "\n",
    "***\n",
    "We will focus on a `ggplot2` implementation plus the additional `treemapify` package as ggplot is widely used to produce graphics for R nowadays. Feel free to try out the other packages and see what fits your needs best. For the R-code to work you need to set up your jupyter notebook with an R kernel and activate it. An alternative is to paste the code in a R-IDE like R-Studio.\n",
    "***"
   ]
  },
  {
   "cell_type": "markdown",
   "metadata": {},
   "source": [
    "### Load the packages\n"
   ]
  },
  {
   "cell_type": "code",
   "execution_count": 1,
   "metadata": {},
   "outputs": [
    {
     "name": "stderr",
     "output_type": "stream",
     "text": [
      "Loading required package: ggplot2\n",
      "\n",
      "Warning message:\n",
      "\"package 'ggplot2' was built under R version 3.6.2\"\n",
      "Loading required package: treemapify\n",
      "\n",
      "Warning message:\n",
      "\"package 'treemapify' was built under R version 3.6.3\"\n",
      "Loading required package: dplyr\n",
      "\n",
      "Warning message:\n",
      "\"package 'dplyr' was built under R version 3.6.3\"\n",
      "\n",
      "Attaching package: 'dplyr'\n",
      "\n",
      "\n",
      "The following objects are masked from 'package:stats':\n",
      "\n",
      "    filter, lag\n",
      "\n",
      "\n",
      "The following objects are masked from 'package:base':\n",
      "\n",
      "    intersect, setdiff, setequal, union\n",
      "\n",
      "\n",
      "Loading required package: RColorBrewer\n",
      "\n",
      "Loading required package: repr\n",
      "\n",
      "Warning message:\n",
      "\"package 'repr' was built under R version 3.6.3\"\n",
      "Loading required package: IRdisplay\n",
      "\n",
      "Warning message:\n",
      "\"package 'IRdisplay' was built under R version 3.6.3\"\n"
     ]
    }
   ],
   "source": [
    "if (!require('ggplot2')) install.packages('treemapify');\n",
    "if (!require('treemapify')) install.packages('treemapify');\n",
    "if (!require('dplyr')) install.packages('dplyr');\n",
    "if (!require('RColorBrewer')) install.packages('RColorBrewer');\n",
    "if (!require('repr')) install.packages('repr');\n",
    "if (!require('IRdisplay')) install.packages('IRdisplay');\n",
    "# used for graphics\n",
    "library(ggplot2)\n",
    "# used to add treemaps to ggplot graphics\n",
    "library(treemapify)\n",
    "# used for data manipulation\n",
    "library(dplyr)\n",
    "# used for colors\n",
    "library(RColorBrewer)\n",
    "# managing output devices\n",
    "library(repr)\n",
    "# manage image outout to jupyter notebook\n",
    "library(IRdisplay)"
   ]
  },
  {
   "cell_type": "markdown",
   "metadata": {},
   "source": [
    "### Read the data + Data wrangling"
   ]
  },
  {
   "cell_type": "code",
   "execution_count": 2,
   "metadata": {},
   "outputs": [
    {
     "data": {
      "text/html": [
       "<table>\n",
       "<caption>A data.frame: 10 × 17</caption>\n",
       "<thead>\n",
       "\t<tr><th></th><th scope=col>X</th><th scope=col>ID</th><th scope=col>age</th><th scope=col>bmi</th><th scope=col>w_hours</th><th scope=col>todoctor</th><th scope=col>income</th><th scope=col>smoker</th><th scope=col>gender</th><th scope=col>employed</th><th scope=col>graduat</th><th scope=col>graduat_f</th><th scope=col>graduat_m</th><th scope=col>high_grad</th><th scope=col>high_grad_f</th><th scope=col>high_grad_m</th><th scope=col>satisfaction</th></tr>\n",
       "\t<tr><th></th><th scope=col>&lt;int&gt;</th><th scope=col>&lt;int&gt;</th><th scope=col>&lt;fct&gt;</th><th scope=col>&lt;fct&gt;</th><th scope=col>&lt;fct&gt;</th><th scope=col>&lt;fct&gt;</th><th scope=col>&lt;fct&gt;</th><th scope=col>&lt;fct&gt;</th><th scope=col>&lt;fct&gt;</th><th scope=col>&lt;fct&gt;</th><th scope=col>&lt;fct&gt;</th><th scope=col>&lt;fct&gt;</th><th scope=col>&lt;fct&gt;</th><th scope=col>&lt;fct&gt;</th><th scope=col>&lt;fct&gt;</th><th scope=col>&lt;fct&gt;</th><th scope=col>&lt;int&gt;</th></tr>\n",
       "</thead>\n",
       "<tbody>\n",
       "\t<tr><th scope=row>1</th><td> 1</td><td>1359</td><td><span style=white-space:pre-wrap>&gt;40  </span></td><td>&gt;30 </td><td><span style=white-space:pre-wrap>NA    </span></td><td>&lt;6 visits</td><td><span style=white-space:pre-wrap>&lt;1000      </span></td><td>Y</td><td>female</td><td><span style=white-space:pre-wrap>non-working      </span></td><td><span style=white-space:pre-wrap>secondary school           </span></td><td><span style=white-space:pre-wrap>secondary school   </span></td><td>university entrance</td><td><span style=white-space:pre-wrap>apprenticeship     </span></td><td>industrial/agric. teaching</td><td><span style=white-space:pre-wrap>master craftman           </span></td><td>10</td></tr>\n",
       "\t<tr><th scope=row>2</th><td> 2</td><td>2455</td><td><span style=white-space:pre-wrap>&gt;40  </span></td><td>&lt;=30</td><td><span style=white-space:pre-wrap>&lt;35h  </span></td><td>&lt;6 visits</td><td><span style=white-space:pre-wrap>&lt;1000      </span></td><td>N</td><td>female</td><td>regular half-time</td><td><span style=white-space:pre-wrap>secondary school           </span></td><td><span style=white-space:pre-wrap>elementary school  </span></td><td><span style=white-space:pre-wrap>elementary school  </span></td><td><span style=white-space:pre-wrap>apprenticeship     </span></td><td><span style=white-space:pre-wrap>master craftman           </span></td><td><span style=white-space:pre-wrap>commercial teaching       </span></td><td> 9</td></tr>\n",
       "\t<tr><th scope=row>3</th><td> 3</td><td> 200</td><td>30-40</td><td>&gt;30 </td><td><span style=white-space:pre-wrap>NA    </span></td><td>&lt;6 visits</td><td><span style=white-space:pre-wrap>NA         </span></td><td>N</td><td><span style=white-space:pre-wrap>male  </span></td><td><span style=white-space:pre-wrap>non-working      </span></td><td><span style=white-space:pre-wrap>university entrance        </span></td><td>university entrance</td><td>university entrance</td><td><span style=white-space:pre-wrap>university degree  </span></td><td><span style=white-space:pre-wrap>university degree         </span></td><td><span style=white-space:pre-wrap>university degree         </span></td><td> 8</td></tr>\n",
       "\t<tr><th scope=row>4</th><td> 4</td><td>1280</td><td><span style=white-space:pre-wrap>&gt;40  </span></td><td>&lt;=30</td><td><span style=white-space:pre-wrap>&gt;45h  </span></td><td>&lt;6 visits</td><td><span style=white-space:pre-wrap>NA         </span></td><td>N</td><td><span style=white-space:pre-wrap>male  </span></td><td>regular full-time</td><td>tech.college entrance qual.</td><td><span style=white-space:pre-wrap>secondary school   </span></td><td><span style=white-space:pre-wrap>secondary school   </span></td><td>tech.college degree</td><td><span style=white-space:pre-wrap>commercial teaching       </span></td><td><span style=white-space:pre-wrap>commercial teaching       </span></td><td> 8</td></tr>\n",
       "\t<tr><th scope=row>5</th><td> 5</td><td>2384</td><td><span style=white-space:pre-wrap>&lt;30  </span></td><td>&lt;=30</td><td><span style=white-space:pre-wrap>NA    </span></td><td>&lt;6 visits</td><td><span style=white-space:pre-wrap>NA         </span></td><td>N</td><td>female</td><td><span style=white-space:pre-wrap>non-working      </span></td><td><span style=white-space:pre-wrap>NA                         </span></td><td><span style=white-space:pre-wrap>secondary school   </span></td><td><span style=white-space:pre-wrap>elementary school  </span></td><td><span style=white-space:pre-wrap>NA                 </span></td><td>industrial/agric. teaching</td><td>industrial/agric. teaching</td><td> 7</td></tr>\n",
       "\t<tr><th scope=row>6</th><td> 6</td><td>2258</td><td><span style=white-space:pre-wrap>&lt;30  </span></td><td>&lt;=30</td><td><span style=white-space:pre-wrap>&lt;35h  </span></td><td>&lt;6 visits</td><td><span style=white-space:pre-wrap>NA         </span></td><td>N</td><td><span style=white-space:pre-wrap>male  </span></td><td>regular half-time</td><td>tech.college entrance qual.</td><td><span style=white-space:pre-wrap>NA                 </span></td><td><span style=white-space:pre-wrap>NA                 </span></td><td><span style=white-space:pre-wrap>no degree          </span></td><td><span style=white-space:pre-wrap>NA                        </span></td><td><span style=white-space:pre-wrap>NA                        </span></td><td> 9</td></tr>\n",
       "\t<tr><th scope=row>7</th><td> 7</td><td> 837</td><td><span style=white-space:pre-wrap>&gt;40  </span></td><td>&lt;=30</td><td><span style=white-space:pre-wrap>&gt;45h  </span></td><td>&lt;6 visits</td><td><span style=white-space:pre-wrap>&gt;=3000     </span></td><td>N</td><td><span style=white-space:pre-wrap>male  </span></td><td>regular full-time</td><td><span style=white-space:pre-wrap>NA                         </span></td><td><span style=white-space:pre-wrap>elementary school  </span></td><td><span style=white-space:pre-wrap>elementary school  </span></td><td><span style=white-space:pre-wrap>master craftman    </span></td><td>industrial/agric. teaching</td><td><span style=white-space:pre-wrap>no degree                 </span></td><td> 8</td></tr>\n",
       "\t<tr><th scope=row>8</th><td> 8</td><td>1343</td><td><span style=white-space:pre-wrap>&lt;30  </span></td><td>&lt;=30</td><td><span style=white-space:pre-wrap>NA    </span></td><td>&lt;6 visits</td><td><span style=white-space:pre-wrap>&lt;1000      </span></td><td>N</td><td><span style=white-space:pre-wrap>male  </span></td><td><span style=white-space:pre-wrap>part-time job    </span></td><td><span style=white-space:pre-wrap>elementary school          </span></td><td><span style=white-space:pre-wrap>no degree          </span></td><td><span style=white-space:pre-wrap>no degree          </span></td><td><span style=white-space:pre-wrap>no degree          </span></td><td><span style=white-space:pre-wrap>no degree                 </span></td><td><span style=white-space:pre-wrap>commercial teaching       </span></td><td> 9</td></tr>\n",
       "\t<tr><th scope=row>9</th><td> 9</td><td>3129</td><td><span style=white-space:pre-wrap>&gt;40  </span></td><td>&lt;=30</td><td>35-45h</td><td>&lt;6 visits</td><td>1000- &lt;2000</td><td>N</td><td><span style=white-space:pre-wrap>male  </span></td><td>regular full-time</td><td><span style=white-space:pre-wrap>elementary school          </span></td><td><span style=white-space:pre-wrap>elementary school  </span></td><td><span style=white-space:pre-wrap>elementary school  </span></td><td><span style=white-space:pre-wrap>apprenticeship     </span></td><td>industrial/agric. teaching</td><td><span style=white-space:pre-wrap>commercial teaching       </span></td><td> 8</td></tr>\n",
       "\t<tr><th scope=row>10</th><td>10</td><td>2961</td><td><span style=white-space:pre-wrap>&gt;40  </span></td><td>&gt;30 </td><td><span style=white-space:pre-wrap>&lt;35h  </span></td><td>&lt;6 visits</td><td>2000- &lt;3000</td><td>N</td><td>female</td><td>regular half-time</td><td>tech.college entrance qual.</td><td><span style=white-space:pre-wrap>elementary school  </span></td><td><span style=white-space:pre-wrap>elementary school  </span></td><td><span style=white-space:pre-wrap>university degree  </span></td><td>industrial/agric. teaching</td><td><span style=white-space:pre-wrap>commercial teaching       </span></td><td> 8</td></tr>\n",
       "</tbody>\n",
       "</table>\n"
      ],
      "text/latex": [
       "A data.frame: 10 × 17\n",
       "\\begin{tabular}{r|lllllllllllllllll}\n",
       "  & X & ID & age & bmi & w\\_hours & todoctor & income & smoker & gender & employed & graduat & graduat\\_f & graduat\\_m & high\\_grad & high\\_grad\\_f & high\\_grad\\_m & satisfaction\\\\\n",
       "  & <int> & <int> & <fct> & <fct> & <fct> & <fct> & <fct> & <fct> & <fct> & <fct> & <fct> & <fct> & <fct> & <fct> & <fct> & <fct> & <int>\\\\\n",
       "\\hline\n",
       "\t1 &  1 & 1359 & >40   & >30  & NA     & <6 visits & <1000       & Y & female & non-working       & secondary school            & secondary school    & university entrance & apprenticeship      & industrial/agric. teaching & master craftman            & 10\\\\\n",
       "\t2 &  2 & 2455 & >40   & <=30 & <35h   & <6 visits & <1000       & N & female & regular half-time & secondary school            & elementary school   & elementary school   & apprenticeship      & master craftman            & commercial teaching        &  9\\\\\n",
       "\t3 &  3 &  200 & 30-40 & >30  & NA     & <6 visits & NA          & N & male   & non-working       & university entrance         & university entrance & university entrance & university degree   & university degree          & university degree          &  8\\\\\n",
       "\t4 &  4 & 1280 & >40   & <=30 & >45h   & <6 visits & NA          & N & male   & regular full-time & tech.college entrance qual. & secondary school    & secondary school    & tech.college degree & commercial teaching        & commercial teaching        &  8\\\\\n",
       "\t5 &  5 & 2384 & <30   & <=30 & NA     & <6 visits & NA          & N & female & non-working       & NA                          & secondary school    & elementary school   & NA                  & industrial/agric. teaching & industrial/agric. teaching &  7\\\\\n",
       "\t6 &  6 & 2258 & <30   & <=30 & <35h   & <6 visits & NA          & N & male   & regular half-time & tech.college entrance qual. & NA                  & NA                  & no degree           & NA                         & NA                         &  9\\\\\n",
       "\t7 &  7 &  837 & >40   & <=30 & >45h   & <6 visits & >=3000      & N & male   & regular full-time & NA                          & elementary school   & elementary school   & master craftman     & industrial/agric. teaching & no degree                  &  8\\\\\n",
       "\t8 &  8 & 1343 & <30   & <=30 & NA     & <6 visits & <1000       & N & male   & part-time job     & elementary school           & no degree           & no degree           & no degree           & no degree                  & commercial teaching        &  9\\\\\n",
       "\t9 &  9 & 3129 & >40   & <=30 & 35-45h & <6 visits & 1000- <2000 & N & male   & regular full-time & elementary school           & elementary school   & elementary school   & apprenticeship      & industrial/agric. teaching & commercial teaching        &  8\\\\\n",
       "\t10 & 10 & 2961 & >40   & >30  & <35h   & <6 visits & 2000- <3000 & N & female & regular half-time & tech.college entrance qual. & elementary school   & elementary school   & university degree   & industrial/agric. teaching & commercial teaching        &  8\\\\\n",
       "\\end{tabular}\n"
      ],
      "text/markdown": [
       "\n",
       "A data.frame: 10 × 17\n",
       "\n",
       "| <!--/--> | X &lt;int&gt; | ID &lt;int&gt; | age &lt;fct&gt; | bmi &lt;fct&gt; | w_hours &lt;fct&gt; | todoctor &lt;fct&gt; | income &lt;fct&gt; | smoker &lt;fct&gt; | gender &lt;fct&gt; | employed &lt;fct&gt; | graduat &lt;fct&gt; | graduat_f &lt;fct&gt; | graduat_m &lt;fct&gt; | high_grad &lt;fct&gt; | high_grad_f &lt;fct&gt; | high_grad_m &lt;fct&gt; | satisfaction &lt;int&gt; |\n",
       "|---|---|---|---|---|---|---|---|---|---|---|---|---|---|---|---|---|---|\n",
       "| 1 |  1 | 1359 | &gt;40   | &gt;30  | NA     | &lt;6 visits | &lt;1000       | Y | female | non-working       | secondary school            | secondary school    | university entrance | apprenticeship      | industrial/agric. teaching | master craftman            | 10 |\n",
       "| 2 |  2 | 2455 | &gt;40   | &lt;=30 | &lt;35h   | &lt;6 visits | &lt;1000       | N | female | regular half-time | secondary school            | elementary school   | elementary school   | apprenticeship      | master craftman            | commercial teaching        |  9 |\n",
       "| 3 |  3 |  200 | 30-40 | &gt;30  | NA     | &lt;6 visits | NA          | N | male   | non-working       | university entrance         | university entrance | university entrance | university degree   | university degree          | university degree          |  8 |\n",
       "| 4 |  4 | 1280 | &gt;40   | &lt;=30 | &gt;45h   | &lt;6 visits | NA          | N | male   | regular full-time | tech.college entrance qual. | secondary school    | secondary school    | tech.college degree | commercial teaching        | commercial teaching        |  8 |\n",
       "| 5 |  5 | 2384 | &lt;30   | &lt;=30 | NA     | &lt;6 visits | NA          | N | female | non-working       | NA                          | secondary school    | elementary school   | NA                  | industrial/agric. teaching | industrial/agric. teaching |  7 |\n",
       "| 6 |  6 | 2258 | &lt;30   | &lt;=30 | &lt;35h   | &lt;6 visits | NA          | N | male   | regular half-time | tech.college entrance qual. | NA                  | NA                  | no degree           | NA                         | NA                         |  9 |\n",
       "| 7 |  7 |  837 | &gt;40   | &lt;=30 | &gt;45h   | &lt;6 visits | &gt;=3000      | N | male   | regular full-time | NA                          | elementary school   | elementary school   | master craftman     | industrial/agric. teaching | no degree                  |  8 |\n",
       "| 8 |  8 | 1343 | &lt;30   | &lt;=30 | NA     | &lt;6 visits | &lt;1000       | N | male   | part-time job     | elementary school           | no degree           | no degree           | no degree           | no degree                  | commercial teaching        |  9 |\n",
       "| 9 |  9 | 3129 | &gt;40   | &lt;=30 | 35-45h | &lt;6 visits | 1000- &lt;2000 | N | male   | regular full-time | elementary school           | elementary school   | elementary school   | apprenticeship      | industrial/agric. teaching | commercial teaching        |  8 |\n",
       "| 10 | 10 | 2961 | &gt;40   | &gt;30  | &lt;35h   | &lt;6 visits | 2000- &lt;3000 | N | female | regular half-time | tech.college entrance qual. | elementary school   | elementary school   | university degree   | industrial/agric. teaching | commercial teaching        |  8 |\n",
       "\n"
      ],
      "text/plain": [
       "   X  ID   age   bmi  w_hours todoctor  income      smoker gender\n",
       "1   1 1359 >40   >30  NA      <6 visits <1000       Y      female\n",
       "2   2 2455 >40   <=30 <35h    <6 visits <1000       N      female\n",
       "3   3  200 30-40 >30  NA      <6 visits NA          N      male  \n",
       "4   4 1280 >40   <=30 >45h    <6 visits NA          N      male  \n",
       "5   5 2384 <30   <=30 NA      <6 visits NA          N      female\n",
       "6   6 2258 <30   <=30 <35h    <6 visits NA          N      male  \n",
       "7   7  837 >40   <=30 >45h    <6 visits >=3000      N      male  \n",
       "8   8 1343 <30   <=30 NA      <6 visits <1000       N      male  \n",
       "9   9 3129 >40   <=30 35-45h  <6 visits 1000- <2000 N      male  \n",
       "10 10 2961 >40   >30  <35h    <6 visits 2000- <3000 N      female\n",
       "   employed          graduat                     graduat_f          \n",
       "1  non-working       secondary school            secondary school   \n",
       "2  regular half-time secondary school            elementary school  \n",
       "3  non-working       university entrance         university entrance\n",
       "4  regular full-time tech.college entrance qual. secondary school   \n",
       "5  non-working       NA                          secondary school   \n",
       "6  regular half-time tech.college entrance qual. NA                 \n",
       "7  regular full-time NA                          elementary school  \n",
       "8  part-time job     elementary school           no degree          \n",
       "9  regular full-time elementary school           elementary school  \n",
       "10 regular half-time tech.college entrance qual. elementary school  \n",
       "   graduat_m           high_grad           high_grad_f               \n",
       "1  university entrance apprenticeship      industrial/agric. teaching\n",
       "2  elementary school   apprenticeship      master craftman           \n",
       "3  university entrance university degree   university degree         \n",
       "4  secondary school    tech.college degree commercial teaching       \n",
       "5  elementary school   NA                  industrial/agric. teaching\n",
       "6  NA                  no degree           NA                        \n",
       "7  elementary school   master craftman     industrial/agric. teaching\n",
       "8  no degree           no degree           no degree                 \n",
       "9  elementary school   apprenticeship      industrial/agric. teaching\n",
       "10 elementary school   university degree   industrial/agric. teaching\n",
       "   high_grad_m                satisfaction\n",
       "1  master craftman            10          \n",
       "2  commercial teaching         9          \n",
       "3  university degree           8          \n",
       "4  commercial teaching         8          \n",
       "5  industrial/agric. teaching  7          \n",
       "6  NA                          9          \n",
       "7  no degree                   8          \n",
       "8  commercial teaching         9          \n",
       "9  commercial teaching         8          \n",
       "10 commercial teaching         8          "
      ]
     },
     "metadata": {},
     "output_type": "display_data"
    },
    {
     "name": "stdout",
     "output_type": "stream",
     "text": [
      "'data.frame':\t3466 obs. of  17 variables:\n",
      " $ X           : int  1 2 3 4 5 6 7 8 9 10 ...\n",
      " $ ID          : int  1359 2455 200 1280 2384 2258 837 1343 3129 2961 ...\n",
      " $ age         : Factor w/ 3 levels \"<30\",\">40\",\"30-40\": 2 2 3 2 1 1 2 1 2 2 ...\n",
      " $ bmi         : Factor w/ 2 levels \"<=30\",\">30\": 2 1 2 1 1 1 1 1 1 2 ...\n",
      " $ w_hours     : Factor w/ 3 levels \"<35h\",\">45h\",..: NA 1 NA 2 NA 1 2 NA 3 1 ...\n",
      " $ todoctor    : Factor w/ 3 levels \"<6 visits\",\">10 visits\",..: 1 1 1 1 1 1 1 1 1 1 ...\n",
      " $ income      : Factor w/ 4 levels \"<1000\",\">=3000\",..: 1 1 NA NA NA NA 2 1 3 4 ...\n",
      " $ smoker      : Factor w/ 2 levels \"N\",\"Y\": 2 1 1 1 1 1 1 1 1 1 ...\n",
      " $ gender      : Factor w/ 2 levels \"female\",\"male\": 1 1 2 2 1 2 2 2 2 1 ...\n",
      " $ employed    : Factor w/ 4 levels \"non-working\",..: 1 4 1 3 1 4 3 2 3 4 ...\n",
      " $ graduat     : Factor w/ 5 levels \"elementary school\",..: 3 3 5 4 NA 4 NA 1 1 4 ...\n",
      " $ graduat_f   : Factor w/ 5 levels \"elementary school\",..: 3 1 5 3 3 NA 1 2 1 1 ...\n",
      " $ graduat_m   : Factor w/ 5 levels \"elementary school\",..: 5 1 5 3 1 NA 1 2 1 1 ...\n",
      " $ high_grad   : Factor w/ 6 levels \"apprenticeship\",..: 1 1 6 5 NA 3 2 3 1 6 ...\n",
      " $ high_grad_f : Factor w/ 7 levels \"commercial teaching\",..: 2 3 7 1 2 NA 2 4 2 2 ...\n",
      " $ high_grad_m : Factor w/ 7 levels \"commercial teaching\",..: 3 1 7 1 2 NA 4 1 1 1 ...\n",
      " $ satisfaction: int  10 9 8 8 7 9 8 9 8 8 ...\n"
     ]
    }
   ],
   "source": [
    "# read data directly from the github\n",
    "data <- read.csv(url('https://raw.githubusercontent.com/VIS-SIG/Wonderful-Wednesdays/master/data/2020/2020-05-13/Satisfaction_wW2005.csv'), na.strings = c(\".\", \"\"), header = TRUE)\n",
    "# show the first 10 observations\n",
    "head(data, 10)\n",
    "# show the structure of the data\n",
    "str(data)"
   ]
  },
  {
   "cell_type": "markdown",
   "metadata": {},
   "source": [
    "In the following we do some data manipulation steps to summarize\n",
    "the categorical variables and calculate the mean of the \n",
    "outcome variable `satisfaction` for the different subgroups.\n",
    "\n",
    "As an example we show how to summarize the information for the categorical variable: `age`. \n",
    "Then we write a function which performs the same task for all the subgroups.\n",
    "We use the pipe notation from the `dplyr` package."
   ]
  },
  {
   "cell_type": "code",
   "execution_count": 3,
   "metadata": {},
   "outputs": [
    {
     "name": "stderr",
     "output_type": "stream",
     "text": [
      "Warning message:\n",
      "\"Factor `age` contains implicit NA, consider using `forcats::fct_explicit_na`\"\n"
     ]
    },
    {
     "name": "stdout",
     "output_type": "stream",
     "text": [
      "\u001b[90m# A tibble: 4 x 5\u001b[39m\n",
      "  Variable     n mean_satisfaction percent group\n",
      "  \u001b[3m\u001b[90m<fct>\u001b[39m\u001b[23m    \u001b[3m\u001b[90m<int>\u001b[39m\u001b[23m             \u001b[3m\u001b[90m<dbl>\u001b[39m\u001b[23m   \u001b[3m\u001b[90m<dbl>\u001b[39m\u001b[23m \u001b[3m\u001b[90m<chr>\u001b[39m\u001b[23m\n",
      "\u001b[90m1\u001b[39m <30        401              7.61 11.6    Age  \n",
      "\u001b[90m2\u001b[39m >40       \u001b[4m2\u001b[24m458              7.51 70.9    Age  \n",
      "\u001b[90m3\u001b[39m 30-40      604              7.70 17.4    Age  \n",
      "\u001b[90m4\u001b[39m \u001b[31mNA\u001b[39m           3              7     0.086\u001b[4m6\u001b[24m Age  \n"
     ]
    }
   ],
   "source": [
    "d_age<- data %>%\n",
    "        filter(!is.na(satisfaction)) %>% # remove missings from outcome variable\n",
    "        group_by(age) %>% # group by categories within the variable age\n",
    "        summarize(n = n(), \n",
    "                  mean_satisfaction = mean(satisfaction)) %>% # get N' and mean of satisfaction for each category in age\n",
    "        mutate(percent = n / sum(n)*100) %>% # calculate relative frequency\n",
    "        mutate(group = \"Age\") %>% # give the category a label\n",
    "        rename(Variable = names(.)[1]) # rename the first column as \"Variable\"\n",
    "print(d_age)"
   ]
  },
  {
   "cell_type": "markdown",
   "metadata": {},
   "source": [
    "Note that the warning \"Factor `age` contains implicit NA, consider using `forcats::fct_explicit_na` \n",
    "is not of a big issue as it only makes us aware that the variable age has missings.\n",
    "\n",
    "Printing the results data set will show you that we calculated \n",
    "the mean of satisfaction over the distinct categorical values of `age` as well for `NA`'s (missings) which are present in `age`. That means that participants who didn't answer the question regarding age\n",
    "still answered the main question."
   ]
  },
  {
   "cell_type": "markdown",
   "metadata": {},
   "source": [
    "#### Now let's fit the previous data manipulation steps in a function so we can apply it to all subgroups."
   ]
  },
  {
   "cell_type": "code",
   "execution_count": 4,
   "metadata": {},
   "outputs": [],
   "source": [
    "foo_summarize<- function(dat = data, my_var = NULL, group_label = \"NA\"){\n",
    "   suppressWarnings(\n",
    "     ans<- dat %>%\n",
    "        filter(!is.na(satisfaction)) %>%\n",
    "        group_by({{my_var}}) %>%\n",
    "        summarize(n = n(), \n",
    "                  mean_satisfaction = mean(satisfaction)) %>%\n",
    "        mutate(percent = n / sum(n)*100) %>%\n",
    "        mutate(group = group_label) %>%\n",
    "        rename(Variable = names(.)[1])\n",
    "   )\n",
    "  \n",
    "   return(ans)\n",
    "}\n",
    "# Note that we suppress the warning about the missings as we want them in our results"
   ]
  },
  {
   "cell_type": "code",
   "execution_count": 5,
   "metadata": {},
   "outputs": [
    {
     "name": "stdout",
     "output_type": "stream",
     "text": [
      "\u001b[90m# A tibble: 71 x 5\u001b[39m\n",
      "   Variable     n mean_satisfaction percent group        \n",
      "   \u001b[3m\u001b[90m<fct>\u001b[39m\u001b[23m    \u001b[3m\u001b[90m<int>\u001b[39m\u001b[23m             \u001b[3m\u001b[90m<dbl>\u001b[39m\u001b[23m   \u001b[3m\u001b[90m<dbl>\u001b[39m\u001b[23m \u001b[3m\u001b[90m<chr>\u001b[39m\u001b[23m        \n",
      "\u001b[90m 1\u001b[39m <30        401              7.61 11.6    Age          \n",
      "\u001b[90m 2\u001b[39m >40       \u001b[4m2\u001b[24m458              7.51 70.9    Age          \n",
      "\u001b[90m 3\u001b[39m 30-40      604              7.70 17.4    Age          \n",
      "\u001b[90m 4\u001b[39m \u001b[31mNA\u001b[39m           3              7     0.086\u001b[4m6\u001b[24m Age          \n",
      "\u001b[90m 5\u001b[39m <=30      \u001b[4m2\u001b[24m784              7.56 80.3    BMI          \n",
      "\u001b[90m 6\u001b[39m >30        635              7.54 18.3    BMI          \n",
      "\u001b[90m 7\u001b[39m \u001b[31mNA\u001b[39m          47              7.40  1.36   BMI          \n",
      "\u001b[90m 8\u001b[39m <35h       387              7.70 11.2    Working hours\n",
      "\u001b[90m 9\u001b[39m >45h       398              7.58 11.5    Working hours\n",
      "\u001b[90m10\u001b[39m 35-45h    \u001b[4m1\u001b[24m133              7.71 32.7    Working hours\n",
      "\u001b[90m# ... with 61 more rows\u001b[39m\n"
     ]
    }
   ],
   "source": [
    "# calculate statistics for all the subgroups\n",
    "d_age<- foo_summarize(dat=data, my_var=age, group_label = \"Age\")\n",
    "d_bmi<- foo_summarize(dat=data, my_var=bmi, group_label = \"BMI\")\n",
    "d_w_hours<- foo_summarize(dat=data, my_var=w_hours, group_label = \"Working hours\")\n",
    "d_todoctor<- foo_summarize(dat=data, my_var=todoctor, group_label = \"Doctor visits per year\")\n",
    "d_income<- foo_summarize(dat=data, my_var=income, group_label = \"Net income\")\n",
    "d_smoker<- foo_summarize(dat=data, my_var=smoker, group_label = \"Smoker\")\n",
    "d_gender<- foo_summarize(dat=data, my_var=gender, group_label = \"Gender\")\n",
    "d_employed<- foo_summarize(dat=data, my_var=employed, group_label = \"Employment status\")\n",
    "d_graduat<- foo_summarize(dat=data, my_var=graduat, group_label = \"Graduation\")\n",
    "d_graduat_f<- foo_summarize(dat=data, my_var=graduat_f, group_label = \"Graduation of father\")\n",
    "d_graduat_m<- foo_summarize(dat=data, my_var=graduat_m, group_label = \"Graduation of mother\")\n",
    "d_high_grad<- foo_summarize(dat=data, my_var=high_grad, group_label = \"Highest educational grade\")\n",
    "d_high_grad_f<- foo_summarize(dat=data, my_var=high_grad_f, group_label = \"Highest educational grade (father)\")\n",
    "d_high_grad_m<- foo_summarize(dat=data, my_var=high_grad_m, group_label = \"Highest educational grade (mother)\")\n",
    "\n",
    "#combine all the results in one data set\n",
    "d_all<- do.call(rbind, list(d_age, d_bmi, d_w_hours, d_todoctor, d_income, d_smoker, d_gender, d_employed, d_graduat,\n",
    "                            d_graduat_f, d_graduat_m, d_high_grad, d_high_grad_f, d_high_grad_m))\n",
    "# print data\n",
    "print(d_all)"
   ]
  },
  {
   "cell_type": "code",
   "execution_count": 6,
   "metadata": {},
   "outputs": [],
   "source": [
    "# We will rename the NA's as \"Missing\" because it looks better in the plot,\n",
    "# before that we make sure that we turn the factors to character,\n",
    "# else we can't make changes to the variable.\n",
    "d_all$Variable<- as.character(d_all$Variable)\n",
    "d_all$Variable[which(is.na(d_all$Variable))]<- \"Missing\"\n",
    "\n",
    "# create descrete response variable to display colors in the plot better\n",
    "d_all$satisfation_categories<- cut(d_all$mean_satisfaction, \n",
    "                                   breaks=seq(round(min(d_all$mean_satisfaction)), round(max(d_all$mean_satisfaction)), 0.5), \n",
    "                                   labels=c(\"(6,6.5]\", \"(6.5,7]\", \"(7,7.5]\", \"(7.5,8]\", \"(8,8-5]\", \"(8.5-9]\"), right = TRUE)\n",
    "# create response with label\n",
    "d_all$satisfaction_lab<- paste(d_all$Variable, \" (\", round(d_all$mean_satisfaction, 1), \")\", sep = \"\")\n",
    "# colors for plot\n",
    "palette<- brewer.pal(n = 6, name = 'RdYlBu')"
   ]
  },
  {
   "cell_type": "markdown",
   "metadata": {},
   "source": [
    "### Making the plot\n",
    "First we want to make a basic treemap plot and then finish it up by making it pretty"
   ]
  },
  {
   "cell_type": "code",
   "execution_count": 7,
   "metadata": {
    "scrolled": false
   },
   "outputs": [
    {
     "data": {
      "image/png": "[encoded data removed]",
      "text/plain": [
       "plot without title"
      ]
     },
     "metadata": {
      "image/png": {
       "height": 840,
       "width": 960
      },
      "text/plain": {
       "height": 840,
       "width": 960
      }
     },
     "output_type": "display_data"
    }
   ],
   "source": [
    "# width and height of output window in jupyter\n",
    "options(repr.plot.width=16, repr.plot.height=14) \n",
    "g1<- ggplot(d_all, aes(area=percent, label = Variable, fill = satisfation_categories, subgroup = group)) + \n",
    "        geom_treemap() + # makes the treemap\n",
    "        facet_wrap( ~ group) # adds the subgroups\n",
    "g1"
   ]
  },
  {
   "cell_type": "markdown",
   "metadata": {},
   "source": [
    "As you can see the above 3 lines of code produce an image output. But there are several issues with this basic treeplot that need to be addressed:\n",
    "* the labels on the tiles are missing\n",
    "* the colors are not really appealing and suitable for this plot\n",
    "* the label on the legend has to be adjusted\n",
    "* title and context information is missing\n",
    "* the text describing the subgroups is too small"
   ]
  },
  {
   "cell_type": "code",
   "execution_count": 9,
   "metadata": {},
   "outputs": [
    {
     "data": {
      "image/png": "[encoded data removed]",
      "text/plain": [
       "plot without title"
      ]
     },
     "metadata": {
      "image/png": {
       "height": 840,
       "width": 1080
      },
      "text/plain": {
       "height": 840,
       "width": 1080
      }
     },
     "output_type": "display_data"
    }
   ],
   "source": [
    "options(repr.plot.width=18, repr.plot.height=14) \n",
    "\n",
    "g2<- ggplot(d_all, aes(area=percent, label = Variable, fill = satisfation_categories, subgroup = group)) + \n",
    "        geom_treemap() + # makes the treemap \n",
    "        geom_treemap_subgroup_border(size = 1.5, color = \"black\") + # changing the border color\n",
    "        geom_treemap_text(grow = T, reflow = T, place = \"topleft\", layout = \"scol\", min.size = 1,\n",
    "                          color = \"Darkblue\", size = 8) + # putting text on the tiles, make the text adjust to the size of the tiles automatically\n",
    "        scale_fill_manual(values = palette) + # add the custom colors              \n",
    "        facet_wrap( ~ group) + # wrap display by subgroup\n",
    "        theme(strip.text.x = element_text(size = 18, colour = \"Darkblue\")) # make subgroup text bigger\n",
    "\n",
    "g2"
   ]
  },
  {
   "cell_type": "code",
   "execution_count": 26,
   "metadata": {},
   "outputs": [
    {
     "data": {
      "image/png": "[encoded data removed]",
      "text/plain": [
       "plot without title"
      ]
     },
     "metadata": {},
     "output_type": "display_data"
    }
   ],
   "source": [
    "# finally we add some titles and labels to make the plot more accessible and self explaining\n",
    "options(repr.plot.width=18, repr.plot.height=14) \n",
    "g3<- ggplot(d_all, aes(area=percent, label = Variable, fill = satisfation_categories, subgroup = group)) + \n",
    "            geom_treemap() + \n",
    "            geom_treemap_subgroup_border(size = 1.5, color = \"black\") +\n",
    "            geom_treemap_text(grow = T, reflow = T, place = \"topleft\", layout = \"scol\", min.size = 1,\n",
    "                              color = \"Darkblue\", size = 10) +\n",
    "            scale_fill_manual(values = palette) + \n",
    "            facet_wrap( ~ group) + \n",
    "            theme(legend.position = \"bottom\", \n",
    "                  legend.text = element_text(color=\"black\", size = 18), \n",
    "                  legend.title = element_text(size = 18),\n",
    "                  plot.title = element_text(size = 24),\n",
    "                  plot.subtitle = element_text(size = 20), \n",
    "                  plot.caption = element_text(size = 14),\n",
    "                  strip.text.x = element_text(size = 18, colour = \"Darkblue\"))+ # make subgroup text bigger\n",
    "            labs(title = 'How would you rate your satisfaction with your life overall on a scale from 0-10? (10=completely satisfied)',\n",
    "                 subtitle = 'Descriptive analysis by subgroup: tiles are proportional to rel. frequencies of the choices within a subgroup',\n",
    "                 caption =\"Created with ggplot2-treemapify\",\n",
    "                 fill = \"Mean Satisfaction\")\n",
    "\n",
    "g3"
   ]
  },
  {
   "cell_type": "markdown",
   "metadata": {},
   "source": [
    "#### Explanation to the plot:\n",
    "So what does the plot tell us.\n",
    "* The tiles represent the different subgroups. The distribution of the values within a subgroup is proportional to the size of the tiles. For example there are more non-smokers as smokers. The distribution of males and females is even. Most of the participants are over the age of 40. And so on. You also see the proportion of missing data for each subgroup.\n",
    "* You can approximately deduct the mean of the satisfaction for the different sub-categories. For example participant who have more then 10 doctor visits per year are less satisfied. Non-smokers have a slightly higher satisfaction score then smokers. From a first overview you might also see that the mean variability of satisfaction over the categories is small and tends to be in the upper range.\n",
    "* Such an overview-plot may get you started with the process of understanding the data and give you ideas on how to progress on further analyses.\n",
    "<br>\n",
    "<br>\n",
    "Issues with such an plot could be names as: \n",
    "* The text on the tiles is not always quite readable because it gets too small. The text is not always fitting on the tiles. Here one could try out the other packages that produce treemaps and see if they handle these issues better. You could also dive deeper into the ggplot2 options and explore them.\n",
    "* Working in jupyter notebook and making the plot fit to the dimensions of the output window, makes most of the text unreadable. You could save the image to your hard disk drive with higher dimensions and look at it in fullscreen mode. Also producing that plot in RStudio and resizing the window to fullscreen would yield better visual representation. \n",
    "* You could go one step further and use this kind of plots in Rshiny to add mouse-over effects for the tiles displaying the actual percentages or satisfaction means. Also make sure to look at the `d3treeR+treemap` or `plotly` package if interactivity is desired.\n"
   ]
  },
  {
   "cell_type": "markdown",
   "metadata": {},
   "source": [
    "## 4. (Implementation in SAS)\n",
    "When it comes to SAS and treemaps there is no easy to use solution in SAS® Base. But there is the possibility to work with [SAS Visual Analytics](https://documentation.sas.com/?docsetId=vaobj&docsetTarget=p0cvtwmyn64desn1w721b6u8tzur.htm&docsetVersion=8.1&locale=en) and create treemaps with that. Note that this software comes with a price and may therefore be not easily accessible throughout the departments at your company and in your private work environment.\n"
   ]
  },
  {
   "cell_type": "markdown",
   "metadata": {},
   "source": [
    "## 5. Implementation in Python\n",
    "For the following code to work you should switch your Jupyter Kernel from `R` to `Python`. We are using `Python 3`."
   ]
  },
  {
   "cell_type": "markdown",
   "metadata": {},
   "source": [
    "You can use Anaconda Navigator to install packages for your environment. Make sure that your kernel/python environment has the packages installed. Alternatively use the anaconda prompt to install packages like this: \n",
    "* activate the environment (for example if your environment for the Python Kernel is named \"my_python_env\"): conda activate my_python_env.\n",
    "* pip install pandas\n",
    "* pip install matplotlib\n",
    "* pip install plotly\n",
    "\n",
    "### Load the packages"
   ]
  },
  {
   "cell_type": "code",
   "execution_count": 1,
   "metadata": {
    "scrolled": true
   },
   "outputs": [],
   "source": [
    "# load the packages\n",
    "from IPython.display import Image\n",
    "import matplotlib\n",
    "import matplotlib.pyplot as plt\n",
    "import pandas as pd\n",
    "import plotly.express as px\n",
    "%matplotlib inline"
   ]
  },
  {
   "cell_type": "markdown",
   "metadata": {},
   "source": [
    "#### Make more space for your plots, so you don't have a box with a scroll bar."
   ]
  },
  {
   "cell_type": "code",
   "execution_count": 2,
   "metadata": {},
   "outputs": [
    {
     "data": {
      "application/javascript": [
       "IPython.OutputArea.prototype._should_scroll = function(lines){\n",
       "    return false;\n",
       "}\n"
      ],
      "text/plain": [
       "<IPython.core.display.Javascript object>"
      ]
     },
     "metadata": {},
     "output_type": "display_data"
    }
   ],
   "source": [
    "%%javascript\n",
    "IPython.OutputArea.prototype._should_scroll = function(lines){\n",
    "    return false;\n",
    "}"
   ]
  },
  {
   "cell_type": "markdown",
   "metadata": {},
   "source": [
    "### Read the data + Data wrangling"
   ]
  },
  {
   "cell_type": "code",
   "execution_count": 4,
   "metadata": {},
   "outputs": [
    {
     "data": {
      "text/html": [
       "<div>\n",
       "<style scoped>\n",
       "    .dataframe tbody tr th:only-of-type {\n",
       "        vertical-align: middle;\n",
       "    }\n",
       "\n",
       "    .dataframe tbody tr th {\n",
       "        vertical-align: top;\n",
       "    }\n",
       "\n",
       "    .dataframe thead th {\n",
       "        text-align: right;\n",
       "    }\n",
       "</style>\n",
       "<table border=\"1\" class=\"dataframe\">\n",
       "  <thead>\n",
       "    <tr style=\"text-align: right;\">\n",
       "      <th></th>\n",
       "      <th>Unnamed: 0</th>\n",
       "      <th>ID</th>\n",
       "      <th>age</th>\n",
       "      <th>bmi</th>\n",
       "      <th>w_hours</th>\n",
       "      <th>todoctor</th>\n",
       "      <th>income</th>\n",
       "      <th>smoker</th>\n",
       "      <th>gender</th>\n",
       "      <th>employed</th>\n",
       "      <th>graduat</th>\n",
       "      <th>graduat_f</th>\n",
       "      <th>graduat_m</th>\n",
       "      <th>high_grad</th>\n",
       "      <th>high_grad_f</th>\n",
       "      <th>high_grad_m</th>\n",
       "      <th>satisfaction</th>\n",
       "    </tr>\n",
       "  </thead>\n",
       "  <tbody>\n",
       "    <tr>\n",
       "      <th>0</th>\n",
       "      <td>1</td>\n",
       "      <td>1359</td>\n",
       "      <td>&gt;40</td>\n",
       "      <td>&gt;30</td>\n",
       "      <td>missing</td>\n",
       "      <td>&lt;6 visits</td>\n",
       "      <td>&lt;1000</td>\n",
       "      <td>Y</td>\n",
       "      <td>female</td>\n",
       "      <td>non-working</td>\n",
       "      <td>secondary school</td>\n",
       "      <td>secondary school</td>\n",
       "      <td>university entrance</td>\n",
       "      <td>apprenticeship</td>\n",
       "      <td>industrial/agric. teaching</td>\n",
       "      <td>master craftman</td>\n",
       "      <td>10</td>\n",
       "    </tr>\n",
       "    <tr>\n",
       "      <th>1</th>\n",
       "      <td>2</td>\n",
       "      <td>2455</td>\n",
       "      <td>&gt;40</td>\n",
       "      <td>&lt;=30</td>\n",
       "      <td>&lt;35h</td>\n",
       "      <td>&lt;6 visits</td>\n",
       "      <td>&lt;1000</td>\n",
       "      <td>N</td>\n",
       "      <td>female</td>\n",
       "      <td>regular half-time</td>\n",
       "      <td>secondary school</td>\n",
       "      <td>elementary school</td>\n",
       "      <td>elementary school</td>\n",
       "      <td>apprenticeship</td>\n",
       "      <td>master craftman</td>\n",
       "      <td>commercial teaching</td>\n",
       "      <td>9</td>\n",
       "    </tr>\n",
       "    <tr>\n",
       "      <th>2</th>\n",
       "      <td>3</td>\n",
       "      <td>200</td>\n",
       "      <td>30-40</td>\n",
       "      <td>&gt;30</td>\n",
       "      <td>missing</td>\n",
       "      <td>&lt;6 visits</td>\n",
       "      <td>missing</td>\n",
       "      <td>N</td>\n",
       "      <td>male</td>\n",
       "      <td>non-working</td>\n",
       "      <td>university entrance</td>\n",
       "      <td>university entrance</td>\n",
       "      <td>university entrance</td>\n",
       "      <td>university degree</td>\n",
       "      <td>university degree</td>\n",
       "      <td>university degree</td>\n",
       "      <td>8</td>\n",
       "    </tr>\n",
       "    <tr>\n",
       "      <th>3</th>\n",
       "      <td>4</td>\n",
       "      <td>1280</td>\n",
       "      <td>&gt;40</td>\n",
       "      <td>&lt;=30</td>\n",
       "      <td>&gt;45h</td>\n",
       "      <td>&lt;6 visits</td>\n",
       "      <td>missing</td>\n",
       "      <td>N</td>\n",
       "      <td>male</td>\n",
       "      <td>regular full-time</td>\n",
       "      <td>tech.college entrance qual.</td>\n",
       "      <td>secondary school</td>\n",
       "      <td>secondary school</td>\n",
       "      <td>tech.college degree</td>\n",
       "      <td>commercial teaching</td>\n",
       "      <td>commercial teaching</td>\n",
       "      <td>8</td>\n",
       "    </tr>\n",
       "    <tr>\n",
       "      <th>4</th>\n",
       "      <td>5</td>\n",
       "      <td>2384</td>\n",
       "      <td>&lt;30</td>\n",
       "      <td>&lt;=30</td>\n",
       "      <td>missing</td>\n",
       "      <td>&lt;6 visits</td>\n",
       "      <td>missing</td>\n",
       "      <td>N</td>\n",
       "      <td>female</td>\n",
       "      <td>non-working</td>\n",
       "      <td>missing</td>\n",
       "      <td>secondary school</td>\n",
       "      <td>elementary school</td>\n",
       "      <td>missing</td>\n",
       "      <td>industrial/agric. teaching</td>\n",
       "      <td>industrial/agric. teaching</td>\n",
       "      <td>7</td>\n",
       "    </tr>\n",
       "  </tbody>\n",
       "</table>\n",
       "</div>"
      ],
      "text/plain": [
       "   Unnamed: 0    ID    age   bmi  w_hours   todoctor   income smoker  gender  \\\n",
       "0           1  1359    >40   >30  missing  <6 visits    <1000      Y  female   \n",
       "1           2  2455    >40  <=30     <35h  <6 visits    <1000      N  female   \n",
       "2           3   200  30-40   >30  missing  <6 visits  missing      N    male   \n",
       "3           4  1280    >40  <=30     >45h  <6 visits  missing      N    male   \n",
       "4           5  2384    <30  <=30  missing  <6 visits  missing      N  female   \n",
       "\n",
       "            employed                      graduat            graduat_f  \\\n",
       "0        non-working             secondary school     secondary school   \n",
       "1  regular half-time             secondary school    elementary school   \n",
       "2        non-working          university entrance  university entrance   \n",
       "3  regular full-time  tech.college entrance qual.     secondary school   \n",
       "4        non-working                      missing     secondary school   \n",
       "\n",
       "             graduat_m            high_grad                 high_grad_f  \\\n",
       "0  university entrance       apprenticeship  industrial/agric. teaching   \n",
       "1    elementary school       apprenticeship             master craftman   \n",
       "2  university entrance    university degree           university degree   \n",
       "3     secondary school  tech.college degree         commercial teaching   \n",
       "4    elementary school              missing  industrial/agric. teaching   \n",
       "\n",
       "                  high_grad_m  satisfaction  \n",
       "0             master craftman            10  \n",
       "1         commercial teaching             9  \n",
       "2           university degree             8  \n",
       "3         commercial teaching             8  \n",
       "4  industrial/agric. teaching             7  "
      ]
     },
     "execution_count": 4,
     "metadata": {},
     "output_type": "execute_result"
    }
   ],
   "source": [
    "# read the data\n",
    "my_data = pd.read_csv(\"https://raw.githubusercontent.com/VIS-SIG/Wonderful-Wednesdays/master/data/2020/2020-05-13/Satisfaction_wW2005.csv\")\n",
    "\n",
    "# handle missings\n",
    "my_data = my_data.fillna(\"missing\")\n",
    "my_data = my_data.replace(to_replace = \".\", value = \"missing\")\n",
    "my_data.head()"
   ]
  },
  {
   "cell_type": "markdown",
   "metadata": {},
   "source": [
    "We want to use a simple and basic approach to manipulate the data\n",
    "as close to the R - code above as possible.  \n",
    "The interested reader is encouraged to implement a more elegant way.\n",
    "\n",
    "Define a function to calculate the `n`, `percent` and `mean` of satisfaction for a subgroup."
   ]
  },
  {
   "cell_type": "code",
   "execution_count": 5,
   "metadata": {},
   "outputs": [],
   "source": [
    "def summarizing(data, variables, labels, response, stat = \"mean\"):\n",
    "    df_results = pd.DataFrame() # empty dataframe to store end results\n",
    "    \n",
    "    for i in range(len(variables)):\n",
    "        df_var = data.groupby([variables[i]]).size() # get counts\n",
    "        df_percent = df_var/df_var.sum() # calc percentages\n",
    "        group_values = df_percent.axes[0].tolist() # capture the group levels\n",
    "        df_mean = data.groupby([variables[i]]).agg({response: stat}) # calculate mean  \n",
    "        df_temp = pd.concat([df_var, df_percent, df_mean], axis = 1).reset_index(drop=True) # column bind the data and remove the header column\n",
    "        df_temp[\"labels\"] = labels[i] # assign labels \n",
    "        df_temp[\"group\"] = group_values # assign group levels\n",
    "        df_results = pd.concat([df_temp, df_results]) # row bind the data to get end results\n",
    "        \n",
    "    return df_results"
   ]
  },
  {
   "cell_type": "code",
   "execution_count": 6,
   "metadata": {},
   "outputs": [
    {
     "data": {
      "text/html": [
       "<div>\n",
       "<style scoped>\n",
       "    .dataframe tbody tr th:only-of-type {\n",
       "        vertical-align: middle;\n",
       "    }\n",
       "\n",
       "    .dataframe tbody tr th {\n",
       "        vertical-align: top;\n",
       "    }\n",
       "\n",
       "    .dataframe thead th {\n",
       "        text-align: right;\n",
       "    }\n",
       "</style>\n",
       "<table border=\"1\" class=\"dataframe\">\n",
       "  <thead>\n",
       "    <tr style=\"text-align: right;\">\n",
       "      <th></th>\n",
       "      <th>N</th>\n",
       "      <th>Percentage</th>\n",
       "      <th>Mean of satisfaction</th>\n",
       "      <th>Labels</th>\n",
       "      <th>Group</th>\n",
       "    </tr>\n",
       "  </thead>\n",
       "  <tbody>\n",
       "    <tr>\n",
       "      <th>0</th>\n",
       "      <td>2784</td>\n",
       "      <td>0.803231</td>\n",
       "      <td>7.562141</td>\n",
       "      <td>BMI</td>\n",
       "      <td>&lt;=30</td>\n",
       "    </tr>\n",
       "    <tr>\n",
       "      <th>1</th>\n",
       "      <td>635</td>\n",
       "      <td>0.183208</td>\n",
       "      <td>7.538583</td>\n",
       "      <td>BMI</td>\n",
       "      <td>&gt;30</td>\n",
       "    </tr>\n",
       "    <tr>\n",
       "      <th>2</th>\n",
       "      <td>47</td>\n",
       "      <td>0.013560</td>\n",
       "      <td>7.404255</td>\n",
       "      <td>BMI</td>\n",
       "      <td>missing</td>\n",
       "    </tr>\n",
       "    <tr>\n",
       "      <th>0</th>\n",
       "      <td>604</td>\n",
       "      <td>0.174264</td>\n",
       "      <td>7.698675</td>\n",
       "      <td>Age</td>\n",
       "      <td>30-40</td>\n",
       "    </tr>\n",
       "    <tr>\n",
       "      <th>1</th>\n",
       "      <td>401</td>\n",
       "      <td>0.115695</td>\n",
       "      <td>7.613466</td>\n",
       "      <td>Age</td>\n",
       "      <td>&lt;30</td>\n",
       "    </tr>\n",
       "  </tbody>\n",
       "</table>\n",
       "</div>"
      ],
      "text/plain": [
       "      N  Percentage  Mean of satisfaction Labels    Group\n",
       "0  2784    0.803231              7.562141    BMI     <=30\n",
       "1   635    0.183208              7.538583    BMI      >30\n",
       "2    47    0.013560              7.404255    BMI  missing\n",
       "0   604    0.174264              7.698675    Age    30-40\n",
       "1   401    0.115695              7.613466    Age      <30"
      ]
     },
     "execution_count": 6,
     "metadata": {},
     "output_type": "execute_result"
    }
   ],
   "source": [
    "#apply the function to one subgroup to test it\n",
    "d_test = summarizing(data=my_data, \n",
    "                 variables=[\"age\", \"bmi\"],\n",
    "                 labels=[\"Age\", \"BMI\"],\n",
    "                 response=\"satisfaction\",\n",
    "                 stat=\"mean\")\n",
    "\n",
    "# rename columns\n",
    "d_test.columns = [\"N\", \"Percentage\", \"Mean of satisfaction\", \"Labels\", \"Group\"] \n",
    "d_test.head()"
   ]
  },
  {
   "cell_type": "code",
   "execution_count": 7,
   "metadata": {
    "scrolled": false
   },
   "outputs": [
    {
     "data": {
      "text/html": [
       "<div>\n",
       "<style scoped>\n",
       "    .dataframe tbody tr th:only-of-type {\n",
       "        vertical-align: middle;\n",
       "    }\n",
       "\n",
       "    .dataframe tbody tr th {\n",
       "        vertical-align: top;\n",
       "    }\n",
       "\n",
       "    .dataframe thead th {\n",
       "        text-align: right;\n",
       "    }\n",
       "</style>\n",
       "<table border=\"1\" class=\"dataframe\">\n",
       "  <thead>\n",
       "    <tr style=\"text-align: right;\">\n",
       "      <th></th>\n",
       "      <th>N</th>\n",
       "      <th>Percentage</th>\n",
       "      <th>Mean of satisfaction</th>\n",
       "      <th>Labels</th>\n",
       "      <th>Group</th>\n",
       "    </tr>\n",
       "  </thead>\n",
       "  <tbody>\n",
       "    <tr>\n",
       "      <th>0</th>\n",
       "      <td>760</td>\n",
       "      <td>0.219</td>\n",
       "      <td>7.655</td>\n",
       "      <td>Highest educational grade (mother)</td>\n",
       "      <td>commercial teaching</td>\n",
       "    </tr>\n",
       "    <tr>\n",
       "      <th>1</th>\n",
       "      <td>832</td>\n",
       "      <td>0.240</td>\n",
       "      <td>7.540</td>\n",
       "      <td>Highest educational grade (mother)</td>\n",
       "      <td>industrial/agric. teaching</td>\n",
       "    </tr>\n",
       "    <tr>\n",
       "      <th>2</th>\n",
       "      <td>148</td>\n",
       "      <td>0.043</td>\n",
       "      <td>7.703</td>\n",
       "      <td>Highest educational grade (mother)</td>\n",
       "      <td>master craftman</td>\n",
       "    </tr>\n",
       "    <tr>\n",
       "      <th>3</th>\n",
       "      <td>264</td>\n",
       "      <td>0.076</td>\n",
       "      <td>7.583</td>\n",
       "      <td>Highest educational grade (mother)</td>\n",
       "      <td>missing</td>\n",
       "    </tr>\n",
       "    <tr>\n",
       "      <th>4</th>\n",
       "      <td>1109</td>\n",
       "      <td>0.320</td>\n",
       "      <td>7.429</td>\n",
       "      <td>Highest educational grade (mother)</td>\n",
       "      <td>no degree</td>\n",
       "    </tr>\n",
       "    <tr>\n",
       "      <th>5</th>\n",
       "      <td>86</td>\n",
       "      <td>0.025</td>\n",
       "      <td>7.535</td>\n",
       "      <td>Highest educational grade (mother)</td>\n",
       "      <td>other degree</td>\n",
       "    </tr>\n",
       "    <tr>\n",
       "      <th>6</th>\n",
       "      <td>106</td>\n",
       "      <td>0.031</td>\n",
       "      <td>7.425</td>\n",
       "      <td>Highest educational grade (mother)</td>\n",
       "      <td>tech.college degree</td>\n",
       "    </tr>\n",
       "    <tr>\n",
       "      <th>7</th>\n",
       "      <td>161</td>\n",
       "      <td>0.046</td>\n",
       "      <td>7.957</td>\n",
       "      <td>Highest educational grade (mother)</td>\n",
       "      <td>university degree</td>\n",
       "    </tr>\n",
       "    <tr>\n",
       "      <th>0</th>\n",
       "      <td>231</td>\n",
       "      <td>0.067</td>\n",
       "      <td>7.593</td>\n",
       "      <td>Highest edu. grade (father)</td>\n",
       "      <td>commercial teaching</td>\n",
       "    </tr>\n",
       "    <tr>\n",
       "      <th>1</th>\n",
       "      <td>1491</td>\n",
       "      <td>0.430</td>\n",
       "      <td>7.436</td>\n",
       "      <td>Highest edu. grade (father)</td>\n",
       "      <td>industrial/agric. teaching</td>\n",
       "    </tr>\n",
       "  </tbody>\n",
       "</table>\n",
       "</div>"
      ],
      "text/plain": [
       "      N  Percentage  Mean of satisfaction                              Labels  \\\n",
       "0   760       0.219                 7.655  Highest educational grade (mother)   \n",
       "1   832       0.240                 7.540  Highest educational grade (mother)   \n",
       "2   148       0.043                 7.703  Highest educational grade (mother)   \n",
       "3   264       0.076                 7.583  Highest educational grade (mother)   \n",
       "4  1109       0.320                 7.429  Highest educational grade (mother)   \n",
       "5    86       0.025                 7.535  Highest educational grade (mother)   \n",
       "6   106       0.031                 7.425  Highest educational grade (mother)   \n",
       "7   161       0.046                 7.957  Highest educational grade (mother)   \n",
       "0   231       0.067                 7.593         Highest edu. grade (father)   \n",
       "1  1491       0.430                 7.436         Highest edu. grade (father)   \n",
       "\n",
       "                        Group  \n",
       "0         commercial teaching  \n",
       "1  industrial/agric. teaching  \n",
       "2             master craftman  \n",
       "3                     missing  \n",
       "4                   no degree  \n",
       "5                other degree  \n",
       "6         tech.college degree  \n",
       "7           university degree  \n",
       "0         commercial teaching  \n",
       "1  industrial/agric. teaching  "
      ]
     },
     "execution_count": 7,
     "metadata": {},
     "output_type": "execute_result"
    }
   ],
   "source": [
    "# create the data that we need to plotting, use all the variables that we have.\n",
    "d1 = summarizing(data=my_data, \n",
    "                 variables=[\"age\", \"bmi\", \"w_hours\", \"todoctor\", \"income\", \"smoker\", \"gender\", \"employed\",\n",
    "                           \"graduat\", \"graduat_f\", \"graduat_m\", \"high_grad\", \"high_grad_f\",\n",
    "                            \"high_grad_m\"],\n",
    "                 labels=[\"Age\", \"BMI\", \"Working hours\", \"Doctor visits per year\",\"Net income\", \"Smoker\", \"Gender\", \"Employment status\",\n",
    "                        \"Graduation\", \"Graduation of father\", \"Graduation of mother\", \"Highest edu. grade\", \"Highest edu. grade (father)\",\n",
    "                         \"Highest educational grade (mother)\"],\n",
    "                 response=\"satisfaction\",\n",
    "                 stat=\"mean\")\n",
    "\n",
    "# assign proper labels\n",
    "d1.columns = [\"N\", \"Percentage\", \"Mean of satisfaction\", \"Labels\", \"Group\"]\n",
    "# round numbers\n",
    "d1 = d1.round(3) \n",
    "d1.head(10)"
   ]
  },
  {
   "cell_type": "markdown",
   "metadata": {},
   "source": [
    "### Making the plot\n",
    "We will use the plotly module in python to create an interactive plot."
   ]
  },
  {
   "cell_type": "code",
   "execution_count": 20,
   "metadata": {},
   "outputs": [
    {
     "data": {
      "application/vnd.plotly.v1+json": {
       "config": {
        "plotlyServerURL": "https://plot.ly"
       },
       "data": [
        {
         "branchvalues": "total",
         "customdata": [
          [
           7.558
          ],
          [
           7.788
          ],
          [
           7.699000000000001
          ],
          [
           7.712
          ],
          [
           7.208000000000001
          ],
          [
           7.41
          ],
          [
           7.613
          ],
          [
           7.703
          ],
          [
           7.594
          ],
          [
           7.562000000000001
          ],
          [
           6.588000000000001
          ],
          [
           7.539000000000001
          ],
          [
           7.5120000000000005
          ],
          [
           7.583
          ],
          [
           7.791000000000001
          ],
          [
           7.748
          ],
          [
           7.096
          ],
          [
           7.411
          ],
          [
           7.593
          ],
          [
           7.655
          ],
          [
           7.372000000000001
          ],
          [
           7.411
          ],
          [
           7.475
          ],
          [
           7.48
          ],
          [
           7.436
          ],
          [
           7.54
          ],
          [
           7.626
          ],
          [
           7.574
          ],
          [
           7.59
          ],
          [
           7.703
          ],
          [
           7
          ],
          [
           7.404
          ],
          [
           8
          ],
          [
           9
          ],
          [
           7.395
          ],
          [
           7.618999999999999
          ],
          [
           7.529
          ],
          [
           7.5
          ],
          [
           7.609
          ],
          [
           7.583000000000001
          ],
          [
           7.5
          ],
          [
           6.333
          ],
          [
           7.397
          ],
          [
           7.466
          ],
          [
           7.425
          ],
          [
           7.22
          ],
          [
           7.545
          ],
          [
           7.465
          ],
          [
           7.429000000000001
          ],
          [
           7.399
          ],
          [
           7.6129999999999995
          ],
          [
           8.019
          ],
          [
           7.535
          ],
          [
           7.324
          ],
          [
           7.684000000000001
          ],
          [
           7.699
          ],
          [
           7.406
          ],
          [
           7.641
          ],
          [
           7.738
          ],
          [
           7.773000000000001
          ],
          [
           7.834
          ],
          [
           7.425
          ],
          [
           7.874
          ],
          [
           7.882000000000001
          ],
          [
           7.622
          ],
          [
           7.844
          ],
          [
           7.860000000000001
          ],
          [
           7.957000000000001
          ],
          [
           7.843
          ],
          [
           7.936
          ],
          [
           7.7589999999999995
          ],
          [
           7.555742
          ],
          [
           7.555579000000001
          ],
          [
           7.554986
          ],
          [
           7.556076000000001
          ],
          [
           7.555774
          ],
          [
           7.556318000000001
          ],
          [
           7.555667000000001
          ],
          [
           7.55541941941942
          ],
          [
           7.555743
          ],
          [
           7.555587
          ],
          [
           7.555434000000001
          ],
          [
           7.555700299700301
          ],
          [
           7.555549
          ],
          [
           7.555508491508491
          ]
         ],
         "domain": {
          "x": [
           0,
           1
          ],
          "y": [
           0,
           1
          ]
         },
         "hovertemplate": "labels=%{label}<br>Percentage=%{value}<br>parent=%{parent}<br>id=%{id}<br>Mean of satisfaction=%{color}<extra></extra>",
         "ids": [
          "Net income/1000- <2000",
          "Net income/2000- <3000",
          "Age/30-40",
          "Working hours/35-45h",
          "Doctor visits per year/7-10 visits",
          "Net income/<1000",
          "Age/<30",
          "Working hours/<35h",
          "Doctor visits per year/<6 visits",
          "BMI/<=30",
          "Doctor visits per year/>10 visits",
          "BMI/>30",
          "Age/>40",
          "Working hours/>45h",
          "Net income/>=3000",
          "Smoker/N",
          "Smoker/Y",
          "Highest edu. grade/apprenticeship",
          "Highest edu. grade (father)/commercial teaching",
          "Highest educational grade (mother)/commercial teaching",
          "Graduation/elementary school",
          "Graduation of father/elementary school",
          "Graduation of mother/elementary school",
          "Gender/female",
          "Highest edu. grade (father)/industrial/agric. teaching",
          "Highest educational grade (mother)/industrial/agric. teaching",
          "Gender/male",
          "Highest edu. grade/master craftman",
          "Highest edu. grade (father)/master craftman",
          "Highest educational grade (mother)/master craftman",
          "Age/missing",
          "BMI/missing",
          "Doctor visits per year/missing",
          "Employment status/missing",
          "Graduation/missing",
          "Graduation of father/missing",
          "Graduation of mother/missing",
          "Highest edu. grade/missing",
          "Highest edu. grade (father)/missing",
          "Highest educational grade (mother)/missing",
          "Net income/missing",
          "Smoker/missing",
          "Working hours/missing",
          "Graduation/no degree",
          "Graduation of father/no degree",
          "Graduation of mother/no degree",
          "Highest edu. grade/no degree",
          "Highest edu. grade (father)/no degree",
          "Highest educational grade (mother)/no degree",
          "Employment status/non-working",
          "Highest edu. grade/other degree",
          "Highest edu. grade (father)/other degree",
          "Highest educational grade (mother)/other degree",
          "Employment status/part-time job",
          "Employment status/regular full-time",
          "Employment status/regular half-time",
          "Graduation/secondary school",
          "Graduation of father/secondary school",
          "Graduation of mother/secondary school",
          "Highest edu. grade/tech.college degree",
          "Highest edu. grade (father)/tech.college degree",
          "Highest educational grade (mother)/tech.college degree",
          "Graduation/tech.college entrance qual.",
          "Graduation of father/tech.college entrance qual.",
          "Graduation of mother/tech.college entrance qual.",
          "Highest edu. grade/university degree",
          "Highest edu. grade (father)/university degree",
          "Highest educational grade (mother)/university degree",
          "Graduation/university entrance",
          "Graduation of father/university entrance",
          "Graduation of mother/university entrance",
          "Age",
          "BMI",
          "Doctor visits per year",
          "Employment status",
          "Gender",
          "Graduation",
          "Graduation of father",
          "Graduation of mother",
          "Highest edu. grade",
          "Highest edu. grade (father)",
          "Highest educational grade (mother)",
          "Net income",
          "Smoker",
          "Working hours"
         ],
         "labels": [
          "1000- <2000",
          "2000- <3000",
          "30-40",
          "35-45h",
          "7-10 visits",
          "<1000",
          "<30",
          "<35h",
          "<6 visits",
          "<=30",
          ">10 visits",
          ">30",
          ">40",
          ">45h",
          ">=3000",
          "N",
          "Y",
          "apprenticeship",
          "commercial teaching",
          "commercial teaching",
          "elementary school",
          "elementary school",
          "elementary school",
          "female",
          "industrial/agric. teaching",
          "industrial/agric. teaching",
          "male",
          "master craftman",
          "master craftman",
          "master craftman",
          "missing",
          "missing",
          "missing",
          "missing",
          "missing",
          "missing",
          "missing",
          "missing",
          "missing",
          "missing",
          "missing",
          "missing",
          "missing",
          "no degree",
          "no degree",
          "no degree",
          "no degree",
          "no degree",
          "no degree",
          "non-working",
          "other degree",
          "other degree",
          "other degree",
          "part-time job",
          "regular full-time",
          "regular half-time",
          "secondary school",
          "secondary school",
          "secondary school",
          "tech.college degree",
          "tech.college degree",
          "tech.college degree",
          "tech.college entrance qual.",
          "tech.college entrance qual.",
          "tech.college entrance qual.",
          "university degree",
          "university degree",
          "university degree",
          "university entrance",
          "university entrance",
          "university entrance",
          "Age",
          "BMI",
          "Doctor visits per year",
          "Employment status",
          "Gender",
          "Graduation",
          "Graduation of father",
          "Graduation of mother",
          "Highest edu. grade",
          "Highest edu. grade (father)",
          "Highest educational grade (mother)",
          "Net income",
          "Smoker",
          "Working hours"
         ],
         "marker": {
          "coloraxis": "coloraxis",
          "colors": [
           7.558,
           7.788,
           7.699000000000001,
           7.712,
           7.208000000000001,
           7.41,
           7.613,
           7.703,
           7.594,
           7.562000000000001,
           6.588000000000001,
           7.539000000000001,
           7.5120000000000005,
           7.583,
           7.791000000000001,
           7.748,
           7.096,
           7.411,
           7.593,
           7.655,
           7.372000000000001,
           7.411,
           7.475,
           7.48,
           7.436,
           7.54,
           7.626,
           7.574,
           7.59,
           7.703,
           7,
           7.404,
           8,
           9,
           7.395,
           7.618999999999999,
           7.529,
           7.5,
           7.609,
           7.583000000000001,
           7.5,
           6.333,
           7.397,
           7.466,
           7.425,
           7.22,
           7.545,
           7.465,
           7.429000000000001,
           7.399,
           7.6129999999999995,
           8.019,
           7.535,
           7.324,
           7.684000000000001,
           7.699,
           7.406,
           7.641,
           7.738,
           7.773000000000001,
           7.834,
           7.425,
           7.874,
           7.882000000000001,
           7.622,
           7.844,
           7.860000000000001,
           7.957000000000001,
           7.843,
           7.936,
           7.7589999999999995,
           7.555742,
           7.555579000000001,
           7.554986,
           7.556076000000001,
           7.555774,
           7.556318000000001,
           7.555667000000001,
           7.55541941941942,
           7.555743,
           7.555587,
           7.555434000000001,
           7.555700299700301,
           7.555549,
           7.555508491508491
          ]
         },
         "name": "",
         "parents": [
          "Net income",
          "Net income",
          "Age",
          "Working hours",
          "Doctor visits per year",
          "Net income",
          "Age",
          "Working hours",
          "Doctor visits per year",
          "BMI",
          "Doctor visits per year",
          "BMI",
          "Age",
          "Working hours",
          "Net income",
          "Smoker",
          "Smoker",
          "Highest edu. grade",
          "Highest edu. grade (father)",
          "Highest educational grade (mother)",
          "Graduation",
          "Graduation of father",
          "Graduation of mother",
          "Gender",
          "Highest edu. grade (father)",
          "Highest educational grade (mother)",
          "Gender",
          "Highest edu. grade",
          "Highest edu. grade (father)",
          "Highest educational grade (mother)",
          "Age",
          "BMI",
          "Doctor visits per year",
          "Employment status",
          "Graduation",
          "Graduation of father",
          "Graduation of mother",
          "Highest edu. grade",
          "Highest edu. grade (father)",
          "Highest educational grade (mother)",
          "Net income",
          "Smoker",
          "Working hours",
          "Graduation",
          "Graduation of father",
          "Graduation of mother",
          "Highest edu. grade",
          "Highest edu. grade (father)",
          "Highest educational grade (mother)",
          "Employment status",
          "Highest edu. grade",
          "Highest edu. grade (father)",
          "Highest educational grade (mother)",
          "Employment status",
          "Employment status",
          "Employment status",
          "Graduation",
          "Graduation of father",
          "Graduation of mother",
          "Highest edu. grade",
          "Highest edu. grade (father)",
          "Highest educational grade (mother)",
          "Graduation",
          "Graduation of father",
          "Graduation of mother",
          "Highest edu. grade",
          "Highest edu. grade (father)",
          "Highest educational grade (mother)",
          "Graduation",
          "Graduation of father",
          "Graduation of mother",
          "",
          "",
          "",
          "",
          "",
          "",
          "",
          "",
          "",
          "",
          "",
          "",
          "",
          ""
         ],
         "type": "treemap",
         "values": [
          0.31,
          0.142,
          0.174,
          0.327,
          0.05,
          0.261,
          0.116,
          0.112,
          0.929,
          0.803,
          0.02,
          0.183,
          0.709,
          0.115,
          0.07,
          0.706,
          0.293,
          0.448,
          0.067,
          0.219,
          0.272,
          0.53,
          0.564,
          0.481,
          0.43,
          0.24,
          0.519,
          0.11,
          0.114,
          0.043,
          0.001,
          0.014,
          0.001,
          0.001,
          0.011,
          0.111,
          0.065,
          0.006,
          0.095,
          0.076,
          0.218,
          0.001,
          0.447,
          0.021,
          0.035,
          0.037,
          0.132,
          0.128,
          0.32,
          0.379,
          0.077,
          0.015,
          0.025,
          0.063,
          0.46,
          0.097,
          0.339,
          0.159,
          0.226,
          0.074,
          0.054,
          0.031,
          0.078,
          0.039,
          0.026,
          0.153,
          0.097,
          0.046,
          0.279,
          0.126,
          0.081,
          0.9999999999999999,
          1,
          1,
          1,
          1,
          1,
          1,
          0.999,
          1,
          1,
          1,
          1.001,
          0.9999999999999999,
          1.0010000000000001
         ]
        }
       ],
       "layout": {
        "coloraxis": {
         "colorbar": {
          "title": {
           "text": "Mean of satisfaction"
          }
         },
         "colorscale": [
          [
           0,
           "rgb(165,0,38)"
          ],
          [
           0.1,
           "rgb(215,48,39)"
          ],
          [
           0.2,
           "rgb(244,109,67)"
          ],
          [
           0.3,
           "rgb(253,174,97)"
          ],
          [
           0.4,
           "rgb(254,224,144)"
          ],
          [
           0.5,
           "rgb(255,255,191)"
          ],
          [
           0.6,
           "rgb(224,243,248)"
          ],
          [
           0.7,
           "rgb(171,217,233)"
          ],
          [
           0.8,
           "rgb(116,173,209)"
          ],
          [
           0.9,
           "rgb(69,117,180)"
          ],
          [
           1,
           "rgb(49,54,149)"
          ]
         ]
        },
        "height": 800,
        "legend": {
         "tracegroupgap": 0
        },
        "margin": {
         "t": 60
        },
        "template": {
         "data": {
          "bar": [
           {
            "error_x": {
             "color": "#2a3f5f"
            },
            "error_y": {
             "color": "#2a3f5f"
            },
            "marker": {
             "line": {
              "color": "#E5ECF6",
              "width": 0.5
             }
            },
            "type": "bar"
           }
          ],
          "barpolar": [
           {
            "marker": {
             "line": {
              "color": "#E5ECF6",
              "width": 0.5
             }
            },
            "type": "barpolar"
           }
          ],
          "carpet": [
           {
            "aaxis": {
             "endlinecolor": "#2a3f5f",
             "gridcolor": "white",
             "linecolor": "white",
             "minorgridcolor": "white",
             "startlinecolor": "#2a3f5f"
            },
            "baxis": {
             "endlinecolor": "#2a3f5f",
             "gridcolor": "white",
             "linecolor": "white",
             "minorgridcolor": "white",
             "startlinecolor": "#2a3f5f"
            },
            "type": "carpet"
           }
          ],
          "choropleth": [
           {
            "colorbar": {
             "outlinewidth": 0,
             "ticks": ""
            },
            "type": "choropleth"
           }
          ],
          "contour": [
           {
            "colorbar": {
             "outlinewidth": 0,
             "ticks": ""
            },
            "colorscale": [
             [
              0,
              "#0d0887"
             ],
             [
              0.1111111111111111,
              "#46039f"
             ],
             [
              0.2222222222222222,
              "#7201a8"
             ],
             [
              0.3333333333333333,
              "#9c179e"
             ],
             [
              0.4444444444444444,
              "#bd3786"
             ],
             [
              0.5555555555555556,
              "#d8576b"
             ],
             [
              0.6666666666666666,
              "#ed7953"
             ],
             [
              0.7777777777777778,
              "#fb9f3a"
             ],
             [
              0.8888888888888888,
              "#fdca26"
             ],
             [
              1,
              "#f0f921"
             ]
            ],
            "type": "contour"
           }
          ],
          "contourcarpet": [
           {
            "colorbar": {
             "outlinewidth": 0,
             "ticks": ""
            },
            "type": "contourcarpet"
           }
          ],
          "heatmap": [
           {
            "colorbar": {
             "outlinewidth": 0,
             "ticks": ""
            },
            "colorscale": [
             [
              0,
              "#0d0887"
             ],
             [
              0.1111111111111111,
              "#46039f"
             ],
             [
              0.2222222222222222,
              "#7201a8"
             ],
             [
              0.3333333333333333,
              "#9c179e"
             ],
             [
              0.4444444444444444,
              "#bd3786"
             ],
             [
              0.5555555555555556,
              "#d8576b"
             ],
             [
              0.6666666666666666,
              "#ed7953"
             ],
             [
              0.7777777777777778,
              "#fb9f3a"
             ],
             [
              0.8888888888888888,
              "#fdca26"
             ],
             [
              1,
              "#f0f921"
             ]
            ],
            "type": "heatmap"
           }
          ],
          "heatmapgl": [
           {
            "colorbar": {
             "outlinewidth": 0,
             "ticks": ""
            },
            "colorscale": [
             [
              0,
              "#0d0887"
             ],
             [
              0.1111111111111111,
              "#46039f"
             ],
             [
              0.2222222222222222,
              "#7201a8"
             ],
             [
              0.3333333333333333,
              "#9c179e"
             ],
             [
              0.4444444444444444,
              "#bd3786"
             ],
             [
              0.5555555555555556,
              "#d8576b"
             ],
             [
              0.6666666666666666,
              "#ed7953"
             ],
             [
              0.7777777777777778,
              "#fb9f3a"
             ],
             [
              0.8888888888888888,
              "#fdca26"
             ],
             [
              1,
              "#f0f921"
             ]
            ],
            "type": "heatmapgl"
           }
          ],
          "histogram": [
           {
            "marker": {
             "colorbar": {
              "outlinewidth": 0,
              "ticks": ""
             }
            },
            "type": "histogram"
           }
          ],
          "histogram2d": [
           {
            "colorbar": {
             "outlinewidth": 0,
             "ticks": ""
            },
            "colorscale": [
             [
              0,
              "#0d0887"
             ],
             [
              0.1111111111111111,
              "#46039f"
             ],
             [
              0.2222222222222222,
              "#7201a8"
             ],
             [
              0.3333333333333333,
              "#9c179e"
             ],
             [
              0.4444444444444444,
              "#bd3786"
             ],
             [
              0.5555555555555556,
              "#d8576b"
             ],
             [
              0.6666666666666666,
              "#ed7953"
             ],
             [
              0.7777777777777778,
              "#fb9f3a"
             ],
             [
              0.8888888888888888,
              "#fdca26"
             ],
             [
              1,
              "#f0f921"
             ]
            ],
            "type": "histogram2d"
           }
          ],
          "histogram2dcontour": [
           {
            "colorbar": {
             "outlinewidth": 0,
             "ticks": ""
            },
            "colorscale": [
             [
              0,
              "#0d0887"
             ],
             [
              0.1111111111111111,
              "#46039f"
             ],
             [
              0.2222222222222222,
              "#7201a8"
             ],
             [
              0.3333333333333333,
              "#9c179e"
             ],
             [
              0.4444444444444444,
              "#bd3786"
             ],
             [
              0.5555555555555556,
              "#d8576b"
             ],
             [
              0.6666666666666666,
              "#ed7953"
             ],
             [
              0.7777777777777778,
              "#fb9f3a"
             ],
             [
              0.8888888888888888,
              "#fdca26"
             ],
             [
              1,
              "#f0f921"
             ]
            ],
            "type": "histogram2dcontour"
           }
          ],
          "mesh3d": [
           {
            "colorbar": {
             "outlinewidth": 0,
             "ticks": ""
            },
            "type": "mesh3d"
           }
          ],
          "parcoords": [
           {
            "line": {
             "colorbar": {
              "outlinewidth": 0,
              "ticks": ""
             }
            },
            "type": "parcoords"
           }
          ],
          "pie": [
           {
            "automargin": true,
            "type": "pie"
           }
          ],
          "scatter": [
           {
            "marker": {
             "colorbar": {
              "outlinewidth": 0,
              "ticks": ""
             }
            },
            "type": "scatter"
           }
          ],
          "scatter3d": [
           {
            "line": {
             "colorbar": {
              "outlinewidth": 0,
              "ticks": ""
             }
            },
            "marker": {
             "colorbar": {
              "outlinewidth": 0,
              "ticks": ""
             }
            },
            "type": "scatter3d"
           }
          ],
          "scattercarpet": [
           {
            "marker": {
             "colorbar": {
              "outlinewidth": 0,
              "ticks": ""
             }
            },
            "type": "scattercarpet"
           }
          ],
          "scattergeo": [
           {
            "marker": {
             "colorbar": {
              "outlinewidth": 0,
              "ticks": ""
             }
            },
            "type": "scattergeo"
           }
          ],
          "scattergl": [
           {
            "marker": {
             "colorbar": {
              "outlinewidth": 0,
              "ticks": ""
             }
            },
            "type": "scattergl"
           }
          ],
          "scattermapbox": [
           {
            "marker": {
             "colorbar": {
              "outlinewidth": 0,
              "ticks": ""
             }
            },
            "type": "scattermapbox"
           }
          ],
          "scatterpolar": [
           {
            "marker": {
             "colorbar": {
              "outlinewidth": 0,
              "ticks": ""
             }
            },
            "type": "scatterpolar"
           }
          ],
          "scatterpolargl": [
           {
            "marker": {
             "colorbar": {
              "outlinewidth": 0,
              "ticks": ""
             }
            },
            "type": "scatterpolargl"
           }
          ],
          "scatterternary": [
           {
            "marker": {
             "colorbar": {
              "outlinewidth": 0,
              "ticks": ""
             }
            },
            "type": "scatterternary"
           }
          ],
          "surface": [
           {
            "colorbar": {
             "outlinewidth": 0,
             "ticks": ""
            },
            "colorscale": [
             [
              0,
              "#0d0887"
             ],
             [
              0.1111111111111111,
              "#46039f"
             ],
             [
              0.2222222222222222,
              "#7201a8"
             ],
             [
              0.3333333333333333,
              "#9c179e"
             ],
             [
              0.4444444444444444,
              "#bd3786"
             ],
             [
              0.5555555555555556,
              "#d8576b"
             ],
             [
              0.6666666666666666,
              "#ed7953"
             ],
             [
              0.7777777777777778,
              "#fb9f3a"
             ],
             [
              0.8888888888888888,
              "#fdca26"
             ],
             [
              1,
              "#f0f921"
             ]
            ],
            "type": "surface"
           }
          ],
          "table": [
           {
            "cells": {
             "fill": {
              "color": "#EBF0F8"
             },
             "line": {
              "color": "white"
             }
            },
            "header": {
             "fill": {
              "color": "#C8D4E3"
             },
             "line": {
              "color": "white"
             }
            },
            "type": "table"
           }
          ]
         },
         "layout": {
          "annotationdefaults": {
           "arrowcolor": "#2a3f5f",
           "arrowhead": 0,
           "arrowwidth": 1
          },
          "coloraxis": {
           "colorbar": {
            "outlinewidth": 0,
            "ticks": ""
           }
          },
          "colorscale": {
           "diverging": [
            [
             0,
             "#8e0152"
            ],
            [
             0.1,
             "#c51b7d"
            ],
            [
             0.2,
             "#de77ae"
            ],
            [
             0.3,
             "#f1b6da"
            ],
            [
             0.4,
             "#fde0ef"
            ],
            [
             0.5,
             "#f7f7f7"
            ],
            [
             0.6,
             "#e6f5d0"
            ],
            [
             0.7,
             "#b8e186"
            ],
            [
             0.8,
             "#7fbc41"
            ],
            [
             0.9,
             "#4d9221"
            ],
            [
             1,
             "#276419"
            ]
           ],
           "sequential": [
            [
             0,
             "#0d0887"
            ],
            [
             0.1111111111111111,
             "#46039f"
            ],
            [
             0.2222222222222222,
             "#7201a8"
            ],
            [
             0.3333333333333333,
             "#9c179e"
            ],
            [
             0.4444444444444444,
             "#bd3786"
            ],
            [
             0.5555555555555556,
             "#d8576b"
            ],
            [
             0.6666666666666666,
             "#ed7953"
            ],
            [
             0.7777777777777778,
             "#fb9f3a"
            ],
            [
             0.8888888888888888,
             "#fdca26"
            ],
            [
             1,
             "#f0f921"
            ]
           ],
           "sequentialminus": [
            [
             0,
             "#0d0887"
            ],
            [
             0.1111111111111111,
             "#46039f"
            ],
            [
             0.2222222222222222,
             "#7201a8"
            ],
            [
             0.3333333333333333,
             "#9c179e"
            ],
            [
             0.4444444444444444,
             "#bd3786"
            ],
            [
             0.5555555555555556,
             "#d8576b"
            ],
            [
             0.6666666666666666,
             "#ed7953"
            ],
            [
             0.7777777777777778,
             "#fb9f3a"
            ],
            [
             0.8888888888888888,
             "#fdca26"
            ],
            [
             1,
             "#f0f921"
            ]
           ]
          },
          "colorway": [
           "#636efa",
           "#EF553B",
           "#00cc96",
           "#ab63fa",
           "#FFA15A",
           "#19d3f3",
           "#FF6692",
           "#B6E880",
           "#FF97FF",
           "#FECB52"
          ],
          "font": {
           "color": "#2a3f5f"
          },
          "geo": {
           "bgcolor": "white",
           "lakecolor": "white",
           "landcolor": "#E5ECF6",
           "showlakes": true,
           "showland": true,
           "subunitcolor": "white"
          },
          "hoverlabel": {
           "align": "left"
          },
          "hovermode": "closest",
          "mapbox": {
           "style": "light"
          },
          "paper_bgcolor": "white",
          "plot_bgcolor": "#E5ECF6",
          "polar": {
           "angularaxis": {
            "gridcolor": "white",
            "linecolor": "white",
            "ticks": ""
           },
           "bgcolor": "#E5ECF6",
           "radialaxis": {
            "gridcolor": "white",
            "linecolor": "white",
            "ticks": ""
           }
          },
          "scene": {
           "xaxis": {
            "backgroundcolor": "#E5ECF6",
            "gridcolor": "white",
            "gridwidth": 2,
            "linecolor": "white",
            "showbackground": true,
            "ticks": "",
            "zerolinecolor": "white"
           },
           "yaxis": {
            "backgroundcolor": "#E5ECF6",
            "gridcolor": "white",
            "gridwidth": 2,
            "linecolor": "white",
            "showbackground": true,
            "ticks": "",
            "zerolinecolor": "white"
           },
           "zaxis": {
            "backgroundcolor": "#E5ECF6",
            "gridcolor": "white",
            "gridwidth": 2,
            "linecolor": "white",
            "showbackground": true,
            "ticks": "",
            "zerolinecolor": "white"
           }
          },
          "shapedefaults": {
           "line": {
            "color": "#2a3f5f"
           }
          },
          "ternary": {
           "aaxis": {
            "gridcolor": "white",
            "linecolor": "white",
            "ticks": ""
           },
           "baxis": {
            "gridcolor": "white",
            "linecolor": "white",
            "ticks": ""
           },
           "bgcolor": "#E5ECF6",
           "caxis": {
            "gridcolor": "white",
            "linecolor": "white",
            "ticks": ""
           }
          },
          "title": {
           "x": 0.05
          },
          "xaxis": {
           "automargin": true,
           "gridcolor": "white",
           "linecolor": "white",
           "ticks": "",
           "title": {
            "standoff": 15
           },
           "zerolinecolor": "white",
           "zerolinewidth": 2
          },
          "yaxis": {
           "automargin": true,
           "gridcolor": "white",
           "linecolor": "white",
           "ticks": "",
           "title": {
            "standoff": 15
           },
           "zerolinecolor": "white",
           "zerolinewidth": 2
          }
         }
        },
        "title": {
         "text": "How would you rate your satisfaction with your life overall on a scale from 0-10? (10=completely satisfied).<br>Descriptive analysis by subgroup: tiles are proportional to rel. frequencies of the choices within a subgroup"
        },
        "width": 1000
       }
      },
      "text/html": [
       "<div>\n",
       "        \n",
       "        \n",
       "            <div id=\"8c20fccb-7d36-42f3-9972-2c1c47c02db4\" class=\"plotly-graph-div\" style=\"height:800px; width:1000px;\"></div>\n",
       "            <script type=\"text/javascript\">\n",
       "                require([\"plotly\"], function(Plotly) {\n",
       "                    window.PLOTLYENV=window.PLOTLYENV || {};\n",
       "                    \n",
       "                if (document.getElementById(\"8c20fccb-7d36-42f3-9972-2c1c47c02db4\")) {\n",
       "                    Plotly.newPlot(\n",
       "                        '8c20fccb-7d36-42f3-9972-2c1c47c02db4',\n",
       "                        [{\"branchvalues\": \"total\", \"customdata\": [[7.558], [7.788], [7.699000000000001], [7.712], [7.208000000000001], [7.41], [7.613], [7.703], [7.594], [7.562000000000001], [6.588000000000001], [7.539000000000001], [7.5120000000000005], [7.583], [7.791000000000001], [7.748], [7.096], [7.411], [7.593], [7.655], [7.372000000000001], [7.411], [7.475], [7.48], [7.436], [7.54], [7.626], [7.574], [7.59], [7.703], [7.0], [7.404], [8.0], [9.0], [7.395], [7.618999999999999], [7.529], [7.5], [7.609], [7.583000000000001], [7.5], [6.333], [7.397], [7.466], [7.425], [7.22], [7.545], [7.465], [7.429000000000001], [7.399], [7.6129999999999995], [8.019], [7.535], [7.324], [7.684000000000001], [7.699], [7.406], [7.641], [7.738], [7.773000000000001], [7.834], [7.425], [7.874], [7.882000000000001], [7.622], [7.844], [7.860000000000001], [7.957000000000001], [7.843], [7.936], [7.7589999999999995], [7.555742], [7.555579000000001], [7.554986], [7.556076000000001], [7.555774], [7.556318000000001], [7.555667000000001], [7.55541941941942], [7.555743], [7.555587], [7.555434000000001], [7.555700299700301], [7.555549], [7.555508491508491]], \"domain\": {\"x\": [0.0, 1.0], \"y\": [0.0, 1.0]}, \"hovertemplate\": \"labels=%{label}<br>Percentage=%{value}<br>parent=%{parent}<br>id=%{id}<br>Mean of satisfaction=%{color}<extra></extra>\", \"ids\": [\"Net income/1000- <2000\", \"Net income/2000- <3000\", \"Age/30-40\", \"Working hours/35-45h\", \"Doctor visits per year/7-10 visits\", \"Net income/<1000\", \"Age/<30\", \"Working hours/<35h\", \"Doctor visits per year/<6 visits\", \"BMI/<=30\", \"Doctor visits per year/>10 visits\", \"BMI/>30\", \"Age/>40\", \"Working hours/>45h\", \"Net income/>=3000\", \"Smoker/N\", \"Smoker/Y\", \"Highest edu. grade/apprenticeship\", \"Highest edu. grade (father)/commercial teaching\", \"Highest educational grade (mother)/commercial teaching\", \"Graduation/elementary school\", \"Graduation of father/elementary school\", \"Graduation of mother/elementary school\", \"Gender/female\", \"Highest edu. grade (father)/industrial/agric. teaching\", \"Highest educational grade (mother)/industrial/agric. teaching\", \"Gender/male\", \"Highest edu. grade/master craftman\", \"Highest edu. grade (father)/master craftman\", \"Highest educational grade (mother)/master craftman\", \"Age/missing\", \"BMI/missing\", \"Doctor visits per year/missing\", \"Employment status/missing\", \"Graduation/missing\", \"Graduation of father/missing\", \"Graduation of mother/missing\", \"Highest edu. grade/missing\", \"Highest edu. grade (father)/missing\", \"Highest educational grade (mother)/missing\", \"Net income/missing\", \"Smoker/missing\", \"Working hours/missing\", \"Graduation/no degree\", \"Graduation of father/no degree\", \"Graduation of mother/no degree\", \"Highest edu. grade/no degree\", \"Highest edu. grade (father)/no degree\", \"Highest educational grade (mother)/no degree\", \"Employment status/non-working\", \"Highest edu. grade/other degree\", \"Highest edu. grade (father)/other degree\", \"Highest educational grade (mother)/other degree\", \"Employment status/part-time job\", \"Employment status/regular full-time\", \"Employment status/regular half-time\", \"Graduation/secondary school\", \"Graduation of father/secondary school\", \"Graduation of mother/secondary school\", \"Highest edu. grade/tech.college degree\", \"Highest edu. grade (father)/tech.college degree\", \"Highest educational grade (mother)/tech.college degree\", \"Graduation/tech.college entrance qual.\", \"Graduation of father/tech.college entrance qual.\", \"Graduation of mother/tech.college entrance qual.\", \"Highest edu. grade/university degree\", \"Highest edu. grade (father)/university degree\", \"Highest educational grade (mother)/university degree\", \"Graduation/university entrance\", \"Graduation of father/university entrance\", \"Graduation of mother/university entrance\", \"Age\", \"BMI\", \"Doctor visits per year\", \"Employment status\", \"Gender\", \"Graduation\", \"Graduation of father\", \"Graduation of mother\", \"Highest edu. grade\", \"Highest edu. grade (father)\", \"Highest educational grade (mother)\", \"Net income\", \"Smoker\", \"Working hours\"], \"labels\": [\"1000- <2000\", \"2000- <3000\", \"30-40\", \"35-45h\", \"7-10 visits\", \"<1000\", \"<30\", \"<35h\", \"<6 visits\", \"<=30\", \">10 visits\", \">30\", \">40\", \">45h\", \">=3000\", \"N\", \"Y\", \"apprenticeship\", \"commercial teaching\", \"commercial teaching\", \"elementary school\", \"elementary school\", \"elementary school\", \"female\", \"industrial/agric. teaching\", \"industrial/agric. teaching\", \"male\", \"master craftman\", \"master craftman\", \"master craftman\", \"missing\", \"missing\", \"missing\", \"missing\", \"missing\", \"missing\", \"missing\", \"missing\", \"missing\", \"missing\", \"missing\", \"missing\", \"missing\", \"no degree\", \"no degree\", \"no degree\", \"no degree\", \"no degree\", \"no degree\", \"non-working\", \"other degree\", \"other degree\", \"other degree\", \"part-time job\", \"regular full-time\", \"regular half-time\", \"secondary school\", \"secondary school\", \"secondary school\", \"tech.college degree\", \"tech.college degree\", \"tech.college degree\", \"tech.college entrance qual.\", \"tech.college entrance qual.\", \"tech.college entrance qual.\", \"university degree\", \"university degree\", \"university degree\", \"university entrance\", \"university entrance\", \"university entrance\", \"Age\", \"BMI\", \"Doctor visits per year\", \"Employment status\", \"Gender\", \"Graduation\", \"Graduation of father\", \"Graduation of mother\", \"Highest edu. grade\", \"Highest edu. grade (father)\", \"Highest educational grade (mother)\", \"Net income\", \"Smoker\", \"Working hours\"], \"marker\": {\"coloraxis\": \"coloraxis\", \"colors\": [7.558, 7.788, 7.699000000000001, 7.712, 7.208000000000001, 7.41, 7.613, 7.703, 7.594, 7.562000000000001, 6.588000000000001, 7.539000000000001, 7.5120000000000005, 7.583, 7.791000000000001, 7.748, 7.096, 7.411, 7.593, 7.655, 7.372000000000001, 7.411, 7.475, 7.48, 7.436, 7.54, 7.626, 7.574, 7.59, 7.703, 7.0, 7.404, 8.0, 9.0, 7.395, 7.618999999999999, 7.529, 7.5, 7.609, 7.583000000000001, 7.5, 6.333, 7.397, 7.466, 7.425, 7.22, 7.545, 7.465, 7.429000000000001, 7.399, 7.6129999999999995, 8.019, 7.535, 7.324, 7.684000000000001, 7.699, 7.406, 7.641, 7.738, 7.773000000000001, 7.834, 7.425, 7.874, 7.882000000000001, 7.622, 7.844, 7.860000000000001, 7.957000000000001, 7.843, 7.936, 7.7589999999999995, 7.555742, 7.555579000000001, 7.554986, 7.556076000000001, 7.555774, 7.556318000000001, 7.555667000000001, 7.55541941941942, 7.555743, 7.555587, 7.555434000000001, 7.555700299700301, 7.555549, 7.555508491508491]}, \"name\": \"\", \"parents\": [\"Net income\", \"Net income\", \"Age\", \"Working hours\", \"Doctor visits per year\", \"Net income\", \"Age\", \"Working hours\", \"Doctor visits per year\", \"BMI\", \"Doctor visits per year\", \"BMI\", \"Age\", \"Working hours\", \"Net income\", \"Smoker\", \"Smoker\", \"Highest edu. grade\", \"Highest edu. grade (father)\", \"Highest educational grade (mother)\", \"Graduation\", \"Graduation of father\", \"Graduation of mother\", \"Gender\", \"Highest edu. grade (father)\", \"Highest educational grade (mother)\", \"Gender\", \"Highest edu. grade\", \"Highest edu. grade (father)\", \"Highest educational grade (mother)\", \"Age\", \"BMI\", \"Doctor visits per year\", \"Employment status\", \"Graduation\", \"Graduation of father\", \"Graduation of mother\", \"Highest edu. grade\", \"Highest edu. grade (father)\", \"Highest educational grade (mother)\", \"Net income\", \"Smoker\", \"Working hours\", \"Graduation\", \"Graduation of father\", \"Graduation of mother\", \"Highest edu. grade\", \"Highest edu. grade (father)\", \"Highest educational grade (mother)\", \"Employment status\", \"Highest edu. grade\", \"Highest edu. grade (father)\", \"Highest educational grade (mother)\", \"Employment status\", \"Employment status\", \"Employment status\", \"Graduation\", \"Graduation of father\", \"Graduation of mother\", \"Highest edu. grade\", \"Highest edu. grade (father)\", \"Highest educational grade (mother)\", \"Graduation\", \"Graduation of father\", \"Graduation of mother\", \"Highest edu. grade\", \"Highest edu. grade (father)\", \"Highest educational grade (mother)\", \"Graduation\", \"Graduation of father\", \"Graduation of mother\", \"\", \"\", \"\", \"\", \"\", \"\", \"\", \"\", \"\", \"\", \"\", \"\", \"\", \"\"], \"type\": \"treemap\", \"values\": [0.31, 0.142, 0.174, 0.327, 0.05, 0.261, 0.116, 0.112, 0.929, 0.803, 0.02, 0.183, 0.709, 0.115, 0.07, 0.706, 0.293, 0.448, 0.067, 0.219, 0.272, 0.53, 0.564, 0.481, 0.43, 0.24, 0.519, 0.11, 0.114, 0.043, 0.001, 0.014, 0.001, 0.001, 0.011, 0.111, 0.065, 0.006, 0.095, 0.076, 0.218, 0.001, 0.447, 0.021, 0.035, 0.037, 0.132, 0.128, 0.32, 0.379, 0.077, 0.015, 0.025, 0.063, 0.46, 0.097, 0.339, 0.159, 0.226, 0.074, 0.054, 0.031, 0.078, 0.039, 0.026, 0.153, 0.097, 0.046, 0.279, 0.126, 0.081, 0.9999999999999999, 1.0, 1.0, 1.0, 1.0, 1.0, 1.0, 0.999, 1.0, 1.0, 1.0, 1.001, 0.9999999999999999, 1.0010000000000001]}],\n",
       "                        {\"coloraxis\": {\"colorbar\": {\"title\": {\"text\": \"Mean of satisfaction\"}}, \"colorscale\": [[0.0, \"rgb(165,0,38)\"], [0.1, \"rgb(215,48,39)\"], [0.2, \"rgb(244,109,67)\"], [0.3, \"rgb(253,174,97)\"], [0.4, \"rgb(254,224,144)\"], [0.5, \"rgb(255,255,191)\"], [0.6, \"rgb(224,243,248)\"], [0.7, \"rgb(171,217,233)\"], [0.8, \"rgb(116,173,209)\"], [0.9, \"rgb(69,117,180)\"], [1.0, \"rgb(49,54,149)\"]]}, \"height\": 800, \"legend\": {\"tracegroupgap\": 0}, \"margin\": {\"t\": 60}, \"template\": {\"data\": {\"bar\": [{\"error_x\": {\"color\": \"#2a3f5f\"}, \"error_y\": {\"color\": \"#2a3f5f\"}, \"marker\": {\"line\": {\"color\": \"#E5ECF6\", \"width\": 0.5}}, \"type\": \"bar\"}], \"barpolar\": [{\"marker\": {\"line\": {\"color\": \"#E5ECF6\", \"width\": 0.5}}, \"type\": \"barpolar\"}], \"carpet\": [{\"aaxis\": {\"endlinecolor\": \"#2a3f5f\", \"gridcolor\": \"white\", \"linecolor\": \"white\", \"minorgridcolor\": \"white\", \"startlinecolor\": \"#2a3f5f\"}, \"baxis\": {\"endlinecolor\": \"#2a3f5f\", \"gridcolor\": \"white\", \"linecolor\": \"white\", \"minorgridcolor\": \"white\", \"startlinecolor\": \"#2a3f5f\"}, \"type\": \"carpet\"}], \"choropleth\": [{\"colorbar\": {\"outlinewidth\": 0, \"ticks\": \"\"}, \"type\": \"choropleth\"}], \"contour\": [{\"colorbar\": {\"outlinewidth\": 0, \"ticks\": \"\"}, \"colorscale\": [[0.0, \"#0d0887\"], [0.1111111111111111, \"#46039f\"], [0.2222222222222222, \"#7201a8\"], [0.3333333333333333, \"#9c179e\"], [0.4444444444444444, \"#bd3786\"], [0.5555555555555556, \"#d8576b\"], [0.6666666666666666, \"#ed7953\"], [0.7777777777777778, \"#fb9f3a\"], [0.8888888888888888, \"#fdca26\"], [1.0, \"#f0f921\"]], \"type\": \"contour\"}], \"contourcarpet\": [{\"colorbar\": {\"outlinewidth\": 0, \"ticks\": \"\"}, \"type\": \"contourcarpet\"}], \"heatmap\": [{\"colorbar\": {\"outlinewidth\": 0, \"ticks\": \"\"}, \"colorscale\": [[0.0, \"#0d0887\"], [0.1111111111111111, \"#46039f\"], [0.2222222222222222, \"#7201a8\"], [0.3333333333333333, \"#9c179e\"], [0.4444444444444444, \"#bd3786\"], [0.5555555555555556, \"#d8576b\"], [0.6666666666666666, \"#ed7953\"], [0.7777777777777778, \"#fb9f3a\"], [0.8888888888888888, \"#fdca26\"], [1.0, \"#f0f921\"]], \"type\": \"heatmap\"}], \"heatmapgl\": [{\"colorbar\": {\"outlinewidth\": 0, \"ticks\": \"\"}, \"colorscale\": [[0.0, \"#0d0887\"], [0.1111111111111111, \"#46039f\"], [0.2222222222222222, \"#7201a8\"], [0.3333333333333333, \"#9c179e\"], [0.4444444444444444, \"#bd3786\"], [0.5555555555555556, \"#d8576b\"], [0.6666666666666666, \"#ed7953\"], [0.7777777777777778, \"#fb9f3a\"], [0.8888888888888888, \"#fdca26\"], [1.0, \"#f0f921\"]], \"type\": \"heatmapgl\"}], \"histogram\": [{\"marker\": {\"colorbar\": {\"outlinewidth\": 0, \"ticks\": \"\"}}, \"type\": \"histogram\"}], \"histogram2d\": [{\"colorbar\": {\"outlinewidth\": 0, \"ticks\": \"\"}, \"colorscale\": [[0.0, \"#0d0887\"], [0.1111111111111111, \"#46039f\"], [0.2222222222222222, \"#7201a8\"], [0.3333333333333333, \"#9c179e\"], [0.4444444444444444, \"#bd3786\"], [0.5555555555555556, \"#d8576b\"], [0.6666666666666666, \"#ed7953\"], [0.7777777777777778, \"#fb9f3a\"], [0.8888888888888888, \"#fdca26\"], [1.0, \"#f0f921\"]], \"type\": \"histogram2d\"}], \"histogram2dcontour\": [{\"colorbar\": {\"outlinewidth\": 0, \"ticks\": \"\"}, \"colorscale\": [[0.0, \"#0d0887\"], [0.1111111111111111, \"#46039f\"], [0.2222222222222222, \"#7201a8\"], [0.3333333333333333, \"#9c179e\"], [0.4444444444444444, \"#bd3786\"], [0.5555555555555556, \"#d8576b\"], [0.6666666666666666, \"#ed7953\"], [0.7777777777777778, \"#fb9f3a\"], [0.8888888888888888, \"#fdca26\"], [1.0, \"#f0f921\"]], \"type\": \"histogram2dcontour\"}], \"mesh3d\": [{\"colorbar\": {\"outlinewidth\": 0, \"ticks\": \"\"}, \"type\": \"mesh3d\"}], \"parcoords\": [{\"line\": {\"colorbar\": {\"outlinewidth\": 0, \"ticks\": \"\"}}, \"type\": \"parcoords\"}], \"pie\": [{\"automargin\": true, \"type\": \"pie\"}], \"scatter\": [{\"marker\": {\"colorbar\": {\"outlinewidth\": 0, \"ticks\": \"\"}}, \"type\": \"scatter\"}], \"scatter3d\": [{\"line\": {\"colorbar\": {\"outlinewidth\": 0, \"ticks\": \"\"}}, \"marker\": {\"colorbar\": {\"outlinewidth\": 0, \"ticks\": \"\"}}, \"type\": \"scatter3d\"}], \"scattercarpet\": [{\"marker\": {\"colorbar\": {\"outlinewidth\": 0, \"ticks\": \"\"}}, \"type\": \"scattercarpet\"}], \"scattergeo\": [{\"marker\": {\"colorbar\": {\"outlinewidth\": 0, \"ticks\": \"\"}}, \"type\": \"scattergeo\"}], \"scattergl\": [{\"marker\": {\"colorbar\": {\"outlinewidth\": 0, \"ticks\": \"\"}}, \"type\": \"scattergl\"}], \"scattermapbox\": [{\"marker\": {\"colorbar\": {\"outlinewidth\": 0, \"ticks\": \"\"}}, \"type\": \"scattermapbox\"}], \"scatterpolar\": [{\"marker\": {\"colorbar\": {\"outlinewidth\": 0, \"ticks\": \"\"}}, \"type\": \"scatterpolar\"}], \"scatterpolargl\": [{\"marker\": {\"colorbar\": {\"outlinewidth\": 0, \"ticks\": \"\"}}, \"type\": \"scatterpolargl\"}], \"scatterternary\": [{\"marker\": {\"colorbar\": {\"outlinewidth\": 0, \"ticks\": \"\"}}, \"type\": \"scatterternary\"}], \"surface\": [{\"colorbar\": {\"outlinewidth\": 0, \"ticks\": \"\"}, \"colorscale\": [[0.0, \"#0d0887\"], [0.1111111111111111, \"#46039f\"], [0.2222222222222222, \"#7201a8\"], [0.3333333333333333, \"#9c179e\"], [0.4444444444444444, \"#bd3786\"], [0.5555555555555556, \"#d8576b\"], [0.6666666666666666, \"#ed7953\"], [0.7777777777777778, \"#fb9f3a\"], [0.8888888888888888, \"#fdca26\"], [1.0, \"#f0f921\"]], \"type\": \"surface\"}], \"table\": [{\"cells\": {\"fill\": {\"color\": \"#EBF0F8\"}, \"line\": {\"color\": \"white\"}}, \"header\": {\"fill\": {\"color\": \"#C8D4E3\"}, \"line\": {\"color\": \"white\"}}, \"type\": \"table\"}]}, \"layout\": {\"annotationdefaults\": {\"arrowcolor\": \"#2a3f5f\", \"arrowhead\": 0, \"arrowwidth\": 1}, \"coloraxis\": {\"colorbar\": {\"outlinewidth\": 0, \"ticks\": \"\"}}, \"colorscale\": {\"diverging\": [[0, \"#8e0152\"], [0.1, \"#c51b7d\"], [0.2, \"#de77ae\"], [0.3, \"#f1b6da\"], [0.4, \"#fde0ef\"], [0.5, \"#f7f7f7\"], [0.6, \"#e6f5d0\"], [0.7, \"#b8e186\"], [0.8, \"#7fbc41\"], [0.9, \"#4d9221\"], [1, \"#276419\"]], \"sequential\": [[0.0, \"#0d0887\"], [0.1111111111111111, \"#46039f\"], [0.2222222222222222, \"#7201a8\"], [0.3333333333333333, \"#9c179e\"], [0.4444444444444444, \"#bd3786\"], [0.5555555555555556, \"#d8576b\"], [0.6666666666666666, \"#ed7953\"], [0.7777777777777778, \"#fb9f3a\"], [0.8888888888888888, \"#fdca26\"], [1.0, \"#f0f921\"]], \"sequentialminus\": [[0.0, \"#0d0887\"], [0.1111111111111111, \"#46039f\"], [0.2222222222222222, \"#7201a8\"], [0.3333333333333333, \"#9c179e\"], [0.4444444444444444, \"#bd3786\"], [0.5555555555555556, \"#d8576b\"], [0.6666666666666666, \"#ed7953\"], [0.7777777777777778, \"#fb9f3a\"], [0.8888888888888888, \"#fdca26\"], [1.0, \"#f0f921\"]]}, \"colorway\": [\"#636efa\", \"#EF553B\", \"#00cc96\", \"#ab63fa\", \"#FFA15A\", \"#19d3f3\", \"#FF6692\", \"#B6E880\", \"#FF97FF\", \"#FECB52\"], \"font\": {\"color\": \"#2a3f5f\"}, \"geo\": {\"bgcolor\": \"white\", \"lakecolor\": \"white\", \"landcolor\": \"#E5ECF6\", \"showlakes\": true, \"showland\": true, \"subunitcolor\": \"white\"}, \"hoverlabel\": {\"align\": \"left\"}, \"hovermode\": \"closest\", \"mapbox\": {\"style\": \"light\"}, \"paper_bgcolor\": \"white\", \"plot_bgcolor\": \"#E5ECF6\", \"polar\": {\"angularaxis\": {\"gridcolor\": \"white\", \"linecolor\": \"white\", \"ticks\": \"\"}, \"bgcolor\": \"#E5ECF6\", \"radialaxis\": {\"gridcolor\": \"white\", \"linecolor\": \"white\", \"ticks\": \"\"}}, \"scene\": {\"xaxis\": {\"backgroundcolor\": \"#E5ECF6\", \"gridcolor\": \"white\", \"gridwidth\": 2, \"linecolor\": \"white\", \"showbackground\": true, \"ticks\": \"\", \"zerolinecolor\": \"white\"}, \"yaxis\": {\"backgroundcolor\": \"#E5ECF6\", \"gridcolor\": \"white\", \"gridwidth\": 2, \"linecolor\": \"white\", \"showbackground\": true, \"ticks\": \"\", \"zerolinecolor\": \"white\"}, \"zaxis\": {\"backgroundcolor\": \"#E5ECF6\", \"gridcolor\": \"white\", \"gridwidth\": 2, \"linecolor\": \"white\", \"showbackground\": true, \"ticks\": \"\", \"zerolinecolor\": \"white\"}}, \"shapedefaults\": {\"line\": {\"color\": \"#2a3f5f\"}}, \"ternary\": {\"aaxis\": {\"gridcolor\": \"white\", \"linecolor\": \"white\", \"ticks\": \"\"}, \"baxis\": {\"gridcolor\": \"white\", \"linecolor\": \"white\", \"ticks\": \"\"}, \"bgcolor\": \"#E5ECF6\", \"caxis\": {\"gridcolor\": \"white\", \"linecolor\": \"white\", \"ticks\": \"\"}}, \"title\": {\"x\": 0.05}, \"xaxis\": {\"automargin\": true, \"gridcolor\": \"white\", \"linecolor\": \"white\", \"ticks\": \"\", \"title\": {\"standoff\": 15}, \"zerolinecolor\": \"white\", \"zerolinewidth\": 2}, \"yaxis\": {\"automargin\": true, \"gridcolor\": \"white\", \"linecolor\": \"white\", \"ticks\": \"\", \"title\": {\"standoff\": 15}, \"zerolinecolor\": \"white\", \"zerolinewidth\": 2}}}, \"title\": {\"text\": \"How would you rate your satisfaction with your life overall on a scale from 0-10? (10=completely satisfied).<br>Descriptive analysis by subgroup: tiles are proportional to rel. frequencies of the choices within a subgroup\"}, \"width\": 1000},\n",
       "                        {\"responsive\": true}\n",
       "                    ).then(function(){\n",
       "                            \n",
       "var gd = document.getElementById('8c20fccb-7d36-42f3-9972-2c1c47c02db4');\n",
       "var x = new MutationObserver(function (mutations, observer) {{\n",
       "        var display = window.getComputedStyle(gd).display;\n",
       "        if (!display || display === 'none') {{\n",
       "            console.log([gd, 'removed!']);\n",
       "            Plotly.purge(gd);\n",
       "            observer.disconnect();\n",
       "        }}\n",
       "}});\n",
       "\n",
       "// Listen for the removal of the full notebook cells\n",
       "var notebookContainer = gd.closest('#notebook-container');\n",
       "if (notebookContainer) {{\n",
       "    x.observe(notebookContainer, {childList: true});\n",
       "}}\n",
       "\n",
       "// Listen for the clearing of the current output cell\n",
       "var outputEl = gd.closest('.output');\n",
       "if (outputEl) {{\n",
       "    x.observe(outputEl, {childList: true});\n",
       "}}\n",
       "\n",
       "                        })\n",
       "                };\n",
       "                });\n",
       "            </script>\n",
       "        </div>"
      ]
     },
     "metadata": {},
     "output_type": "display_data"
    }
   ],
   "source": [
    "fig = px.treemap(d1,\n",
    "                 path=['Labels', 'Group'], # nesting structure: First \"Labels\" then values within the Labels group as \"Group\"\n",
    "                 color='Mean of satisfaction', # Variable for coloring the tiles\n",
    "                 values='Percentage', # this is the variable that controls the partitioning of the tiles,\n",
    "                                      # we want the tiles to be propotional to \"Percentage\"\n",
    "                 color_continuous_scale='RdYlBu' # color palette             \n",
    "                 )\n",
    "\n",
    "# save title as string variable\n",
    "my_title = (\"How would you rate your satisfaction with your life overall on a scale from 0-10? (10=completely satisfied).\" +\n",
    "            \"<br>Descriptive analysis by subgroup: tiles are proportional to rel. frequencies of the choices within a subgroup\")\n",
    "            \n",
    "# update to show the title\n",
    "fig.update_layout(title=my_title, width=1000, height=800)\n",
    "# show the figure\n",
    "fig.show()"
   ]
  },
  {
   "cell_type": "markdown",
   "metadata": {},
   "source": [
    "The above plot is interactive. We have the ability to zoom into the subgroups. The zoom ability allows us to better see the smaller text. The plot also allows for mouse over effects. Here we get the numbers on the percentages for the categorical variables and the mean of the outcome variable for every subgroup. We observe that graduation grade, non-smoker, being healthy (few doctor's visits per year) correlate positively with satisfaction. The treemap approach to the data that we have demonstrated here is only one possible suggestion of many. Feel free to further explore the data set with other statistical methods. For example one could use regression modeling to look at the variables that contribute to the outcome `satisfaction` the most or use other visual tools like boxplots to capture variability."
   ]
  },
  {
   "cell_type": "markdown",
   "metadata": {},
   "source": [
    "## 6. Comparison of different implementation methods\n",
    "In this Jupyter tutorial we showed how to create efficient overview graphics for questionnaire data about quality of life. We used the `ggplot2` approach in `R` and the `plotly` module in `python`. The advantage of using `plotly` is that it easily incorporates mouse over effects for the tiles. Additionally one can zoom into the subgroups and have therefore a better view on the proportions and text labels of the tiles. Please note that the `plotly` package is also available for the `R` Programming Language. We intentionally showed two different approaches. An interactive graphic is also achievable with `R`. But we noticed that producing an interactive plot in `R` with `plotly` is a bit more advanced if you're not familiar with the `plotly` functionality, see [documentation](https://plotly.com/r/reference/). `Python` has the same hurdle when it comes to `plotly` but we were able to produce a decent output without diving too deep into it. Note that the [d3treeR package](https://github.com/d3treeR/d3treeR/) for interactive treemaps may not be fully supported for some R-versions. We had difficulties to reproduce the same output as in `Python` with it. In `SAS®` you would have to use `SAS® Visual Analytics` for treemaps. The `R` and `Python` approaches are open-source and free to use where as `SAS®` comes with a price."
   ]
  },
  {
   "cell_type": "markdown",
   "metadata": {},
   "source": [
    "## 7. Exercises\n",
    "In this section we want to encourage you to get into the programming yourself and solve some fun exercises.\n",
    "<br>\n",
    "<br>\n",
    "***\n",
    "R-Exercises:\n",
    "\n",
    "1. The graphic that we produced with `ggplot` in Jupyter wasn't quite readable, because of the limited dimensions within\n",
    "   the notebook. One solution would be to save the graphic and look at the plot in fullscreen mode on you monitor. \n",
    "   Hint: use `ggsave()`. Get information through the help function `?ggsave` on how to use this command in `R`.\n",
    "   Make sure to try different values for \"width\", \"height\" and \"dpi\" parameters to make the plot more readable.\n",
    "       \n",
    "       \n",
    "2. Customization of colors. We used 'RdYlBu' that emphasized the middle values and the ends of the scale for the plot. \n",
    "   Change the color palette of the tiles to a sequential pattern and observe the difference.\n",
    "   Hint: ?display.brewer.all().\n",
    "***"
   ]
  },
  {
   "cell_type": "markdown",
   "metadata": {},
   "source": [
    "Python-Exercises:\n",
    "***    \n",
    "1. Please save the interactive plot that we produced in `Python` so it can be shared among others.\n",
    "   Hint: [interactive-html-export documentation](https://plotly.com/python/interactive-html-export/).\n",
    "   \n",
    "   \n",
    "2. Change the range of the color scale. In our `Python` example we didn't specify the range of the color schema. Therefore \n",
    "   the color ranges default to the range of the input data. \n",
    "   The color legend start at about 6.4 and goes up to 9. In some cases\n",
    "   you want your color schema to fill the whole range. Adjust the range of the colors and see if that makes any sense for our plot.\n",
    "   Hint: use range_color = [ , ].\n",
    "   \n",
    "   \n",
    "3. Choosing different color scales. There are plenty built-in color schema in `Python`. Use the 'Inferno' and 'Sunset' color scale to see if that fits our data    better.\n",
    "   Hint: You can get the sequential color scale patterns with \n",
    "         fg_cols= px.colors.sequential.swatches()\n",
    "         fg_cols.show()\n",
    "   See also the complete [color scale documentation](https://plotly.com/python/builtin-colorscales/)\n",
    "***"
   ]
  }
 ],
 "metadata": {
  "kernelspec": {
   "display_name": "Python 3",
   "language": "python",
   "name": "python3"
  },
  "language_info": {
   "codemirror_mode": {
    "name": "ipython",
    "version": 3
   },
   "file_extension": ".py",
   "mimetype": "text/x-python",
   "name": "python",
   "nbconvert_exporter": "python",
   "pygments_lexer": "ipython3",
   "version": "3.7.6"
  }
 },
 "nbformat": 4,
 "nbformat_minor": 2
}
